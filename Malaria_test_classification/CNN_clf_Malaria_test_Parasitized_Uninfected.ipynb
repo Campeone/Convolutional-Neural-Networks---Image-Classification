{
  "nbformat": 4,
  "nbformat_minor": 0,
  "metadata": {
    "colab": {
      "provenance": []
    },
    "kernelspec": {
      "name": "python3",
      "display_name": "Python 3"
    },
    "language_info": {
      "name": "python"
    },
    "gpuClass": "standard"
  },
  "cells": [
    {
      "cell_type": "code",
      "execution_count": null,
      "metadata": {
        "id": "CznvUv9Rb7X0"
      },
      "outputs": [],
      "source": [
        "from zipfile import ZipFile \n",
        "\n",
        "# unzip the file \n",
        "zip_ref = ZipFile('/content/drive/MyDrive/Malaria tests/archive (4).zip') \n",
        "zip_ref.extractall('/content/drive/MyDrive/Malaria tests/')\n",
        "zip_ref.close()"
      ]
    },
    {
      "cell_type": "code",
      "source": [
        "!ls '/content/drive/MyDrive/Malaria tests/cell_images'"
      ],
      "metadata": {
        "colab": {
          "base_uri": "https://localhost:8080/"
        },
        "id": "t7pqoSshz2Be",
        "outputId": "20e79343-9cb4-4c42-e034-12dae006eeb5"
      },
      "execution_count": 1,
      "outputs": [
        {
          "output_type": "stream",
          "name": "stdout",
          "text": [
            "cell_images  Parasitized  Uninfected\n"
          ]
        }
      ]
    },
    {
      "cell_type": "code",
      "source": [
        "out_path = '/content/drive/MyDrive/Malaria tests/cell_images/cell_images'"
      ],
      "metadata": {
        "id": "bxynXYdfosHi"
      },
      "execution_count": 3,
      "outputs": []
    },
    {
      "cell_type": "code",
      "source": [
        "import os \n",
        "os.listdir(out_path)"
      ],
      "metadata": {
        "colab": {
          "base_uri": "https://localhost:8080/"
        },
        "id": "jAhbXWCpqMW2",
        "outputId": "1e4de960-d06e-4dd9-d599-7010b9025da6"
      },
      "execution_count": 10,
      "outputs": [
        {
          "output_type": "execute_result",
          "data": {
            "text/plain": [
              "['Parasitized', 'Uninfected']"
            ]
          },
          "metadata": {},
          "execution_count": 10
        }
      ]
    },
    {
      "cell_type": "code",
      "source": [
        "import pathlib \n",
        "malaria_path = pathlib.Path(out_path)\n",
        "malaria_path"
      ],
      "metadata": {
        "colab": {
          "base_uri": "https://localhost:8080/"
        },
        "id": "wMrJ8hlMolug",
        "outputId": "6063d261-849e-4627-916c-394dcb7d315a"
      },
      "execution_count": 21,
      "outputs": [
        {
          "output_type": "execute_result",
          "data": {
            "text/plain": [
              "PosixPath('/content/drive/MyDrive/Malaria tests/cell_images/cell_images')"
            ]
          },
          "metadata": {},
          "execution_count": 21
        }
      ]
    },
    {
      "cell_type": "code",
      "source": [
        "!ls out_path"
      ],
      "metadata": {
        "colab": {
          "base_uri": "https://localhost:8080/"
        },
        "id": "y6LrWfyEpzEF",
        "outputId": "87764d84-5793-4d51-c3d7-8e5df81cd6d0"
      },
      "execution_count": 8,
      "outputs": [
        {
          "output_type": "stream",
          "name": "stdout",
          "text": [
            "ls: cannot access 'out_path': No such file or directory\n"
          ]
        }
      ]
    },
    {
      "cell_type": "code",
      "source": [
        "# Get the top 5 images file path\n",
        "len(list(malaria_path.glob('Uninfected/*.png')))"
      ],
      "metadata": {
        "colab": {
          "base_uri": "https://localhost:8080/"
        },
        "id": "CdCmBupqpIEy",
        "outputId": "783ace99-a790-4cc7-c414-bc47055b7296"
      },
      "execution_count": 22,
      "outputs": [
        {
          "output_type": "execute_result",
          "data": {
            "text/plain": [
              "13779"
            ]
          },
          "metadata": {},
          "execution_count": 22
        }
      ]
    },
    {
      "cell_type": "code",
      "source": [
        "list(malaria_path.glob('Uninfected/*.png'))[0]"
      ],
      "metadata": {
        "colab": {
          "base_uri": "https://localhost:8080/"
        },
        "id": "LjUs25KJsctH",
        "outputId": "5e8e9d79-65f6-4123-baf2-29cc6a76829a"
      },
      "execution_count": 23,
      "outputs": [
        {
          "output_type": "execute_result",
          "data": {
            "text/plain": [
              "PosixPath('/content/drive/MyDrive/Malaria tests/cell_images/cell_images/Uninfected/C85P46ThinF_IMG_20150820_105748_cell_10.png')"
            ]
          },
          "metadata": {},
          "execution_count": 23
        }
      ]
    },
    {
      "cell_type": "code",
      "source": [
        "len(list(malaria_dict.glob('Parasitized/*.png')))"
      ],
      "metadata": {
        "colab": {
          "base_uri": "https://localhost:8080/"
        },
        "id": "zJscEupBq1rD",
        "outputId": "c1b3c3ce-4399-4b1f-a2b1-0b6e44f76b18"
      },
      "execution_count": 16,
      "outputs": [
        {
          "output_type": "execute_result",
          "data": {
            "text/plain": [
              "13779"
            ]
          },
          "metadata": {},
          "execution_count": 16
        }
      ]
    },
    {
      "cell_type": "markdown",
      "source": [
        "### **20% of the Full Data** \n",
        "> I decided to use 20% of the data as the google colab cannot handle the FULL data at the Normalization stage. The RAM overloads and crashes as a result."
      ],
      "metadata": {
        "id": "iD2a62hjIypD"
      }
    },
    {
      "cell_type": "code",
      "source": [
        "malaria_dict = {\n",
        "    'uninfected' : list(malaria_path.glob('Uninfected/*.png'))[1000:3000], \n",
        "    'parasitized' : list(malaria_path.glob('Parasitized/*.png'))[1000:3000]\n",
        "}"
      ],
      "metadata": {
        "id": "ReTd7xh0cxh4"
      },
      "execution_count": 25,
      "outputs": []
    },
    {
      "cell_type": "code",
      "source": [
        "malaria_label = {\n",
        "    'uninfected' : 0, \n",
        "    'parasitized' : 1\n",
        "}"
      ],
      "metadata": {
        "id": "NANe0ysHfo-M"
      },
      "execution_count": 19,
      "outputs": []
    },
    {
      "cell_type": "code",
      "source": [
        "X, y = [], [] \n",
        "\n",
        "import cv2 \n",
        "for image_cls, image_pth in malaria_dict.items(): \n",
        "  for image_p in image_pth: \n",
        "    img = cv2.imread(str(image_p))\n",
        "    resized = cv2.resize(img, (150, 150)) \n",
        "    X.append(resized)\n",
        "    y.append(malaria_label[image_cls])"
      ],
      "metadata": {
        "id": "TRigFhclsWLO"
      },
      "execution_count": 28,
      "outputs": []
    },
    {
      "cell_type": "markdown",
      "source": [
        "### **CONVERT X and y to Numpy arrays**"
      ],
      "metadata": {
        "id": "opi6jvrezdrP"
      }
    },
    {
      "cell_type": "code",
      "source": [
        "import numpy as np\n",
        "X_arr = np.array(X) \n",
        "y_arr = np.array(y)"
      ],
      "metadata": {
        "id": "njOy3ffnzpD0"
      },
      "execution_count": 33,
      "outputs": []
    },
    {
      "cell_type": "code",
      "source": [
        "X_arr.max(), X_arr.min()"
      ],
      "metadata": {
        "colab": {
          "base_uri": "https://localhost:8080/"
        },
        "id": "06k7v4Uuzo3p",
        "outputId": "de42edb0-7d7c-4db4-87ac-07b4c8a5f7f6"
      },
      "execution_count": 35,
      "outputs": [
        {
          "output_type": "execute_result",
          "data": {
            "text/plain": [
              "(253, 0)"
            ]
          },
          "metadata": {},
          "execution_count": 35
        }
      ]
    },
    {
      "cell_type": "markdown",
      "source": [
        "### **SPLIT THE DATASET RANDOMLY TO TRAINING, VALIDATING AND TESTING DATASET**"
      ],
      "metadata": {
        "id": "UiJvrqIpzoiW"
      }
    },
    {
      "cell_type": "code",
      "source": [
        "# import train_test_split \n",
        "# train_full and test data\n",
        "from sklearn.model_selection import train_test_split \n",
        "X_train_full, X_test, y_train_full, y_test = train_test_split(X_arr, y_arr, \n",
        "                                                    random_state = 20, test_size = .15)"
      ],
      "metadata": {
        "id": "aUXlU1iTvWIG"
      },
      "execution_count": 75,
      "outputs": []
    },
    {
      "cell_type": "code",
      "source": [
        "# train and test data\n",
        "from sklearn.model_selection import train_test_split \n",
        "X_train, X_valid, y_train, y_valid = train_test_split(X_train_full, \n",
        "                                                      y_train_full, \n",
        "                                                      random_state = 20, \n",
        "                                                      test_size = .10)"
      ],
      "metadata": {
        "id": "vi_FB-gAvV8a"
      },
      "execution_count": 76,
      "outputs": []
    },
    {
      "cell_type": "markdown",
      "source": [
        "### **NORMALIZE(RESCALE) ALL THE IMAGES TO BETWEEN 0 AND 1**"
      ],
      "metadata": {
        "id": "fxDHWux6vVuC"
      }
    },
    {
      "cell_type": "code",
      "source": [
        "X_train.max(), X_test.max(), X_valid.max()"
      ],
      "metadata": {
        "colab": {
          "base_uri": "https://localhost:8080/"
        },
        "id": "RRukxz2t2IO1",
        "outputId": "77b18507-dd7d-4db7-dc6e-7e8620c3993b"
      },
      "execution_count": 77,
      "outputs": [
        {
          "output_type": "execute_result",
          "data": {
            "text/plain": [
              "(253, 248, 240)"
            ]
          },
          "metadata": {},
          "execution_count": 77
        }
      ]
    },
    {
      "cell_type": "code",
      "source": [
        "import pandas as pd \n",
        "pd.Series(y_train).value_counts()"
      ],
      "metadata": {
        "colab": {
          "base_uri": "https://localhost:8080/"
        },
        "id": "Q7QCZ7Dk5xrB",
        "outputId": "65246cf0-3d46-4138-9a43-7e63b5711759"
      },
      "execution_count": 78,
      "outputs": [
        {
          "output_type": "execute_result",
          "data": {
            "text/plain": [
              "1    1534\n",
              "0    1526\n",
              "dtype: int64"
            ]
          },
          "metadata": {},
          "execution_count": 78
        }
      ]
    },
    {
      "cell_type": "code",
      "source": [
        "X_train_scaled = X_train / 253.0"
      ],
      "metadata": {
        "id": "9ANinOdZvVcx"
      },
      "execution_count": 79,
      "outputs": []
    },
    {
      "cell_type": "code",
      "source": [
        "X_valid_scaled = X_valid / 240.0"
      ],
      "metadata": {
        "id": "lVa-W7pMf15G"
      },
      "execution_count": 80,
      "outputs": []
    },
    {
      "cell_type": "code",
      "source": [
        "X_test_scaled = X_test / 248.0"
      ],
      "metadata": {
        "id": "zE-D6MvW2ACA"
      },
      "execution_count": 81,
      "outputs": []
    },
    {
      "cell_type": "code",
      "source": [],
      "metadata": {
        "id": "wW13ki1X2s2P"
      },
      "execution_count": null,
      "outputs": []
    },
    {
      "cell_type": "code",
      "source": [
        "len(X_train_scaled)"
      ],
      "metadata": {
        "colab": {
          "base_uri": "https://localhost:8080/"
        },
        "id": "z7n9NpUO3hPt",
        "outputId": "60710b45-a2b4-48e6-f276-704e4cf8491f"
      },
      "execution_count": 46,
      "outputs": [
        {
          "output_type": "execute_result",
          "data": {
            "text/plain": [
              "2560"
            ]
          },
          "metadata": {},
          "execution_count": 46
        }
      ]
    },
    {
      "cell_type": "code",
      "source": [
        "np.arange(4)"
      ],
      "metadata": {
        "colab": {
          "base_uri": "https://localhost:8080/"
        },
        "id": "0A3-FDUH4lEv",
        "outputId": "3f74072c-3a97-4f94-e4e2-054a0338827a"
      },
      "execution_count": 50,
      "outputs": [
        {
          "output_type": "execute_result",
          "data": {
            "text/plain": [
              "array([0, 1, 2, 3])"
            ]
          },
          "metadata": {},
          "execution_count": 50
        }
      ]
    },
    {
      "cell_type": "markdown",
      "source": [
        "### **PLOT RANDOM UNINFECTED AND PARASITIZED IMAGES TO AUTHETICATE THAT THE IMAGES MATCH THE CLASS**"
      ],
      "metadata": {
        "id": "9bYrzTtt64Ku"
      }
    },
    {
      "cell_type": "code",
      "source": [
        "#import PIL \n",
        "import matplotlib.pyplot as plt\n",
        "#plt.imshow(X_train_scaled[0])\n",
        "#PIL.Image.open() \n",
        "import random \n",
        "plt.figure(figsize = (8, 8))\n",
        "for i in range(4):  \n",
        "  ax = plt.subplot(2, 2, i+1)\n",
        "  rand_int = random.choice(range(len(X_train_scaled))) \n",
        "  plt.imshow(X_train_scaled[rand_int])\n",
        "  plt.title(y_arr[rand_int])\n",
        "  plt.axis(False)"
      ],
      "metadata": {
        "colab": {
          "base_uri": "https://localhost:8080/",
          "height": 482
        },
        "id": "kmP3ocCX2srZ",
        "outputId": "1ac4c4f8-48f9-4f45-bf2f-6259556ecb66"
      },
      "execution_count": 69,
      "outputs": [
        {
          "output_type": "display_data",
          "data": {
            "text/plain": [
              "<Figure size 576x576 with 4 Axes>"
            ],
            "image/png": "[encoded data removed]"
          },
          "metadata": {
            "needs_background": "light"
          }
        }
      ]
    },
    {
      "cell_type": "markdown",
      "source": [
        "### **BUILD A CNN MODEL**"
      ],
      "metadata": {
        "id": "NJRc24qWg9fl"
      }
    },
    {
      "cell_type": "code",
      "source": [
        "# import necessary libraries \n",
        "import tensorflow as tf \n",
        "from tensorflow.keras.layers import Dense, Flatten, Conv2D, MaxPool2D, Dropout "
      ],
      "metadata": {
        "id": "fQxJDaAUikZG"
      },
      "execution_count": 70,
      "outputs": []
    },
    {
      "cell_type": "code",
      "source": [
        "from tensorflow.keras import Sequential \n",
        "from tensorflow.keras.optimizers import Adam"
      ],
      "metadata": {
        "id": "dbhFrI7-2TYD"
      },
      "execution_count": 71,
      "outputs": []
    },
    {
      "cell_type": "code",
      "source": [
        "# create a model \n",
        "cnn_1 = Sequential([\n",
        "    Conv2D(filters = 15, \n",
        "           kernel_size = 3, # can also be (3, 3) \n",
        "           padding = 'same', \n",
        "           activation = 'relu', \n",
        "           input_shape = (150, 150, 3)), \n",
        "    Conv2D(16, 3, padding = 'same', activation = 'relu'), \n",
        "    MaxPool2D(),\n",
        "    Conv2D(16, 3, padding = 'same', activation = 'relu'), \n",
        "    MaxPool2D(),\n",
        "    Flatten(), \n",
        "    Dense(250, activation = 'relu'),\n",
        "    Dense(2, activation = 'sigmoid')\n",
        "])"
      ],
      "metadata": {
        "id": "WdIjWACUkdYm"
      },
      "execution_count": 82,
      "outputs": []
    },
    {
      "cell_type": "code",
      "source": [
        "# compile the model\n",
        "cnn_1.compile(loss = tf.keras.losses.SparseCategoricalCrossentropy(), \n",
        "              optimizer = tf.keras.optimizers.Adam(), \n",
        "              metrics = ['accuracy'])"
      ],
      "metadata": {
        "id": "7Q97jsVX2t-a"
      },
      "execution_count": 83,
      "outputs": []
    },
    {
      "cell_type": "code",
      "source": [
        "history_1 = cnn_1.fit(x = X_train_scaled, \n",
        "                      y = y_train,  \n",
        "                      epochs = 20, validation_data = (X_valid_scaled, y_valid)) "
      ],
      "metadata": {
        "colab": {
          "base_uri": "https://localhost:8080/"
        },
        "id": "tWUm8l6D4Tkc",
        "outputId": "90b666c8-9b62-411c-8a62-d17bb68029e3"
      },
      "execution_count": 84,
      "outputs": [
        {
          "output_type": "stream",
          "name": "stdout",
          "text": [
            "Epoch 1/20\n",
            "96/96 [==============================] - 126s 1s/step - loss: 0.7137 - accuracy: 0.5765 - val_loss: 0.5879 - val_accuracy: 0.6912\n",
            "Epoch 2/20\n",
            "96/96 [==============================] - 117s 1s/step - loss: 0.5025 - accuracy: 0.7709 - val_loss: 0.5290 - val_accuracy: 0.7794\n",
            "Epoch 3/20\n",
            "96/96 [==============================] - 122s 1s/step - loss: 0.2699 - accuracy: 0.9059 - val_loss: 0.2144 - val_accuracy: 0.9412\n",
            "Epoch 4/20\n",
            "96/96 [==============================] - 122s 1s/step - loss: 0.1631 - accuracy: 0.9474 - val_loss: 0.1899 - val_accuracy: 0.9471\n",
            "Epoch 5/20\n",
            "96/96 [==============================] - 117s 1s/step - loss: 0.1030 - accuracy: 0.9667 - val_loss: 0.2209 - val_accuracy: 0.9118\n",
            "Epoch 6/20\n",
            "96/96 [==============================] - 122s 1s/step - loss: 0.0601 - accuracy: 0.9820 - val_loss: 0.2164 - val_accuracy: 0.9588\n",
            "Epoch 7/20\n",
            "96/96 [==============================] - 122s 1s/step - loss: 0.0344 - accuracy: 0.9902 - val_loss: 0.2415 - val_accuracy: 0.9588\n",
            "Epoch 8/20\n",
            "96/96 [==============================] - 117s 1s/step - loss: 0.0203 - accuracy: 0.9941 - val_loss: 0.2780 - val_accuracy: 0.9471\n",
            "Epoch 9/20\n",
            "96/96 [==============================] - 122s 1s/step - loss: 0.0058 - accuracy: 0.9990 - val_loss: 0.2955 - val_accuracy: 0.9618\n",
            "Epoch 10/20\n",
            "96/96 [==============================] - 122s 1s/step - loss: 0.0077 - accuracy: 0.9984 - val_loss: 0.2978 - val_accuracy: 0.9588\n",
            "Epoch 11/20\n",
            "96/96 [==============================] - 117s 1s/step - loss: 0.0140 - accuracy: 0.9961 - val_loss: 0.2755 - val_accuracy: 0.9441\n",
            "Epoch 12/20\n",
            "96/96 [==============================] - 122s 1s/step - loss: 0.0338 - accuracy: 0.9918 - val_loss: 0.3227 - val_accuracy: 0.9412\n",
            "Epoch 13/20\n",
            "96/96 [==============================] - 122s 1s/step - loss: 0.0037 - accuracy: 0.9990 - val_loss: 0.3629 - val_accuracy: 0.9588\n",
            "Epoch 14/20\n",
            "96/96 [==============================] - 117s 1s/step - loss: 7.7595e-04 - accuracy: 1.0000 - val_loss: 0.3958 - val_accuracy: 0.9441\n",
            "Epoch 15/20\n",
            "96/96 [==============================] - 122s 1s/step - loss: 3.0729e-04 - accuracy: 1.0000 - val_loss: 0.3902 - val_accuracy: 0.9588\n",
            "Epoch 16/20\n",
            "96/96 [==============================] - 117s 1s/step - loss: 1.3161e-04 - accuracy: 1.0000 - val_loss: 0.4047 - val_accuracy: 0.9559\n",
            "Epoch 17/20\n",
            "96/96 [==============================] - 122s 1s/step - loss: 9.2457e-05 - accuracy: 1.0000 - val_loss: 0.4126 - val_accuracy: 0.9559\n",
            "Epoch 18/20\n",
            "96/96 [==============================] - 122s 1s/step - loss: 7.1249e-05 - accuracy: 1.0000 - val_loss: 0.4221 - val_accuracy: 0.9559\n",
            "Epoch 19/20\n",
            "96/96 [==============================] - 117s 1s/step - loss: 5.7626e-05 - accuracy: 1.0000 - val_loss: 0.4320 - val_accuracy: 0.9559\n",
            "Epoch 20/20\n",
            "96/96 [==============================] - 124s 1s/step - loss: 4.8432e-05 - accuracy: 1.0000 - val_loss: 0.4383 - val_accuracy: 0.9559\n"
          ]
        }
      ]
    },
    {
      "cell_type": "markdown",
      "source": [
        "### **MODEL SUMMARY**"
      ],
      "metadata": {
        "id": "PoO0ldHQSr9b"
      }
    },
    {
      "cell_type": "code",
      "source": [
        "# model summaru \n",
        "cnn_1.summary()"
      ],
      "metadata": {
        "colab": {
          "base_uri": "https://localhost:8080/"
        },
        "id": "X_mTd-IKSwEQ",
        "outputId": "07d2a858-c2b3-43d1-d111-c90a273dbe0c"
      },
      "execution_count": 99,
      "outputs": [
        {
          "output_type": "stream",
          "name": "stdout",
          "text": [
            "Model: \"sequential_1\"\n",
            "_________________________________________________________________\n",
            " Layer (type)                Output Shape              Param #   \n",
            "=================================================================\n",
            " conv2d_3 (Conv2D)           (None, 150, 150, 15)      420       \n",
            "                                                                 \n",
            " conv2d_4 (Conv2D)           (None, 150, 150, 16)      2176      \n",
            "                                                                 \n",
            " max_pooling2d (MaxPooling2D  (None, 75, 75, 16)       0         \n",
            " )                                                               \n",
            "                                                                 \n",
            " conv2d_5 (Conv2D)           (None, 75, 75, 16)        2320      \n",
            "                                                                 \n",
            " max_pooling2d_1 (MaxPooling  (None, 37, 37, 16)       0         \n",
            " 2D)                                                             \n",
            "                                                                 \n",
            " flatten_1 (Flatten)         (None, 21904)             0         \n",
            "                                                                 \n",
            " dense_1 (Dense)             (None, 250)               5476250   \n",
            "                                                                 \n",
            " dense_2 (Dense)             (None, 2)                 502       \n",
            "                                                                 \n",
            "=================================================================\n",
            "Total params: 5,481,668\n",
            "Trainable params: 5,481,668\n",
            "Non-trainable params: 0\n",
            "_________________________________________________________________\n"
          ]
        }
      ]
    },
    {
      "cell_type": "markdown",
      "source": [
        "### **MODEL EVALUATION**"
      ],
      "metadata": {
        "id": "mdLz7KdSS2w1"
      }
    },
    {
      "cell_type": "code",
      "source": [
        "cnn_1.evaluate(X_test_scaled, y_test)"
      ],
      "metadata": {
        "colab": {
          "base_uri": "https://localhost:8080/"
        },
        "id": "IGblaVgDNWiX",
        "outputId": "15bdf00b-5969-4543-8041-30e125cbafdb"
      },
      "execution_count": 85,
      "outputs": [
        {
          "output_type": "stream",
          "name": "stdout",
          "text": [
            "19/19 [==============================] - 7s 350ms/step - loss: 0.6214 - accuracy: 0.9250\n"
          ]
        },
        {
          "output_type": "execute_result",
          "data": {
            "text/plain": [
              "[0.6213775873184204, 0.925000011920929]"
            ]
          },
          "metadata": {},
          "execution_count": 85
        }
      ]
    },
    {
      "cell_type": "markdown",
      "source": [
        "### **LOSS AND ACCURACY CURVE**"
      ],
      "metadata": {
        "id": "u0-THtmSRBEt"
      }
    },
    {
      "cell_type": "code",
      "source": [
        "# plot loss curve \n",
        "plt.figure(figsize = (8, 6))\n",
        "loss = history_1.history['loss']\n",
        "val_loss = history_1.history['val_loss'] \n",
        "epochs = range(len(history_1.history['loss']))\n",
        "plt.plot(epochs, loss, label = 'training_loss')\n",
        "plt.plot(epochs, val_loss, label = 'Val_loss')\n",
        "plt.xlabel('Epochs')\n",
        "plt.title('Loss curve')\n",
        "plt.legend()"
      ],
      "metadata": {
        "colab": {
          "base_uri": "https://localhost:8080/",
          "height": 421
        },
        "id": "BxOWpHmNRA8Q",
        "outputId": "11efc566-51dc-4d60-c2af-d459fec3cf7c"
      },
      "execution_count": 98,
      "outputs": [
        {
          "output_type": "execute_result",
          "data": {
            "text/plain": [
              "<matplotlib.legend.Legend at 0x7f32af1b7550>"
            ]
          },
          "metadata": {},
          "execution_count": 98
        },
        {
          "output_type": "display_data",
          "data": {
            "text/plain": [
              "<Figure size 576x432 with 1 Axes>"
            ],
            "image/png": "[encoded data removed]"
          },
          "metadata": {
            "needs_background": "light"
          }
        }
      ]
    },
    {
      "cell_type": "code",
      "source": [
        "# plot accuracy curve \n",
        "plt.figure(figsize = (8, 6))\n",
        "accuracy = history_1.history['accuracy']\n",
        "val_accuracy = history_1.history['val_accuracy'] \n",
        "epochs = range(len(history_1.history['loss']))\n",
        "plt.plot(epochs, accuracy, label = 'training_accuracy')\n",
        "plt.plot(epochs, val_accuracy, label = 'val_accuracy')\n",
        "plt.xlabel('Epochs')\n",
        "plt.title('Accuracy curve')\n",
        "plt.legend();"
      ],
      "metadata": {
        "colab": {
          "base_uri": "https://localhost:8080/",
          "height": 404
        },
        "id": "MlB898eAR3JQ",
        "outputId": "d6908112-2b59-42d8-9dca-ef534edfc596"
      },
      "execution_count": 97,
      "outputs": [
        {
          "output_type": "display_data",
          "data": {
            "text/plain": [
              "<Figure size 576x432 with 1 Axes>"
            ],
            "image/png": "[encoded data removed]"
          },
          "metadata": {
            "needs_background": "light"
          }
        }
      ]
    },
    {
      "cell_type": "markdown",
      "source": [
        "### **TEST DATA PREDICTION**"
      ],
      "metadata": {
        "id": "xJ1t4yELTAzP"
      }
    },
    {
      "cell_type": "code",
      "source": [
        "pred_probs = cnn_1.predict(X_test_scaled)\n",
        "pred_probs[0]"
      ],
      "metadata": {
        "colab": {
          "base_uri": "https://localhost:8080/"
        },
        "id": "3dSdALFLNWcn",
        "outputId": "6e86bbc7-db66-4b08-e269-1a97a3a717ab"
      },
      "execution_count": 86,
      "outputs": [
        {
          "output_type": "stream",
          "name": "stdout",
          "text": [
            "19/19 [==============================] - 8s 360ms/step\n"
          ]
        },
        {
          "output_type": "execute_result",
          "data": {
            "text/plain": [
              "array([9.9783969e-01, 2.2916033e-06], dtype=float32)"
            ]
          },
          "metadata": {},
          "execution_count": 86
        }
      ]
    },
    {
      "cell_type": "code",
      "source": [
        "# get the class with the max probabilities \n",
        "y_pred = tf.argmax(pred_probs, axis = 1)\n",
        "y_pred[:10]"
      ],
      "metadata": {
        "colab": {
          "base_uri": "https://localhost:8080/"
        },
        "id": "dYto3cuCNWXX",
        "outputId": "1eb62c92-fe95-48c7-e744-fdeb23fd86bf"
      },
      "execution_count": 100,
      "outputs": [
        {
          "output_type": "execute_result",
          "data": {
            "text/plain": [
              "<tf.Tensor: shape=(10,), dtype=int64, numpy=array([0, 0, 1, 1, 0, 0, 1, 1, 0, 0])>"
            ]
          },
          "metadata": {},
          "execution_count": 100
        }
      ]
    },
    {
      "cell_type": "markdown",
      "source": [
        "### **CONFUSION MATRIX AND CLASSIFICATION REPORT**"
      ],
      "metadata": {
        "id": "HYczuSnJNWR2"
      }
    },
    {
      "cell_type": "code",
      "source": [
        "# confusion matrix\n",
        "from sklearn.metrics import confusion_matrix, classification_report\n",
        "confusion_matrix(y_true=y_test, \n",
        "                 y_pred=y_pred)"
      ],
      "metadata": {
        "colab": {
          "base_uri": "https://localhost:8080/"
        },
        "id": "jvYwV5vHNWNv",
        "outputId": "c4a033b9-128c-4dc9-c239-b2eb11cfdace"
      },
      "execution_count": 101,
      "outputs": [
        {
          "output_type": "execute_result",
          "data": {
            "text/plain": [
              "array([[282,  12],\n",
              "       [ 33, 273]])"
            ]
          },
          "metadata": {},
          "execution_count": 101
        }
      ]
    },
    {
      "cell_type": "code",
      "source": [
        "# prettified confusion matrix\n",
        "import seaborn as sns\n",
        "plt.figure(figsize = (8, 6))\n",
        "sns.heatmap(confusion_matrix(y_true=y_test, \n",
        "                 y_pred=y_pred), annot = True, fmt = 'd', linewidth = 4)\n",
        "plt.show()"
      ],
      "metadata": {
        "id": "FOCp8es62ysE",
        "colab": {
          "base_uri": "https://localhost:8080/",
          "height": 374
        },
        "outputId": "150e53be-1a2c-4e43-a7a0-157b4418256b"
      },
      "execution_count": 104,
      "outputs": [
        {
          "output_type": "display_data",
          "data": {
            "text/plain": [
              "<Figure size 576x432 with 2 Axes>"
            ],
            "image/png": "[encoded data removed]"
          },
          "metadata": {
            "needs_background": "light"
          }
        }
      ]
    },
    {
      "cell_type": "code",
      "source": [
        "# classification_report\n",
        "print(classification_report(y_true=y_test, \n",
        "                 y_pred=y_pred))"
      ],
      "metadata": {
        "id": "YW0Z5pcSkXJn",
        "colab": {
          "base_uri": "https://localhost:8080/"
        },
        "outputId": "c90451e0-5a90-4cd8-a267-20eac985b91e"
      },
      "execution_count": 106,
      "outputs": [
        {
          "output_type": "stream",
          "name": "stdout",
          "text": [
            "              precision    recall  f1-score   support\n",
            "\n",
            "           0       0.90      0.96      0.93       294\n",
            "           1       0.96      0.89      0.92       306\n",
            "\n",
            "    accuracy                           0.93       600\n",
            "   macro avg       0.93      0.93      0.92       600\n",
            "weighted avg       0.93      0.93      0.92       600\n",
            "\n"
          ]
        }
      ]
    },
    {
      "cell_type": "markdown",
      "source": [
        "### **SAVE THE MODEL**"
      ],
      "metadata": {
        "id": "g-ub9Sne25Zx"
      }
    },
    {
      "cell_type": "code",
      "source": [
        "cnn_1.save('maladria_detection_class.h5')"
      ],
      "metadata": {
        "colab": {
          "base_uri": "https://localhost:8080/"
        },
        "id": "LDHM7tEc4QsL",
        "outputId": "8fc59484-6abd-495d-9110-3549912a4606"
      },
      "execution_count": 107,
      "outputs": [
        {
          "output_type": "stream",
          "name": "stderr",
          "text": [
            "WARNING:absl:Found untraced functions such as _jit_compiled_convolution_op, _jit_compiled_convolution_op, _jit_compiled_convolution_op while saving (showing 3 of 3). These functions will not be directly callable after loading.\n"
          ]
        }
      ]
    },
    {
      "cell_type": "code",
      "source": [
        "uninfected_use = uninfected[:2756] \n",
        "len(uninfected_use)"
      ],
      "metadata": {
        "colab": {
          "base_uri": "https://localhost:8080/"
        },
        "id": "ou6e0kfpJAND",
        "outputId": "e96ae601-41bd-4666-e9f4-4079b76c9c18"
      },
      "execution_count": null,
      "outputs": [
        {
          "output_type": "execute_result",
          "data": {
            "text/plain": [
              "2756"
            ]
          },
          "metadata": {},
          "execution_count": 14
        }
      ]
    },
    {
      "cell_type": "code",
      "source": [
        "parasitized_use = parasitized[:2756]\n",
        "len(parasitized_use)"
      ],
      "metadata": {
        "colab": {
          "base_uri": "https://localhost:8080/"
        },
        "id": "Tfeaj2d7JAEf",
        "outputId": "92f023b0-1bad-4574-eb8c-af0e78745556"
      },
      "execution_count": null,
      "outputs": [
        {
          "output_type": "execute_result",
          "data": {
            "text/plain": [
              "2756"
            ]
          },
          "metadata": {},
          "execution_count": 15
        }
      ]
    },
    {
      "cell_type": "code",
      "source": [],
      "metadata": {
        "id": "m2eUEEZ0I_7V"
      },
      "execution_count": null,
      "outputs": []
    },
    {
      "cell_type": "code",
      "source": [],
      "metadata": {
        "id": "4v72re10I_0h"
      },
      "execution_count": null,
      "outputs": []
    },
    {
      "cell_type": "markdown",
      "source": [
        "### **UNINFECTED AND PARASITIZED DICTIONARY**"
      ],
      "metadata": {
        "id": "5RwGyklg4hQF"
      }
    },
    {
      "cell_type": "code",
      "source": [
        "malaria_dict = {'uninfected' : list(uninfected_use), \n",
        "                'parasitized' : list(parasitized_use)}"
      ],
      "metadata": {
        "id": "JAhbWTailWD-"
      },
      "execution_count": null,
      "outputs": []
    },
    {
      "cell_type": "code",
      "source": [
        "malaria_status_labels = {'uninfected' : 0, \n",
        "                         'parasitized' : 1}"
      ],
      "metadata": {
        "id": "OKHP56hvmYNP"
      },
      "execution_count": null,
      "outputs": []
    },
    {
      "cell_type": "code",
      "source": [
        "malaria_status_labels"
      ],
      "metadata": {
        "colab": {
          "base_uri": "https://localhost:8080/"
        },
        "id": "gW4wDbR0quFX",
        "outputId": "08a7d06a-e3ed-4d57-b3f5-bf0bfedb8cc6"
      },
      "execution_count": null,
      "outputs": [
        {
          "output_type": "execute_result",
          "data": {
            "text/plain": [
              "{'uninfected': 0, 'parasitized': 1}"
            ]
          },
          "metadata": {},
          "execution_count": 18
        }
      ]
    },
    {
      "cell_type": "code",
      "source": [
        "malaria_dict['parasitized'][:5]"
      ],
      "metadata": {
        "colab": {
          "base_uri": "https://localhost:8080/"
        },
        "id": "2BBKyvWWl_ED",
        "outputId": "e508e83d-1689-4a73-ff62-f365f0e7f710"
      },
      "execution_count": null,
      "outputs": [
        {
          "output_type": "execute_result",
          "data": {
            "text/plain": [
              "['/content/drive/MyDrive/Malaria tests/cell_images/Parasitized/C92P53ThinF_IMG_20150821_151224_cell_209.png',\n",
              " '/content/drive/MyDrive/Malaria tests/cell_images/Parasitized/C92P53ThinF_IMG_20150821_151224_cell_210.png',\n",
              " '/content/drive/MyDrive/Malaria tests/cell_images/Parasitized/C92P53ThinF_IMG_20150821_151224_cell_211.png',\n",
              " '/content/drive/MyDrive/Malaria tests/cell_images/Parasitized/C92P53ThinF_IMG_20150821_151224_cell_212.png',\n",
              " '/content/drive/MyDrive/Malaria tests/cell_images/Parasitized/C92P53ThinF_IMG_20150821_151646_cell_201.png']"
            ]
          },
          "metadata": {},
          "execution_count": 19
        }
      ]
    },
    {
      "cell_type": "code",
      "source": [
        "import cv2 \n",
        "img = cv2.imread(malaria_dict['parasitized'][150]) \n",
        "img.shape"
      ],
      "metadata": {
        "colab": {
          "base_uri": "https://localhost:8080/"
        },
        "id": "MbegxDbSmCZS",
        "outputId": "0c7c884e-4148-4cdc-a77c-61d48e515879"
      },
      "execution_count": null,
      "outputs": [
        {
          "output_type": "execute_result",
          "data": {
            "text/plain": [
              "(112, 118, 3)"
            ]
          },
          "metadata": {},
          "execution_count": 51
        }
      ]
    },
    {
      "cell_type": "code",
      "source": [],
      "metadata": {
        "id": "ryA-P-UJMZFa"
      },
      "execution_count": null,
      "outputs": []
    },
    {
      "cell_type": "code",
      "source": [
        "cv2.resize(uninfected_use, (100, 100))"
      ],
      "metadata": {
        "colab": {
          "base_uri": "https://localhost:8080/",
          "height": 217
        },
        "id": "rH5jdQkkP_fk",
        "outputId": "06598566-ebda-42bf-f896-4ef13adfbde3"
      },
      "execution_count": null,
      "outputs": [
        {
          "output_type": "error",
          "ename": "error",
          "evalue": "ignored",
          "traceback": [
            "\u001b[0;31m---------------------------------------------------------------------------\u001b[0m",
            "\u001b[0;31merror\u001b[0m                                     Traceback (most recent call last)",
            "\u001b[0;32m<ipython-input-49-749d685e6914>\u001b[0m in \u001b[0;36m<module>\u001b[0;34m\u001b[0m\n\u001b[0;32m----> 1\u001b[0;31m \u001b[0mcv2\u001b[0m\u001b[0;34m.\u001b[0m\u001b[0mresize\u001b[0m\u001b[0;34m(\u001b[0m\u001b[0muninfected_use\u001b[0m\u001b[0;34m,\u001b[0m \u001b[0;34m(\u001b[0m\u001b[0;36m100\u001b[0m\u001b[0;34m,\u001b[0m \u001b[0;36m100\u001b[0m\u001b[0;34m)\u001b[0m\u001b[0;34m)\u001b[0m\u001b[0;34m\u001b[0m\u001b[0;34m\u001b[0m\u001b[0m\n\u001b[0m",
            "\u001b[0;31merror\u001b[0m: OpenCV(4.6.0) :-1: error: (-5:Bad argument) in function 'resize'\n> Overload resolution failed:\n>  - src is not a numpy array, neither a scalar\n>  - Expected Ptr<cv::UMat> for argument 'src'\n"
          ]
        }
      ]
    },
    {
      "cell_type": "code",
      "source": [
        "import cv2 \n",
        "d_arr_ufu = [cv2.imread(y) for y in uninfected_use] "
      ],
      "metadata": {
        "id": "WorbR6qzLlC7"
      },
      "execution_count": null,
      "outputs": []
    },
    {
      "cell_type": "code",
      "source": [
        "np.arange(5)"
      ],
      "metadata": {
        "colab": {
          "base_uri": "https://localhost:8080/"
        },
        "id": "dqkcK6CzfUa4",
        "outputId": "fdb3508e-abf8-4c62-d92d-b5fc3b2d2ddd"
      },
      "execution_count": null,
      "outputs": [
        {
          "output_type": "execute_result",
          "data": {
            "text/plain": [
              "array([0, 1, 2, 3, 4])"
            ]
          },
          "metadata": {},
          "execution_count": 64
        }
      ]
    },
    {
      "cell_type": "code",
      "source": [
        "d_arr_ufu[2755].shape"
      ],
      "metadata": {
        "colab": {
          "base_uri": "https://localhost:8080/"
        },
        "id": "um8clT4SggRi",
        "outputId": "f08087ed-e08b-49d1-a8fd-b4ff27865f5f"
      },
      "execution_count": null,
      "outputs": [
        {
          "output_type": "execute_result",
          "data": {
            "text/plain": [
              "(169, 169, 3)"
            ]
          },
          "metadata": {},
          "execution_count": 71
        }
      ]
    },
    {
      "cell_type": "code",
      "source": [
        " i = np.arange(2755)\n",
        " resized_ufu = [cv2.resize(y, (115, 115)) for y[i] in d_arr_ufu]\n",
        " # resized_ufu = cv2.resize(d_ufu_nparr, (150, 150)) "
      ],
      "metadata": {
        "colab": {
          "base_uri": "https://localhost:8080/",
          "height": 287
        },
        "id": "35vLd6x6OrXh",
        "outputId": "e4c721b2-a88d-45b9-a2b3-ce3dc20ed265"
      },
      "execution_count": null,
      "outputs": [
        {
          "output_type": "error",
          "ename": "TypeError",
          "evalue": "ignored",
          "traceback": [
            "\u001b[0;31m---------------------------------------------------------------------------\u001b[0m",
            "\u001b[0;31mTypeError\u001b[0m                                 Traceback (most recent call last)",
            "\u001b[0;32m<ipython-input-74-0bc93c0ef230>\u001b[0m in \u001b[0;36m<module>\u001b[0;34m\u001b[0m\n\u001b[1;32m      1\u001b[0m \u001b[0mi\u001b[0m \u001b[0;34m=\u001b[0m \u001b[0mnp\u001b[0m\u001b[0;34m.\u001b[0m\u001b[0marange\u001b[0m\u001b[0;34m(\u001b[0m\u001b[0;36m2755\u001b[0m\u001b[0;34m)\u001b[0m\u001b[0;34m\u001b[0m\u001b[0;34m\u001b[0m\u001b[0m\n\u001b[0;32m----> 2\u001b[0;31m \u001b[0mresized_ufu\u001b[0m \u001b[0;34m=\u001b[0m \u001b[0;34m[\u001b[0m\u001b[0mcv2\u001b[0m\u001b[0;34m.\u001b[0m\u001b[0mresize\u001b[0m\u001b[0;34m(\u001b[0m\u001b[0my\u001b[0m\u001b[0;34m,\u001b[0m \u001b[0;34m(\u001b[0m\u001b[0;36m115\u001b[0m\u001b[0;34m,\u001b[0m \u001b[0;36m115\u001b[0m\u001b[0;34m)\u001b[0m\u001b[0;34m)\u001b[0m \u001b[0;32mfor\u001b[0m \u001b[0my\u001b[0m\u001b[0;34m[\u001b[0m\u001b[0mi\u001b[0m\u001b[0;34m]\u001b[0m \u001b[0;32min\u001b[0m \u001b[0md_arr_ufu\u001b[0m\u001b[0;34m]\u001b[0m\u001b[0;34m\u001b[0m\u001b[0;34m\u001b[0m\u001b[0m\n\u001b[0m\u001b[1;32m      3\u001b[0m \u001b[0;31m# resized_ufu = cv2.resize(d_ufu_nparr, (150, 150))\u001b[0m\u001b[0;34m\u001b[0m\u001b[0;34m\u001b[0m\u001b[0;34m\u001b[0m\u001b[0m\n",
            "\u001b[0;32m<ipython-input-74-0bc93c0ef230>\u001b[0m in \u001b[0;36m<listcomp>\u001b[0;34m(.0)\u001b[0m\n\u001b[1;32m      1\u001b[0m \u001b[0mi\u001b[0m \u001b[0;34m=\u001b[0m \u001b[0mnp\u001b[0m\u001b[0;34m.\u001b[0m\u001b[0marange\u001b[0m\u001b[0;34m(\u001b[0m\u001b[0;36m2755\u001b[0m\u001b[0;34m)\u001b[0m\u001b[0;34m\u001b[0m\u001b[0;34m\u001b[0m\u001b[0m\n\u001b[0;32m----> 2\u001b[0;31m \u001b[0mresized_ufu\u001b[0m \u001b[0;34m=\u001b[0m \u001b[0;34m[\u001b[0m\u001b[0mcv2\u001b[0m\u001b[0;34m.\u001b[0m\u001b[0mresize\u001b[0m\u001b[0;34m(\u001b[0m\u001b[0my\u001b[0m\u001b[0;34m,\u001b[0m \u001b[0;34m(\u001b[0m\u001b[0;36m115\u001b[0m\u001b[0;34m,\u001b[0m \u001b[0;36m115\u001b[0m\u001b[0;34m)\u001b[0m\u001b[0;34m)\u001b[0m \u001b[0;32mfor\u001b[0m \u001b[0my\u001b[0m\u001b[0;34m[\u001b[0m\u001b[0mi\u001b[0m\u001b[0;34m]\u001b[0m \u001b[0;32min\u001b[0m \u001b[0md_arr_ufu\u001b[0m\u001b[0;34m]\u001b[0m\u001b[0;34m\u001b[0m\u001b[0;34m\u001b[0m\u001b[0m\n\u001b[0m\u001b[1;32m      3\u001b[0m \u001b[0;31m# resized_ufu = cv2.resize(d_ufu_nparr, (150, 150))\u001b[0m\u001b[0;34m\u001b[0m\u001b[0;34m\u001b[0m\u001b[0;34m\u001b[0m\u001b[0m\n",
            "\u001b[0;31mTypeError\u001b[0m: only integer scalar arrays can be converted to a scalar index"
          ]
        }
      ]
    },
    {
      "cell_type": "code",
      "source": [
        "d_arr_ufu[1000].shape"
      ],
      "metadata": {
        "colab": {
          "base_uri": "https://localhost:8080/"
        },
        "id": "lkhhR7QTdxc4",
        "outputId": "79c3c083-5e13-4363-d414-b49ad48605c4"
      },
      "execution_count": null,
      "outputs": [
        {
          "output_type": "execute_result",
          "data": {
            "text/plain": [
              "(112, 118, 3)"
            ]
          },
          "metadata": {},
          "execution_count": 60
        }
      ]
    },
    {
      "cell_type": "code",
      "source": [
        "import numpy as np\n",
        "d_ufu_nparr = np.array(d_arr_ufu, dtype = 'object')"
      ],
      "metadata": {
        "id": "nPYlroe6PLVb"
      },
      "execution_count": null,
      "outputs": []
    },
    {
      "cell_type": "code",
      "source": [
        "d_ufu_nparr.shape"
      ],
      "metadata": {
        "colab": {
          "base_uri": "https://localhost:8080/"
        },
        "id": "pKMnxxf3ZQpq",
        "outputId": "9ba53da4-d3fb-4104-b55a-c73cded0fa93"
      },
      "execution_count": null,
      "outputs": [
        {
          "output_type": "execute_result",
          "data": {
            "text/plain": [
              "(2756,)"
            ]
          },
          "metadata": {},
          "execution_count": 55
        }
      ]
    },
    {
      "cell_type": "code",
      "source": [
        "d_ufu_nparr.dtype"
      ],
      "metadata": {
        "colab": {
          "base_uri": "https://localhost:8080/"
        },
        "id": "1P0nk7ZgZMDJ",
        "outputId": "d8062c5f-7dd9-40c6-90f4-7a8c5c573819"
      },
      "execution_count": null,
      "outputs": [
        {
          "output_type": "execute_result",
          "data": {
            "text/plain": [
              "dtype('O')"
            ]
          },
          "metadata": {},
          "execution_count": 54
        }
      ]
    },
    {
      "cell_type": "code",
      "source": [
        "d_ufu =  d_ufu_nparr.astype(np.uint8)"
      ],
      "metadata": {
        "colab": {
          "base_uri": "https://localhost:8080/",
          "height": 252
        },
        "id": "JCOXciiyRUrV",
        "outputId": "48ad9587-9b6e-4342-bbc3-60825e2b445c"
      },
      "execution_count": null,
      "outputs": [
        {
          "output_type": "error",
          "ename": "ValueError",
          "evalue": "ignored",
          "traceback": [
            "\u001b[0;31m---------------------------------------------------------------------------\u001b[0m",
            "\u001b[0;31mTypeError\u001b[0m                                 Traceback (most recent call last)",
            "\u001b[0;31mTypeError\u001b[0m: only size-1 arrays can be converted to Python scalars",
            "\nThe above exception was the direct cause of the following exception:\n",
            "\u001b[0;31mValueError\u001b[0m                                Traceback (most recent call last)",
            "\u001b[0;32m<ipython-input-42-bba87e65b580>\u001b[0m in \u001b[0;36m<module>\u001b[0;34m\u001b[0m\n\u001b[0;32m----> 1\u001b[0;31m \u001b[0md_ufu\u001b[0m \u001b[0;34m=\u001b[0m  \u001b[0md_ufu_nparr\u001b[0m\u001b[0;34m.\u001b[0m\u001b[0mastype\u001b[0m\u001b[0;34m(\u001b[0m\u001b[0mnp\u001b[0m\u001b[0;34m.\u001b[0m\u001b[0muint8\u001b[0m\u001b[0;34m)\u001b[0m\u001b[0;34m\u001b[0m\u001b[0;34m\u001b[0m\u001b[0m\n\u001b[0m",
            "\u001b[0;31mValueError\u001b[0m: setting an array element with a sequence."
          ]
        }
      ]
    },
    {
      "cell_type": "code",
      "source": [
        "X, y = [], [] \n",
        "\n",
        "import cv2 \n",
        "for image_cls, image_pth in malaria_dict.items(): \n",
        "  for image_p in image_pth: \n",
        "    img = cv2.imread(image_p)\n",
        "    resized = cv2.resize(img, (150, 150)) \n",
        "    X.append(resized)\n",
        "    y.append(malaria_status_labels[image_cls])"
      ],
      "metadata": {
        "colab": {
          "base_uri": "https://localhost:8080/",
          "height": 252
        },
        "id": "uLZL8dznm5Pz",
        "outputId": "787d3463-a046-439f-b113-23fc1389ab43"
      },
      "execution_count": null,
      "outputs": [
        {
          "output_type": "error",
          "ename": "error",
          "evalue": "ignored",
          "traceback": [
            "\u001b[0;31m---------------------------------------------------------------------------\u001b[0m",
            "\u001b[0;31merror\u001b[0m                                     Traceback (most recent call last)",
            "\u001b[0;32m<ipython-input-20-5681960b0343>\u001b[0m in \u001b[0;36m<module>\u001b[0;34m\u001b[0m\n\u001b[1;32m      5\u001b[0m   \u001b[0;32mfor\u001b[0m \u001b[0mimage_p\u001b[0m \u001b[0;32min\u001b[0m \u001b[0mimage_pth\u001b[0m\u001b[0;34m:\u001b[0m\u001b[0;34m\u001b[0m\u001b[0;34m\u001b[0m\u001b[0m\n\u001b[1;32m      6\u001b[0m     \u001b[0mimg\u001b[0m \u001b[0;34m=\u001b[0m \u001b[0mcv2\u001b[0m\u001b[0;34m.\u001b[0m\u001b[0mimread\u001b[0m\u001b[0;34m(\u001b[0m\u001b[0mimage_p\u001b[0m\u001b[0;34m)\u001b[0m\u001b[0;34m\u001b[0m\u001b[0;34m\u001b[0m\u001b[0m\n\u001b[0;32m----> 7\u001b[0;31m     \u001b[0mresized\u001b[0m \u001b[0;34m=\u001b[0m \u001b[0mcv2\u001b[0m\u001b[0;34m.\u001b[0m\u001b[0mresize\u001b[0m\u001b[0;34m(\u001b[0m\u001b[0mimg\u001b[0m\u001b[0;34m,\u001b[0m \u001b[0;34m(\u001b[0m\u001b[0;36m150\u001b[0m\u001b[0;34m,\u001b[0m \u001b[0;36m150\u001b[0m\u001b[0;34m)\u001b[0m\u001b[0;34m)\u001b[0m\u001b[0;34m\u001b[0m\u001b[0;34m\u001b[0m\u001b[0m\n\u001b[0m\u001b[1;32m      8\u001b[0m     \u001b[0mX\u001b[0m\u001b[0;34m.\u001b[0m\u001b[0mappend\u001b[0m\u001b[0;34m(\u001b[0m\u001b[0mresized\u001b[0m\u001b[0;34m)\u001b[0m\u001b[0;34m\u001b[0m\u001b[0;34m\u001b[0m\u001b[0m\n\u001b[1;32m      9\u001b[0m     \u001b[0my\u001b[0m\u001b[0;34m.\u001b[0m\u001b[0mappend\u001b[0m\u001b[0;34m(\u001b[0m\u001b[0mmalaria_status_labels\u001b[0m\u001b[0;34m[\u001b[0m\u001b[0mimage_cls\u001b[0m\u001b[0;34m]\u001b[0m\u001b[0;34m)\u001b[0m\u001b[0;34m\u001b[0m\u001b[0;34m\u001b[0m\u001b[0m\n",
            "\u001b[0;31merror\u001b[0m: OpenCV(4.6.0) /io/opencv/modules/imgproc/src/resize.cpp:4052: error: (-215:Assertion failed) !ssize.empty() in function 'resize'\n"
          ]
        }
      ]
    },
    {
      "cell_type": "code",
      "source": [
        "malaria_status_labels['Parasitized']"
      ],
      "metadata": {
        "colab": {
          "base_uri": "https://localhost:8080/"
        },
        "id": "IkfmGodjsfWP",
        "outputId": "1f3cedfd-1bb8-4626-ab7b-0709da575be9"
      },
      "execution_count": null,
      "outputs": [
        {
          "output_type": "execute_result",
          "data": {
            "text/plain": [
              "1"
            ]
          },
          "metadata": {},
          "execution_count": 57
        }
      ]
    },
    {
      "cell_type": "code",
      "source": [],
      "metadata": {
        "id": "PWdboEcFszGt"
      },
      "execution_count": null,
      "outputs": []
    }
  ]
}
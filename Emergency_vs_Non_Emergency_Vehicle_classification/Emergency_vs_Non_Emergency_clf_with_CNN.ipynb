{
  "nbformat": 4,
  "nbformat_minor": 0,
  "metadata": {
    "colab": {
      "provenance": []
    },
    "kernelspec": {
      "name": "python3",
      "display_name": "Python 3"
    },
    "language_info": {
      "name": "python"
    },
    "accelerator": "GPU",
    "gpuClass": "standard"
  },
  "cells": [
    {
      "cell_type": "markdown",
      "source": [
        "### **Emergency vs Non-Emergency vehicles Image Classification with CNN**"
      ],
      "metadata": {
        "id": "fQRvheU4QmlQ"
      }
    },
    {
      "cell_type": "code",
      "execution_count": 1,
      "metadata": {
        "colab": {
          "base_uri": "https://localhost:8080/"
        },
        "id": "dxiq3aLuQVvX",
        "outputId": "fef872cc-faef-4f25-f857-c777ca1493aa"
      },
      "outputs": [
        {
          "output_type": "stream",
          "name": "stdout",
          "text": [
            "'archive (3).zip'   dataset\n"
          ]
        }
      ],
      "source": [
        "# dataset pathway\n",
        "!ls '/content/drive/MyDrive/Emergency vs Non-Emergency vehicles'"
      ]
    },
    {
      "cell_type": "code",
      "source": [
        "!ls '/content/drive/MyDrive/Emergency vs Non-Emergency vehicles/dataset'"
      ],
      "metadata": {
        "colab": {
          "base_uri": "https://localhost:8080/"
        },
        "id": "J1-ZAYc1QjC9",
        "outputId": "a9ef9a9e-c13f-4aa9-d932-157074bb9edc"
      },
      "execution_count": 2,
      "outputs": [
        {
          "output_type": "stream",
          "name": "stdout",
          "text": [
            "images\t\t\t       test_vc2kHdQ.csv  train_SOaYf6m\n",
            "sample_submission_yxjOnvz.csv  train.csv\n"
          ]
        }
      ]
    },
    {
      "cell_type": "code",
      "source": [
        "# load training data output \n",
        "import pandas as pd\n",
        "train_csv = pd.read_csv('/content/drive/MyDrive/Emergency vs Non-Emergency vehicles/dataset/train.csv')\n",
        "train_csv.head()"
      ],
      "metadata": {
        "colab": {
          "base_uri": "https://localhost:8080/",
          "height": 206
        },
        "id": "DRWJclgwRL_0",
        "outputId": "8822b20e-be04-4a9e-efd9-1bcff8f883ae"
      },
      "execution_count": 3,
      "outputs": [
        {
          "output_type": "execute_result",
          "data": {
            "text/plain": [
              "  image_names  emergency_or_not\n",
              "0    1503.jpg                 0\n",
              "1    1420.jpg                 0\n",
              "2    1764.jpg                 0\n",
              "3    1356.jpg                 0\n",
              "4    1117.jpg                 0"
            ],
            "text/html": [
              "\n",
              "  <div id=\"df-ace48f92-9c51-42eb-83dc-2871b2a4c824\">\n",
              "    <div class=\"colab-df-container\">\n",
              "      <div>\n",
              "<style scoped>\n",
              "    .dataframe tbody tr th:only-of-type {\n",
              "        vertical-align: middle;\n",
              "    }\n",
              "\n",
              "    .dataframe tbody tr th {\n",
              "        vertical-align: top;\n",
              "    }\n",
              "\n",
              "    .dataframe thead th {\n",
              "        text-align: right;\n",
              "    }\n",
              "</style>\n",
              "<table border=\"1\" class=\"dataframe\">\n",
              "  <thead>\n",
              "    <tr style=\"text-align: right;\">\n",
              "      <th></th>\n",
              "      <th>image_names</th>\n",
              "      <th>emergency_or_not</th>\n",
              "    </tr>\n",
              "  </thead>\n",
              "  <tbody>\n",
              "    <tr>\n",
              "      <th>0</th>\n",
              "      <td>1503.jpg</td>\n",
              "      <td>0</td>\n",
              "    </tr>\n",
              "    <tr>\n",
              "      <th>1</th>\n",
              "      <td>1420.jpg</td>\n",
              "      <td>0</td>\n",
              "    </tr>\n",
              "    <tr>\n",
              "      <th>2</th>\n",
              "      <td>1764.jpg</td>\n",
              "      <td>0</td>\n",
              "    </tr>\n",
              "    <tr>\n",
              "      <th>3</th>\n",
              "      <td>1356.jpg</td>\n",
              "      <td>0</td>\n",
              "    </tr>\n",
              "    <tr>\n",
              "      <th>4</th>\n",
              "      <td>1117.jpg</td>\n",
              "      <td>0</td>\n",
              "    </tr>\n",
              "  </tbody>\n",
              "</table>\n",
              "</div>\n",
              "      <button class=\"colab-df-convert\" onclick=\"convertToInteractive('df-ace48f92-9c51-42eb-83dc-2871b2a4c824')\"\n",
              "              title=\"Convert this dataframe to an interactive table.\"\n",
              "              style=\"display:none;\">\n",
              "        \n",
              "  <svg xmlns=\"http://www.w3.org/2000/svg\" height=\"24px\"viewBox=\"0 0 24 24\"\n",
              "       width=\"24px\">\n",
              "    <path d=\"M0 0h24v24H0V0z\" fill=\"none\"/>\n",
              "    <path d=\"M18.56 5.44l.94 2.06.94-2.06 2.06-.94-2.06-.94-.94-2.06-.94 2.06-2.06.94zm-11 1L8.5 8.5l.94-2.06 2.06-.94-2.06-.94L8.5 2.5l-.94 2.06-2.06.94zm10 10l.94 2.06.94-2.06 2.06-.94-2.06-.94-.94-2.06-.94 2.06-2.06.94z\"/><path d=\"M17.41 7.96l-1.37-1.37c-.4-.4-.92-.59-1.43-.59-.52 0-1.04.2-1.43.59L10.3 9.45l-7.72 7.72c-.78.78-.78 2.05 0 2.83L4 21.41c.39.39.9.59 1.41.59.51 0 1.02-.2 1.41-.59l7.78-7.78 2.81-2.81c.8-.78.8-2.07 0-2.86zM5.41 20L4 18.59l7.72-7.72 1.47 1.35L5.41 20z\"/>\n",
              "  </svg>\n",
              "      </button>\n",
              "      \n",
              "  <style>\n",
              "    .colab-df-container {\n",
              "      display:flex;\n",
              "      flex-wrap:wrap;\n",
              "      gap: 12px;\n",
              "    }\n",
              "\n",
              "    .colab-df-convert {\n",
              "      background-color: #E8F0FE;\n",
              "      border: none;\n",
              "      border-radius: 50%;\n",
              "      cursor: pointer;\n",
              "      display: none;\n",
              "      fill: #1967D2;\n",
              "      height: 32px;\n",
              "      padding: 0 0 0 0;\n",
              "      width: 32px;\n",
              "    }\n",
              "\n",
              "    .colab-df-convert:hover {\n",
              "      background-color: #E2EBFA;\n",
              "      box-shadow: 0px 1px 2px rgba(60, 64, 67, 0.3), 0px 1px 3px 1px rgba(60, 64, 67, 0.15);\n",
              "      fill: #174EA6;\n",
              "    }\n",
              "\n",
              "    [theme=dark] .colab-df-convert {\n",
              "      background-color: #3B4455;\n",
              "      fill: #D2E3FC;\n",
              "    }\n",
              "\n",
              "    [theme=dark] .colab-df-convert:hover {\n",
              "      background-color: #434B5C;\n",
              "      box-shadow: 0px 1px 3px 1px rgba(0, 0, 0, 0.15);\n",
              "      filter: drop-shadow(0px 1px 2px rgba(0, 0, 0, 0.3));\n",
              "      fill: #FFFFFF;\n",
              "    }\n",
              "  </style>\n",
              "\n",
              "      <script>\n",
              "        const buttonEl =\n",
              "          document.querySelector('#df-ace48f92-9c51-42eb-83dc-2871b2a4c824 button.colab-df-convert');\n",
              "        buttonEl.style.display =\n",
              "          google.colab.kernel.accessAllowed ? 'block' : 'none';\n",
              "\n",
              "        async function convertToInteractive(key) {\n",
              "          const element = document.querySelector('#df-ace48f92-9c51-42eb-83dc-2871b2a4c824');\n",
              "          const dataTable =\n",
              "            await google.colab.kernel.invokeFunction('convertToInteractive',\n",
              "                                                     [key], {});\n",
              "          if (!dataTable) return;\n",
              "\n",
              "          const docLinkHtml = 'Like what you see? Visit the ' +\n",
              "            '<a target=\"_blank\" href=https://colab.research.google.com/notebooks/data_table.ipynb>data table notebook</a>'\n",
              "            + ' to learn more about interactive tables.';\n",
              "          element.innerHTML = '';\n",
              "          dataTable['output_type'] = 'display_data';\n",
              "          await google.colab.output.renderOutput(dataTable, element);\n",
              "          const docLink = document.createElement('div');\n",
              "          docLink.innerHTML = docLinkHtml;\n",
              "          element.appendChild(docLink);\n",
              "        }\n",
              "      </script>\n",
              "    </div>\n",
              "  </div>\n",
              "  "
            ]
          },
          "metadata": {},
          "execution_count": 3
        }
      ]
    },
    {
      "cell_type": "code",
      "source": [
        "len(train_csv)"
      ],
      "metadata": {
        "colab": {
          "base_uri": "https://localhost:8080/"
        },
        "id": "9HBhw2cMRYk9",
        "outputId": "74c5b66e-de21-4f42-849d-7cf2a17208cd"
      },
      "execution_count": 4,
      "outputs": [
        {
          "output_type": "execute_result",
          "data": {
            "text/plain": [
              "6584"
            ]
          },
          "metadata": {},
          "execution_count": 4
        }
      ]
    },
    {
      "cell_type": "markdown",
      "source": [
        "- **There are 6584 train data images label**"
      ],
      "metadata": {
        "id": "VTYvbRH8RcLr"
      }
    },
    {
      "cell_type": "code",
      "source": [
        "# load test data output \n",
        "test_csv = pd.read_csv('/content/drive/MyDrive/Emergency vs Non-Emergency vehicles/dataset/sample_submission_yxjOnvz.csv')\n",
        "test_csv.head()"
      ],
      "metadata": {
        "colab": {
          "base_uri": "https://localhost:8080/",
          "height": 206
        },
        "id": "6szVfFJHRlcu",
        "outputId": "34d4a406-e1cb-4ae7-cfd6-4ebaae59ed12"
      },
      "execution_count": 5,
      "outputs": [
        {
          "output_type": "execute_result",
          "data": {
            "text/plain": [
              "  image_names  emergency_or_not\n",
              "0    1960.jpg                 0\n",
              "1     668.jpg                 0\n",
              "2    2082.jpg                 0\n",
              "3     808.jpg                 0\n",
              "4    1907.jpg                 0"
            ],
            "text/html": [
              "\n",
              "  <div id=\"df-1b4cafba-2561-4a98-b840-af1a07b2302c\">\n",
              "    <div class=\"colab-df-container\">\n",
              "      <div>\n",
              "<style scoped>\n",
              "    .dataframe tbody tr th:only-of-type {\n",
              "        vertical-align: middle;\n",
              "    }\n",
              "\n",
              "    .dataframe tbody tr th {\n",
              "        vertical-align: top;\n",
              "    }\n",
              "\n",
              "    .dataframe thead th {\n",
              "        text-align: right;\n",
              "    }\n",
              "</style>\n",
              "<table border=\"1\" class=\"dataframe\">\n",
              "  <thead>\n",
              "    <tr style=\"text-align: right;\">\n",
              "      <th></th>\n",
              "      <th>image_names</th>\n",
              "      <th>emergency_or_not</th>\n",
              "    </tr>\n",
              "  </thead>\n",
              "  <tbody>\n",
              "    <tr>\n",
              "      <th>0</th>\n",
              "      <td>1960.jpg</td>\n",
              "      <td>0</td>\n",
              "    </tr>\n",
              "    <tr>\n",
              "      <th>1</th>\n",
              "      <td>668.jpg</td>\n",
              "      <td>0</td>\n",
              "    </tr>\n",
              "    <tr>\n",
              "      <th>2</th>\n",
              "      <td>2082.jpg</td>\n",
              "      <td>0</td>\n",
              "    </tr>\n",
              "    <tr>\n",
              "      <th>3</th>\n",
              "      <td>808.jpg</td>\n",
              "      <td>0</td>\n",
              "    </tr>\n",
              "    <tr>\n",
              "      <th>4</th>\n",
              "      <td>1907.jpg</td>\n",
              "      <td>0</td>\n",
              "    </tr>\n",
              "  </tbody>\n",
              "</table>\n",
              "</div>\n",
              "      <button class=\"colab-df-convert\" onclick=\"convertToInteractive('df-1b4cafba-2561-4a98-b840-af1a07b2302c')\"\n",
              "              title=\"Convert this dataframe to an interactive table.\"\n",
              "              style=\"display:none;\">\n",
              "        \n",
              "  <svg xmlns=\"http://www.w3.org/2000/svg\" height=\"24px\"viewBox=\"0 0 24 24\"\n",
              "       width=\"24px\">\n",
              "    <path d=\"M0 0h24v24H0V0z\" fill=\"none\"/>\n",
              "    <path d=\"M18.56 5.44l.94 2.06.94-2.06 2.06-.94-2.06-.94-.94-2.06-.94 2.06-2.06.94zm-11 1L8.5 8.5l.94-2.06 2.06-.94-2.06-.94L8.5 2.5l-.94 2.06-2.06.94zm10 10l.94 2.06.94-2.06 2.06-.94-2.06-.94-.94-2.06-.94 2.06-2.06.94z\"/><path d=\"M17.41 7.96l-1.37-1.37c-.4-.4-.92-.59-1.43-.59-.52 0-1.04.2-1.43.59L10.3 9.45l-7.72 7.72c-.78.78-.78 2.05 0 2.83L4 21.41c.39.39.9.59 1.41.59.51 0 1.02-.2 1.41-.59l7.78-7.78 2.81-2.81c.8-.78.8-2.07 0-2.86zM5.41 20L4 18.59l7.72-7.72 1.47 1.35L5.41 20z\"/>\n",
              "  </svg>\n",
              "      </button>\n",
              "      \n",
              "  <style>\n",
              "    .colab-df-container {\n",
              "      display:flex;\n",
              "      flex-wrap:wrap;\n",
              "      gap: 12px;\n",
              "    }\n",
              "\n",
              "    .colab-df-convert {\n",
              "      background-color: #E8F0FE;\n",
              "      border: none;\n",
              "      border-radius: 50%;\n",
              "      cursor: pointer;\n",
              "      display: none;\n",
              "      fill: #1967D2;\n",
              "      height: 32px;\n",
              "      padding: 0 0 0 0;\n",
              "      width: 32px;\n",
              "    }\n",
              "\n",
              "    .colab-df-convert:hover {\n",
              "      background-color: #E2EBFA;\n",
              "      box-shadow: 0px 1px 2px rgba(60, 64, 67, 0.3), 0px 1px 3px 1px rgba(60, 64, 67, 0.15);\n",
              "      fill: #174EA6;\n",
              "    }\n",
              "\n",
              "    [theme=dark] .colab-df-convert {\n",
              "      background-color: #3B4455;\n",
              "      fill: #D2E3FC;\n",
              "    }\n",
              "\n",
              "    [theme=dark] .colab-df-convert:hover {\n",
              "      background-color: #434B5C;\n",
              "      box-shadow: 0px 1px 3px 1px rgba(0, 0, 0, 0.15);\n",
              "      filter: drop-shadow(0px 1px 2px rgba(0, 0, 0, 0.3));\n",
              "      fill: #FFFFFF;\n",
              "    }\n",
              "  </style>\n",
              "\n",
              "      <script>\n",
              "        const buttonEl =\n",
              "          document.querySelector('#df-1b4cafba-2561-4a98-b840-af1a07b2302c button.colab-df-convert');\n",
              "        buttonEl.style.display =\n",
              "          google.colab.kernel.accessAllowed ? 'block' : 'none';\n",
              "\n",
              "        async function convertToInteractive(key) {\n",
              "          const element = document.querySelector('#df-1b4cafba-2561-4a98-b840-af1a07b2302c');\n",
              "          const dataTable =\n",
              "            await google.colab.kernel.invokeFunction('convertToInteractive',\n",
              "                                                     [key], {});\n",
              "          if (!dataTable) return;\n",
              "\n",
              "          const docLinkHtml = 'Like what you see? Visit the ' +\n",
              "            '<a target=\"_blank\" href=https://colab.research.google.com/notebooks/data_table.ipynb>data table notebook</a>'\n",
              "            + ' to learn more about interactive tables.';\n",
              "          element.innerHTML = '';\n",
              "          dataTable['output_type'] = 'display_data';\n",
              "          await google.colab.output.renderOutput(dataTable, element);\n",
              "          const docLink = document.createElement('div');\n",
              "          docLink.innerHTML = docLinkHtml;\n",
              "          element.appendChild(docLink);\n",
              "        }\n",
              "      </script>\n",
              "    </div>\n",
              "  </div>\n",
              "  "
            ]
          },
          "metadata": {},
          "execution_count": 5
        }
      ]
    },
    {
      "cell_type": "code",
      "source": [
        "len(test_csv)"
      ],
      "metadata": {
        "colab": {
          "base_uri": "https://localhost:8080/"
        },
        "id": "QJOP6XlGRrUB",
        "outputId": "8fc6a209-a938-4ac4-9aa4-96a60a8ab7e4"
      },
      "execution_count": 6,
      "outputs": [
        {
          "output_type": "execute_result",
          "data": {
            "text/plain": [
              "706"
            ]
          },
          "metadata": {},
          "execution_count": 6
        }
      ]
    },
    {
      "cell_type": "code",
      "source": [
        "# Get the names of the images names\n",
        "import os \n",
        "\n",
        "# specify the img directory path\n",
        "out_path = '/content/drive/MyDrive/Emergency vs Non-Emergency vehicles/dataset/images'\n",
        "\n",
        "# list files in img directory\n",
        "out_files = os.listdir(out_path)\n",
        "images_data_names = []\n",
        "for file in out_files:\n",
        "    # make sure file is an image\n",
        "    if file.endswith('.jpg'):\n",
        "        images_data_names.append(file)\n"
      ],
      "metadata": {
        "id": "6qnbwYbQRv-k"
      },
      "execution_count": 7,
      "outputs": []
    },
    {
      "cell_type": "code",
      "source": [
        "# top 10 records \n",
        "images_data_names[:10]"
      ],
      "metadata": {
        "colab": {
          "base_uri": "https://localhost:8080/"
        },
        "id": "ZjiM-63ISJ0C",
        "outputId": "9d241542-b58d-4524-81e2-724e0d189be3"
      },
      "execution_count": 8,
      "outputs": [
        {
          "output_type": "execute_result",
          "data": {
            "text/plain": [
              "['791.jpg',\n",
              " '7911.jpg',\n",
              " '7912.jpg',\n",
              " '7913.jpg',\n",
              " '7915.jpg',\n",
              " '7916.jpg',\n",
              " '7917.jpg',\n",
              " '7919.jpg',\n",
              " '792.jpg',\n",
              " '7920.jpg']"
            ]
          },
          "metadata": {},
          "execution_count": 8
        }
      ]
    },
    {
      "cell_type": "code",
      "source": [
        "# total number of images\n",
        "len(images_data_names)"
      ],
      "metadata": {
        "colab": {
          "base_uri": "https://localhost:8080/"
        },
        "id": "WUohI1iOSPNH",
        "outputId": "b8a91cfa-2de8-4e38-bf15-7dbce0d441b8"
      },
      "execution_count": 9,
      "outputs": [
        {
          "output_type": "execute_result",
          "data": {
            "text/plain": [
              "7290"
            ]
          },
          "metadata": {},
          "execution_count": 9
        }
      ]
    },
    {
      "cell_type": "markdown",
      "source": [
        "- **There are 7290 images which account for both the training and test data whose labels have already been separated**"
      ],
      "metadata": {
        "id": "TPPN2LdQSbIo"
      }
    },
    {
      "cell_type": "markdown",
      "source": [
        "**SEPARATE THE TRAINING DATA FROM THE FULL IMAGE DATA BY THEIR OUPUT**"
      ],
      "metadata": {
        "id": "gdBilpKESgRC"
      }
    },
    {
      "cell_type": "code",
      "source": [
        "train_csv.head()"
      ],
      "metadata": {
        "colab": {
          "base_uri": "https://localhost:8080/",
          "height": 206
        },
        "id": "TiktW_pxSnzn",
        "outputId": "4a95b368-41ca-4e72-e8ba-0a2fbe1f9582"
      },
      "execution_count": 10,
      "outputs": [
        {
          "output_type": "execute_result",
          "data": {
            "text/plain": [
              "  image_names  emergency_or_not\n",
              "0    1503.jpg                 0\n",
              "1    1420.jpg                 0\n",
              "2    1764.jpg                 0\n",
              "3    1356.jpg                 0\n",
              "4    1117.jpg                 0"
            ],
            "text/html": [
              "\n",
              "  <div id=\"df-715ac262-d358-424a-998c-1836c654189e\">\n",
              "    <div class=\"colab-df-container\">\n",
              "      <div>\n",
              "<style scoped>\n",
              "    .dataframe tbody tr th:only-of-type {\n",
              "        vertical-align: middle;\n",
              "    }\n",
              "\n",
              "    .dataframe tbody tr th {\n",
              "        vertical-align: top;\n",
              "    }\n",
              "\n",
              "    .dataframe thead th {\n",
              "        text-align: right;\n",
              "    }\n",
              "</style>\n",
              "<table border=\"1\" class=\"dataframe\">\n",
              "  <thead>\n",
              "    <tr style=\"text-align: right;\">\n",
              "      <th></th>\n",
              "      <th>image_names</th>\n",
              "      <th>emergency_or_not</th>\n",
              "    </tr>\n",
              "  </thead>\n",
              "  <tbody>\n",
              "    <tr>\n",
              "      <th>0</th>\n",
              "      <td>1503.jpg</td>\n",
              "      <td>0</td>\n",
              "    </tr>\n",
              "    <tr>\n",
              "      <th>1</th>\n",
              "      <td>1420.jpg</td>\n",
              "      <td>0</td>\n",
              "    </tr>\n",
              "    <tr>\n",
              "      <th>2</th>\n",
              "      <td>1764.jpg</td>\n",
              "      <td>0</td>\n",
              "    </tr>\n",
              "    <tr>\n",
              "      <th>3</th>\n",
              "      <td>1356.jpg</td>\n",
              "      <td>0</td>\n",
              "    </tr>\n",
              "    <tr>\n",
              "      <th>4</th>\n",
              "      <td>1117.jpg</td>\n",
              "      <td>0</td>\n",
              "    </tr>\n",
              "  </tbody>\n",
              "</table>\n",
              "</div>\n",
              "      <button class=\"colab-df-convert\" onclick=\"convertToInteractive('df-715ac262-d358-424a-998c-1836c654189e')\"\n",
              "              title=\"Convert this dataframe to an interactive table.\"\n",
              "              style=\"display:none;\">\n",
              "        \n",
              "  <svg xmlns=\"http://www.w3.org/2000/svg\" height=\"24px\"viewBox=\"0 0 24 24\"\n",
              "       width=\"24px\">\n",
              "    <path d=\"M0 0h24v24H0V0z\" fill=\"none\"/>\n",
              "    <path d=\"M18.56 5.44l.94 2.06.94-2.06 2.06-.94-2.06-.94-.94-2.06-.94 2.06-2.06.94zm-11 1L8.5 8.5l.94-2.06 2.06-.94-2.06-.94L8.5 2.5l-.94 2.06-2.06.94zm10 10l.94 2.06.94-2.06 2.06-.94-2.06-.94-.94-2.06-.94 2.06-2.06.94z\"/><path d=\"M17.41 7.96l-1.37-1.37c-.4-.4-.92-.59-1.43-.59-.52 0-1.04.2-1.43.59L10.3 9.45l-7.72 7.72c-.78.78-.78 2.05 0 2.83L4 21.41c.39.39.9.59 1.41.59.51 0 1.02-.2 1.41-.59l7.78-7.78 2.81-2.81c.8-.78.8-2.07 0-2.86zM5.41 20L4 18.59l7.72-7.72 1.47 1.35L5.41 20z\"/>\n",
              "  </svg>\n",
              "      </button>\n",
              "      \n",
              "  <style>\n",
              "    .colab-df-container {\n",
              "      display:flex;\n",
              "      flex-wrap:wrap;\n",
              "      gap: 12px;\n",
              "    }\n",
              "\n",
              "    .colab-df-convert {\n",
              "      background-color: #E8F0FE;\n",
              "      border: none;\n",
              "      border-radius: 50%;\n",
              "      cursor: pointer;\n",
              "      display: none;\n",
              "      fill: #1967D2;\n",
              "      height: 32px;\n",
              "      padding: 0 0 0 0;\n",
              "      width: 32px;\n",
              "    }\n",
              "\n",
              "    .colab-df-convert:hover {\n",
              "      background-color: #E2EBFA;\n",
              "      box-shadow: 0px 1px 2px rgba(60, 64, 67, 0.3), 0px 1px 3px 1px rgba(60, 64, 67, 0.15);\n",
              "      fill: #174EA6;\n",
              "    }\n",
              "\n",
              "    [theme=dark] .colab-df-convert {\n",
              "      background-color: #3B4455;\n",
              "      fill: #D2E3FC;\n",
              "    }\n",
              "\n",
              "    [theme=dark] .colab-df-convert:hover {\n",
              "      background-color: #434B5C;\n",
              "      box-shadow: 0px 1px 3px 1px rgba(0, 0, 0, 0.15);\n",
              "      filter: drop-shadow(0px 1px 2px rgba(0, 0, 0, 0.3));\n",
              "      fill: #FFFFFF;\n",
              "    }\n",
              "  </style>\n",
              "\n",
              "      <script>\n",
              "        const buttonEl =\n",
              "          document.querySelector('#df-715ac262-d358-424a-998c-1836c654189e button.colab-df-convert');\n",
              "        buttonEl.style.display =\n",
              "          google.colab.kernel.accessAllowed ? 'block' : 'none';\n",
              "\n",
              "        async function convertToInteractive(key) {\n",
              "          const element = document.querySelector('#df-715ac262-d358-424a-998c-1836c654189e');\n",
              "          const dataTable =\n",
              "            await google.colab.kernel.invokeFunction('convertToInteractive',\n",
              "                                                     [key], {});\n",
              "          if (!dataTable) return;\n",
              "\n",
              "          const docLinkHtml = 'Like what you see? Visit the ' +\n",
              "            '<a target=\"_blank\" href=https://colab.research.google.com/notebooks/data_table.ipynb>data table notebook</a>'\n",
              "            + ' to learn more about interactive tables.';\n",
              "          element.innerHTML = '';\n",
              "          dataTable['output_type'] = 'display_data';\n",
              "          await google.colab.output.renderOutput(dataTable, element);\n",
              "          const docLink = document.createElement('div');\n",
              "          docLink.innerHTML = docLinkHtml;\n",
              "          element.appendChild(docLink);\n",
              "        }\n",
              "      </script>\n",
              "    </div>\n",
              "  </div>\n",
              "  "
            ]
          },
          "metadata": {},
          "execution_count": 10
        }
      ]
    },
    {
      "cell_type": "markdown",
      "source": [
        "## **train_emergency_dataframe**"
      ],
      "metadata": {
        "id": "N-hexoNnaoEz"
      }
    },
    {
      "cell_type": "code",
      "source": [
        "train_emergency_csv = train_csv[train_csv['emergency_or_not'] == 1]\n",
        "train_emergency_csv.sort_values('image_names', inplace = True)\n",
        "train_emergency_csv.head()"
      ],
      "metadata": {
        "colab": {
          "base_uri": "https://localhost:8080/",
          "height": 313
        },
        "id": "tbnVi3_IS022",
        "outputId": "412b9d46-0aa8-4edc-e77b-e5bf62a915c2"
      },
      "execution_count": 11,
      "outputs": [
        {
          "output_type": "stream",
          "name": "stderr",
          "text": [
            "/usr/local/lib/python3.8/dist-packages/pandas/util/_decorators.py:311: SettingWithCopyWarning: \n",
            "A value is trying to be set on a copy of a slice from a DataFrame\n",
            "\n",
            "See the caveats in the documentation: https://pandas.pydata.org/pandas-docs/stable/user_guide/indexing.html#returning-a-view-versus-a-copy\n",
            "  return func(*args, **kwargs)\n"
          ]
        },
        {
          "output_type": "execute_result",
          "data": {
            "text/plain": [
              "     image_names  emergency_or_not\n",
              "880        0.jpg                 1\n",
              "1489       1.jpg                 1\n",
              "545       10.jpg                 1\n",
              "295      101.jpg                 1\n",
              "843      102.jpg                 1"
            ],
            "text/html": [
              "\n",
              "  <div id=\"df-d2a968ce-c5a6-4adb-bf27-14e2da50b34a\">\n",
              "    <div class=\"colab-df-container\">\n",
              "      <div>\n",
              "<style scoped>\n",
              "    .dataframe tbody tr th:only-of-type {\n",
              "        vertical-align: middle;\n",
              "    }\n",
              "\n",
              "    .dataframe tbody tr th {\n",
              "        vertical-align: top;\n",
              "    }\n",
              "\n",
              "    .dataframe thead th {\n",
              "        text-align: right;\n",
              "    }\n",
              "</style>\n",
              "<table border=\"1\" class=\"dataframe\">\n",
              "  <thead>\n",
              "    <tr style=\"text-align: right;\">\n",
              "      <th></th>\n",
              "      <th>image_names</th>\n",
              "      <th>emergency_or_not</th>\n",
              "    </tr>\n",
              "  </thead>\n",
              "  <tbody>\n",
              "    <tr>\n",
              "      <th>880</th>\n",
              "      <td>0.jpg</td>\n",
              "      <td>1</td>\n",
              "    </tr>\n",
              "    <tr>\n",
              "      <th>1489</th>\n",
              "      <td>1.jpg</td>\n",
              "      <td>1</td>\n",
              "    </tr>\n",
              "    <tr>\n",
              "      <th>545</th>\n",
              "      <td>10.jpg</td>\n",
              "      <td>1</td>\n",
              "    </tr>\n",
              "    <tr>\n",
              "      <th>295</th>\n",
              "      <td>101.jpg</td>\n",
              "      <td>1</td>\n",
              "    </tr>\n",
              "    <tr>\n",
              "      <th>843</th>\n",
              "      <td>102.jpg</td>\n",
              "      <td>1</td>\n",
              "    </tr>\n",
              "  </tbody>\n",
              "</table>\n",
              "</div>\n",
              "      <button class=\"colab-df-convert\" onclick=\"convertToInteractive('df-d2a968ce-c5a6-4adb-bf27-14e2da50b34a')\"\n",
              "              title=\"Convert this dataframe to an interactive table.\"\n",
              "              style=\"display:none;\">\n",
              "        \n",
              "  <svg xmlns=\"http://www.w3.org/2000/svg\" height=\"24px\"viewBox=\"0 0 24 24\"\n",
              "       width=\"24px\">\n",
              "    <path d=\"M0 0h24v24H0V0z\" fill=\"none\"/>\n",
              "    <path d=\"M18.56 5.44l.94 2.06.94-2.06 2.06-.94-2.06-.94-.94-2.06-.94 2.06-2.06.94zm-11 1L8.5 8.5l.94-2.06 2.06-.94-2.06-.94L8.5 2.5l-.94 2.06-2.06.94zm10 10l.94 2.06.94-2.06 2.06-.94-2.06-.94-.94-2.06-.94 2.06-2.06.94z\"/><path d=\"M17.41 7.96l-1.37-1.37c-.4-.4-.92-.59-1.43-.59-.52 0-1.04.2-1.43.59L10.3 9.45l-7.72 7.72c-.78.78-.78 2.05 0 2.83L4 21.41c.39.39.9.59 1.41.59.51 0 1.02-.2 1.41-.59l7.78-7.78 2.81-2.81c.8-.78.8-2.07 0-2.86zM5.41 20L4 18.59l7.72-7.72 1.47 1.35L5.41 20z\"/>\n",
              "  </svg>\n",
              "      </button>\n",
              "      \n",
              "  <style>\n",
              "    .colab-df-container {\n",
              "      display:flex;\n",
              "      flex-wrap:wrap;\n",
              "      gap: 12px;\n",
              "    }\n",
              "\n",
              "    .colab-df-convert {\n",
              "      background-color: #E8F0FE;\n",
              "      border: none;\n",
              "      border-radius: 50%;\n",
              "      cursor: pointer;\n",
              "      display: none;\n",
              "      fill: #1967D2;\n",
              "      height: 32px;\n",
              "      padding: 0 0 0 0;\n",
              "      width: 32px;\n",
              "    }\n",
              "\n",
              "    .colab-df-convert:hover {\n",
              "      background-color: #E2EBFA;\n",
              "      box-shadow: 0px 1px 2px rgba(60, 64, 67, 0.3), 0px 1px 3px 1px rgba(60, 64, 67, 0.15);\n",
              "      fill: #174EA6;\n",
              "    }\n",
              "\n",
              "    [theme=dark] .colab-df-convert {\n",
              "      background-color: #3B4455;\n",
              "      fill: #D2E3FC;\n",
              "    }\n",
              "\n",
              "    [theme=dark] .colab-df-convert:hover {\n",
              "      background-color: #434B5C;\n",
              "      box-shadow: 0px 1px 3px 1px rgba(0, 0, 0, 0.15);\n",
              "      filter: drop-shadow(0px 1px 2px rgba(0, 0, 0, 0.3));\n",
              "      fill: #FFFFFF;\n",
              "    }\n",
              "  </style>\n",
              "\n",
              "      <script>\n",
              "        const buttonEl =\n",
              "          document.querySelector('#df-d2a968ce-c5a6-4adb-bf27-14e2da50b34a button.colab-df-convert');\n",
              "        buttonEl.style.display =\n",
              "          google.colab.kernel.accessAllowed ? 'block' : 'none';\n",
              "\n",
              "        async function convertToInteractive(key) {\n",
              "          const element = document.querySelector('#df-d2a968ce-c5a6-4adb-bf27-14e2da50b34a');\n",
              "          const dataTable =\n",
              "            await google.colab.kernel.invokeFunction('convertToInteractive',\n",
              "                                                     [key], {});\n",
              "          if (!dataTable) return;\n",
              "\n",
              "          const docLinkHtml = 'Like what you see? Visit the ' +\n",
              "            '<a target=\"_blank\" href=https://colab.research.google.com/notebooks/data_table.ipynb>data table notebook</a>'\n",
              "            + ' to learn more about interactive tables.';\n",
              "          element.innerHTML = '';\n",
              "          dataTable['output_type'] = 'display_data';\n",
              "          await google.colab.output.renderOutput(dataTable, element);\n",
              "          const docLink = document.createElement('div');\n",
              "          docLink.innerHTML = docLinkHtml;\n",
              "          element.appendChild(docLink);\n",
              "        }\n",
              "      </script>\n",
              "    </div>\n",
              "  </div>\n",
              "  "
            ]
          },
          "metadata": {},
          "execution_count": 11
        }
      ]
    },
    {
      "cell_type": "markdown",
      "source": [
        "### **train_emergency_images_path**"
      ],
      "metadata": {
        "id": "lVqHDkHJawS-"
      }
    },
    {
      "cell_type": "code",
      "source": [
        "# full images path\n",
        "target_folder = '/content/drive/MyDrive/Emergency vs Non-Emergency vehicles/dataset/images/' "
      ],
      "metadata": {
        "id": "uw_p9m6NaATN"
      },
      "execution_count": 12,
      "outputs": []
    },
    {
      "cell_type": "code",
      "source": [
        "# train_emergency_images_path\n",
        "train_emergency_image_names = train_emergency_csv['image_names']\n",
        "train_emergency_images_path = [target_folder + t for t in train_emergency_image_names]\n",
        "train_emergency_images_path[:5]"
      ],
      "metadata": {
        "colab": {
          "base_uri": "https://localhost:8080/"
        },
        "id": "wxlGm2FAYYUU",
        "outputId": "adc36d30-2f9e-4bda-dd93-d5e010fcb376"
      },
      "execution_count": 13,
      "outputs": [
        {
          "output_type": "execute_result",
          "data": {
            "text/plain": [
              "['/content/drive/MyDrive/Emergency vs Non-Emergency vehicles/dataset/images/0.jpg',\n",
              " '/content/drive/MyDrive/Emergency vs Non-Emergency vehicles/dataset/images/1.jpg',\n",
              " '/content/drive/MyDrive/Emergency vs Non-Emergency vehicles/dataset/images/10.jpg',\n",
              " '/content/drive/MyDrive/Emergency vs Non-Emergency vehicles/dataset/images/101.jpg',\n",
              " '/content/drive/MyDrive/Emergency vs Non-Emergency vehicles/dataset/images/102.jpg']"
            ]
          },
          "metadata": {},
          "execution_count": 13
        }
      ]
    },
    {
      "cell_type": "code",
      "source": [
        "# train_non_emergency_labels\n",
        "train_emergency_labels = train_emergency_csv['emergency_or_not']\n",
        "train_emergency_labels.head()"
      ],
      "metadata": {
        "colab": {
          "base_uri": "https://localhost:8080/"
        },
        "id": "vg7u-Zq2l-b0",
        "outputId": "31d3079e-6272-4194-be10-429d30f9279d"
      },
      "execution_count": 14,
      "outputs": [
        {
          "output_type": "execute_result",
          "data": {
            "text/plain": [
              "880     1\n",
              "1489    1\n",
              "545     1\n",
              "295     1\n",
              "843     1\n",
              "Name: emergency_or_not, dtype: int64"
            ]
          },
          "metadata": {},
          "execution_count": 14
        }
      ]
    },
    {
      "cell_type": "code",
      "source": [
        "\n",
        "# train_non_emergency_dataframe\n",
        "train_non_emergency_csv = train_csv[train_csv['emergency_or_not'] == 0]\n",
        "train_non_emergency_csv.sort_values('image_names', inplace = True)\n",
        "train_non_emergency_csv.head()"
      ],
      "metadata": {
        "colab": {
          "base_uri": "https://localhost:8080/",
          "height": 313
        },
        "id": "vZh-CBUfTcZu",
        "outputId": "1aab5fc5-767b-47cc-fe92-3a02ddc2cf77"
      },
      "execution_count": 15,
      "outputs": [
        {
          "output_type": "stream",
          "name": "stderr",
          "text": [
            "/usr/local/lib/python3.8/dist-packages/pandas/util/_decorators.py:311: SettingWithCopyWarning: \n",
            "A value is trying to be set on a copy of a slice from a DataFrame\n",
            "\n",
            "See the caveats in the documentation: https://pandas.pydata.org/pandas-docs/stable/user_guide/indexing.html#returning-a-view-versus-a-copy\n",
            "  return func(*args, **kwargs)\n"
          ]
        },
        {
          "output_type": "execute_result",
          "data": {
            "text/plain": [
              "     image_names  emergency_or_not\n",
              "1325    1002.jpg                 0\n",
              "1318    1003.jpg                 0\n",
              "200     1005.jpg                 0\n",
              "590     1006.jpg                 0\n",
              "524     1007.jpg                 0"
            ],
            "text/html": [
              "\n",
              "  <div id=\"df-a6df697b-a0c5-4e24-a324-2f1a460e230a\">\n",
              "    <div class=\"colab-df-container\">\n",
              "      <div>\n",
              "<style scoped>\n",
              "    .dataframe tbody tr th:only-of-type {\n",
              "        vertical-align: middle;\n",
              "    }\n",
              "\n",
              "    .dataframe tbody tr th {\n",
              "        vertical-align: top;\n",
              "    }\n",
              "\n",
              "    .dataframe thead th {\n",
              "        text-align: right;\n",
              "    }\n",
              "</style>\n",
              "<table border=\"1\" class=\"dataframe\">\n",
              "  <thead>\n",
              "    <tr style=\"text-align: right;\">\n",
              "      <th></th>\n",
              "      <th>image_names</th>\n",
              "      <th>emergency_or_not</th>\n",
              "    </tr>\n",
              "  </thead>\n",
              "  <tbody>\n",
              "    <tr>\n",
              "      <th>1325</th>\n",
              "      <td>1002.jpg</td>\n",
              "      <td>0</td>\n",
              "    </tr>\n",
              "    <tr>\n",
              "      <th>1318</th>\n",
              "      <td>1003.jpg</td>\n",
              "      <td>0</td>\n",
              "    </tr>\n",
              "    <tr>\n",
              "      <th>200</th>\n",
              "      <td>1005.jpg</td>\n",
              "      <td>0</td>\n",
              "    </tr>\n",
              "    <tr>\n",
              "      <th>590</th>\n",
              "      <td>1006.jpg</td>\n",
              "      <td>0</td>\n",
              "    </tr>\n",
              "    <tr>\n",
              "      <th>524</th>\n",
              "      <td>1007.jpg</td>\n",
              "      <td>0</td>\n",
              "    </tr>\n",
              "  </tbody>\n",
              "</table>\n",
              "</div>\n",
              "      <button class=\"colab-df-convert\" onclick=\"convertToInteractive('df-a6df697b-a0c5-4e24-a324-2f1a460e230a')\"\n",
              "              title=\"Convert this dataframe to an interactive table.\"\n",
              "              style=\"display:none;\">\n",
              "        \n",
              "  <svg xmlns=\"http://www.w3.org/2000/svg\" height=\"24px\"viewBox=\"0 0 24 24\"\n",
              "       width=\"24px\">\n",
              "    <path d=\"M0 0h24v24H0V0z\" fill=\"none\"/>\n",
              "    <path d=\"M18.56 5.44l.94 2.06.94-2.06 2.06-.94-2.06-.94-.94-2.06-.94 2.06-2.06.94zm-11 1L8.5 8.5l.94-2.06 2.06-.94-2.06-.94L8.5 2.5l-.94 2.06-2.06.94zm10 10l.94 2.06.94-2.06 2.06-.94-2.06-.94-.94-2.06-.94 2.06-2.06.94z\"/><path d=\"M17.41 7.96l-1.37-1.37c-.4-.4-.92-.59-1.43-.59-.52 0-1.04.2-1.43.59L10.3 9.45l-7.72 7.72c-.78.78-.78 2.05 0 2.83L4 21.41c.39.39.9.59 1.41.59.51 0 1.02-.2 1.41-.59l7.78-7.78 2.81-2.81c.8-.78.8-2.07 0-2.86zM5.41 20L4 18.59l7.72-7.72 1.47 1.35L5.41 20z\"/>\n",
              "  </svg>\n",
              "      </button>\n",
              "      \n",
              "  <style>\n",
              "    .colab-df-container {\n",
              "      display:flex;\n",
              "      flex-wrap:wrap;\n",
              "      gap: 12px;\n",
              "    }\n",
              "\n",
              "    .colab-df-convert {\n",
              "      background-color: #E8F0FE;\n",
              "      border: none;\n",
              "      border-radius: 50%;\n",
              "      cursor: pointer;\n",
              "      display: none;\n",
              "      fill: #1967D2;\n",
              "      height: 32px;\n",
              "      padding: 0 0 0 0;\n",
              "      width: 32px;\n",
              "    }\n",
              "\n",
              "    .colab-df-convert:hover {\n",
              "      background-color: #E2EBFA;\n",
              "      box-shadow: 0px 1px 2px rgba(60, 64, 67, 0.3), 0px 1px 3px 1px rgba(60, 64, 67, 0.15);\n",
              "      fill: #174EA6;\n",
              "    }\n",
              "\n",
              "    [theme=dark] .colab-df-convert {\n",
              "      background-color: #3B4455;\n",
              "      fill: #D2E3FC;\n",
              "    }\n",
              "\n",
              "    [theme=dark] .colab-df-convert:hover {\n",
              "      background-color: #434B5C;\n",
              "      box-shadow: 0px 1px 3px 1px rgba(0, 0, 0, 0.15);\n",
              "      filter: drop-shadow(0px 1px 2px rgba(0, 0, 0, 0.3));\n",
              "      fill: #FFFFFF;\n",
              "    }\n",
              "  </style>\n",
              "\n",
              "      <script>\n",
              "        const buttonEl =\n",
              "          document.querySelector('#df-a6df697b-a0c5-4e24-a324-2f1a460e230a button.colab-df-convert');\n",
              "        buttonEl.style.display =\n",
              "          google.colab.kernel.accessAllowed ? 'block' : 'none';\n",
              "\n",
              "        async function convertToInteractive(key) {\n",
              "          const element = document.querySelector('#df-a6df697b-a0c5-4e24-a324-2f1a460e230a');\n",
              "          const dataTable =\n",
              "            await google.colab.kernel.invokeFunction('convertToInteractive',\n",
              "                                                     [key], {});\n",
              "          if (!dataTable) return;\n",
              "\n",
              "          const docLinkHtml = 'Like what you see? Visit the ' +\n",
              "            '<a target=\"_blank\" href=https://colab.research.google.com/notebooks/data_table.ipynb>data table notebook</a>'\n",
              "            + ' to learn more about interactive tables.';\n",
              "          element.innerHTML = '';\n",
              "          dataTable['output_type'] = 'display_data';\n",
              "          await google.colab.output.renderOutput(dataTable, element);\n",
              "          const docLink = document.createElement('div');\n",
              "          docLink.innerHTML = docLinkHtml;\n",
              "          element.appendChild(docLink);\n",
              "        }\n",
              "      </script>\n",
              "    </div>\n",
              "  </div>\n",
              "  "
            ]
          },
          "metadata": {},
          "execution_count": 15
        }
      ]
    },
    {
      "cell_type": "code",
      "source": [
        "# train_non_emergency_image_names\n",
        "train_non_emergency_image_names = train_non_emergency_csv['image_names']\n",
        "train_non_emergency_images_path = [target_folder + t for t in train_non_emergency_image_names]\n",
        "train_non_emergency_images_path[:5]"
      ],
      "metadata": {
        "colab": {
          "base_uri": "https://localhost:8080/"
        },
        "id": "7befn7NMUzMo",
        "outputId": "315bd4bd-8178-4e27-b8df-4b2772194330"
      },
      "execution_count": 16,
      "outputs": [
        {
          "output_type": "execute_result",
          "data": {
            "text/plain": [
              "['/content/drive/MyDrive/Emergency vs Non-Emergency vehicles/dataset/images/1002.jpg',\n",
              " '/content/drive/MyDrive/Emergency vs Non-Emergency vehicles/dataset/images/1003.jpg',\n",
              " '/content/drive/MyDrive/Emergency vs Non-Emergency vehicles/dataset/images/1005.jpg',\n",
              " '/content/drive/MyDrive/Emergency vs Non-Emergency vehicles/dataset/images/1006.jpg',\n",
              " '/content/drive/MyDrive/Emergency vs Non-Emergency vehicles/dataset/images/1007.jpg']"
            ]
          },
          "metadata": {},
          "execution_count": 16
        }
      ]
    },
    {
      "cell_type": "code",
      "source": [
        "# train_non_emergency_labels\n",
        "train_non_emergency_labels = train_non_emergency_csv['emergency_or_not']\n",
        "train_non_emergency_labels.head()"
      ],
      "metadata": {
        "colab": {
          "base_uri": "https://localhost:8080/"
        },
        "id": "bCLs4u51lPib",
        "outputId": "6f76f9e9-133f-4950-f0d5-4c7866b253c7"
      },
      "execution_count": 17,
      "outputs": [
        {
          "output_type": "execute_result",
          "data": {
            "text/plain": [
              "1325    0\n",
              "1318    0\n",
              "200     0\n",
              "590     0\n",
              "524     0\n",
              "Name: emergency_or_not, dtype: int64"
            ]
          },
          "metadata": {},
          "execution_count": 17
        }
      ]
    },
    {
      "cell_type": "markdown",
      "source": [
        "**SEPARATE THE TESTING DATA FROM THE FULL IMAGE DATA BY THEIR OUPUT**"
      ],
      "metadata": {
        "id": "fKz0HeW2b8QB"
      }
    },
    {
      "cell_type": "code",
      "source": [
        "test_csv['emergency_or_not'].value_counts()"
      ],
      "metadata": {
        "colab": {
          "base_uri": "https://localhost:8080/"
        },
        "id": "UbU7Xde-b8Gl",
        "outputId": "77f85a7e-f50a-44cc-c027-64c99596b38a"
      },
      "execution_count": 18,
      "outputs": [
        {
          "output_type": "execute_result",
          "data": {
            "text/plain": [
              "0    706\n",
              "Name: emergency_or_not, dtype: int64"
            ]
          },
          "metadata": {},
          "execution_count": 18
        }
      ]
    },
    {
      "cell_type": "markdown",
      "source": [
        "**Apparently, all the test data are of all non_emergency class**"
      ],
      "metadata": {
        "id": "AqCxeNzufE5v"
      }
    },
    {
      "cell_type": "code",
      "source": [
        "# test dataframe\n",
        "test_csv.sort_values('image_names', inplace = True)\n",
        "test_csv.head()"
      ],
      "metadata": {
        "colab": {
          "base_uri": "https://localhost:8080/",
          "height": 206
        },
        "id": "ypik5ff6b790",
        "outputId": "3b522ca7-efdf-41d1-88a0-ac75d8028641"
      },
      "execution_count": 19,
      "outputs": [
        {
          "output_type": "execute_result",
          "data": {
            "text/plain": [
              "    image_names  emergency_or_not\n",
              "96      100.jpg                 0\n",
              "684    1000.jpg                 0\n",
              "587    1001.jpg                 0\n",
              "240    1004.jpg                 0\n",
              "705    1014.jpg                 0"
            ],
            "text/html": [
              "\n",
              "  <div id=\"df-286341b7-0bb3-432e-aedc-1038350aa93e\">\n",
              "    <div class=\"colab-df-container\">\n",
              "      <div>\n",
              "<style scoped>\n",
              "    .dataframe tbody tr th:only-of-type {\n",
              "        vertical-align: middle;\n",
              "    }\n",
              "\n",
              "    .dataframe tbody tr th {\n",
              "        vertical-align: top;\n",
              "    }\n",
              "\n",
              "    .dataframe thead th {\n",
              "        text-align: right;\n",
              "    }\n",
              "</style>\n",
              "<table border=\"1\" class=\"dataframe\">\n",
              "  <thead>\n",
              "    <tr style=\"text-align: right;\">\n",
              "      <th></th>\n",
              "      <th>image_names</th>\n",
              "      <th>emergency_or_not</th>\n",
              "    </tr>\n",
              "  </thead>\n",
              "  <tbody>\n",
              "    <tr>\n",
              "      <th>96</th>\n",
              "      <td>100.jpg</td>\n",
              "      <td>0</td>\n",
              "    </tr>\n",
              "    <tr>\n",
              "      <th>684</th>\n",
              "      <td>1000.jpg</td>\n",
              "      <td>0</td>\n",
              "    </tr>\n",
              "    <tr>\n",
              "      <th>587</th>\n",
              "      <td>1001.jpg</td>\n",
              "      <td>0</td>\n",
              "    </tr>\n",
              "    <tr>\n",
              "      <th>240</th>\n",
              "      <td>1004.jpg</td>\n",
              "      <td>0</td>\n",
              "    </tr>\n",
              "    <tr>\n",
              "      <th>705</th>\n",
              "      <td>1014.jpg</td>\n",
              "      <td>0</td>\n",
              "    </tr>\n",
              "  </tbody>\n",
              "</table>\n",
              "</div>\n",
              "      <button class=\"colab-df-convert\" onclick=\"convertToInteractive('df-286341b7-0bb3-432e-aedc-1038350aa93e')\"\n",
              "              title=\"Convert this dataframe to an interactive table.\"\n",
              "              style=\"display:none;\">\n",
              "        \n",
              "  <svg xmlns=\"http://www.w3.org/2000/svg\" height=\"24px\"viewBox=\"0 0 24 24\"\n",
              "       width=\"24px\">\n",
              "    <path d=\"M0 0h24v24H0V0z\" fill=\"none\"/>\n",
              "    <path d=\"M18.56 5.44l.94 2.06.94-2.06 2.06-.94-2.06-.94-.94-2.06-.94 2.06-2.06.94zm-11 1L8.5 8.5l.94-2.06 2.06-.94-2.06-.94L8.5 2.5l-.94 2.06-2.06.94zm10 10l.94 2.06.94-2.06 2.06-.94-2.06-.94-.94-2.06-.94 2.06-2.06.94z\"/><path d=\"M17.41 7.96l-1.37-1.37c-.4-.4-.92-.59-1.43-.59-.52 0-1.04.2-1.43.59L10.3 9.45l-7.72 7.72c-.78.78-.78 2.05 0 2.83L4 21.41c.39.39.9.59 1.41.59.51 0 1.02-.2 1.41-.59l7.78-7.78 2.81-2.81c.8-.78.8-2.07 0-2.86zM5.41 20L4 18.59l7.72-7.72 1.47 1.35L5.41 20z\"/>\n",
              "  </svg>\n",
              "      </button>\n",
              "      \n",
              "  <style>\n",
              "    .colab-df-container {\n",
              "      display:flex;\n",
              "      flex-wrap:wrap;\n",
              "      gap: 12px;\n",
              "    }\n",
              "\n",
              "    .colab-df-convert {\n",
              "      background-color: #E8F0FE;\n",
              "      border: none;\n",
              "      border-radius: 50%;\n",
              "      cursor: pointer;\n",
              "      display: none;\n",
              "      fill: #1967D2;\n",
              "      height: 32px;\n",
              "      padding: 0 0 0 0;\n",
              "      width: 32px;\n",
              "    }\n",
              "\n",
              "    .colab-df-convert:hover {\n",
              "      background-color: #E2EBFA;\n",
              "      box-shadow: 0px 1px 2px rgba(60, 64, 67, 0.3), 0px 1px 3px 1px rgba(60, 64, 67, 0.15);\n",
              "      fill: #174EA6;\n",
              "    }\n",
              "\n",
              "    [theme=dark] .colab-df-convert {\n",
              "      background-color: #3B4455;\n",
              "      fill: #D2E3FC;\n",
              "    }\n",
              "\n",
              "    [theme=dark] .colab-df-convert:hover {\n",
              "      background-color: #434B5C;\n",
              "      box-shadow: 0px 1px 3px 1px rgba(0, 0, 0, 0.15);\n",
              "      filter: drop-shadow(0px 1px 2px rgba(0, 0, 0, 0.3));\n",
              "      fill: #FFFFFF;\n",
              "    }\n",
              "  </style>\n",
              "\n",
              "      <script>\n",
              "        const buttonEl =\n",
              "          document.querySelector('#df-286341b7-0bb3-432e-aedc-1038350aa93e button.colab-df-convert');\n",
              "        buttonEl.style.display =\n",
              "          google.colab.kernel.accessAllowed ? 'block' : 'none';\n",
              "\n",
              "        async function convertToInteractive(key) {\n",
              "          const element = document.querySelector('#df-286341b7-0bb3-432e-aedc-1038350aa93e');\n",
              "          const dataTable =\n",
              "            await google.colab.kernel.invokeFunction('convertToInteractive',\n",
              "                                                     [key], {});\n",
              "          if (!dataTable) return;\n",
              "\n",
              "          const docLinkHtml = 'Like what you see? Visit the ' +\n",
              "            '<a target=\"_blank\" href=https://colab.research.google.com/notebooks/data_table.ipynb>data table notebook</a>'\n",
              "            + ' to learn more about interactive tables.';\n",
              "          element.innerHTML = '';\n",
              "          dataTable['output_type'] = 'display_data';\n",
              "          await google.colab.output.renderOutput(dataTable, element);\n",
              "          const docLink = document.createElement('div');\n",
              "          docLink.innerHTML = docLinkHtml;\n",
              "          element.appendChild(docLink);\n",
              "        }\n",
              "      </script>\n",
              "    </div>\n",
              "  </div>\n",
              "  "
            ]
          },
          "metadata": {},
          "execution_count": 19
        }
      ]
    },
    {
      "cell_type": "code",
      "source": [
        "# test_images_path\n",
        "test_image_names = test_csv['image_names']\n",
        "test_images_path = [target_folder + t for t in test_image_names]\n",
        "test_images_path[:5]"
      ],
      "metadata": {
        "colab": {
          "base_uri": "https://localhost:8080/"
        },
        "id": "aJ6VZwfDb7zn",
        "outputId": "18285bc7-c6ac-434a-b7ed-8fe91de87584"
      },
      "execution_count": 20,
      "outputs": [
        {
          "output_type": "execute_result",
          "data": {
            "text/plain": [
              "['/content/drive/MyDrive/Emergency vs Non-Emergency vehicles/dataset/images/100.jpg',\n",
              " '/content/drive/MyDrive/Emergency vs Non-Emergency vehicles/dataset/images/1000.jpg',\n",
              " '/content/drive/MyDrive/Emergency vs Non-Emergency vehicles/dataset/images/1001.jpg',\n",
              " '/content/drive/MyDrive/Emergency vs Non-Emergency vehicles/dataset/images/1004.jpg',\n",
              " '/content/drive/MyDrive/Emergency vs Non-Emergency vehicles/dataset/images/1014.jpg']"
            ]
          },
          "metadata": {},
          "execution_count": 20
        }
      ]
    },
    {
      "cell_type": "code",
      "source": [
        "# test_labels\n",
        "test_labels = test_csv['emergency_or_not']\n",
        "test_labels.head()"
      ],
      "metadata": {
        "colab": {
          "base_uri": "https://localhost:8080/"
        },
        "id": "0dezL_69b7pA",
        "outputId": "a10a68e3-d53b-464d-9393-421a64f393f8"
      },
      "execution_count": 21,
      "outputs": [
        {
          "output_type": "execute_result",
          "data": {
            "text/plain": [
              "96     0\n",
              "684    0\n",
              "587    0\n",
              "240    0\n",
              "705    0\n",
              "Name: emergency_or_not, dtype: int64"
            ]
          },
          "metadata": {},
          "execution_count": 21
        }
      ]
    },
    {
      "cell_type": "markdown",
      "source": [
        "### **Emergency and Non Emergency Dict**"
      ],
      "metadata": {
        "id": "rJ0bmu5IpcPv"
      }
    },
    {
      "cell_type": "code",
      "source": [
        "emergency_non_emergency_images_path_dict = {\n",
        "    'Emergency' : list(train_emergency_images_path), \n",
        "    'Non_Emergency' : list(train_non_emergency_images_path) + list(test_images_path)\n",
        "}"
      ],
      "metadata": {
        "id": "aLRUhd0pb7Fi"
      },
      "execution_count": 22,
      "outputs": []
    },
    {
      "cell_type": "markdown",
      "source": [
        "- **I joined train_non_emergency_images_path and test_images_path as they both belong to the Non Emergency class**"
      ],
      "metadata": {
        "id": "DNDjC6Tf1pS-"
      }
    },
    {
      "cell_type": "code",
      "source": [
        "print(len(train_emergency_images_path))\n",
        "print(len(train_non_emergency_images_path))\n",
        "print(len(test_images_path))"
      ],
      "metadata": {
        "colab": {
          "base_uri": "https://localhost:8080/"
        },
        "id": "KeYnZ7ZUz5Ko",
        "outputId": "40a05f8c-c678-4a27-a85f-dcd20bd0a598"
      },
      "execution_count": 23,
      "outputs": [
        {
          "output_type": "stream",
          "name": "stdout",
          "text": [
            "2724\n",
            "3860\n",
            "706\n"
          ]
        }
      ]
    },
    {
      "cell_type": "code",
      "source": [
        "len(emergency_non_emergency_images_path_dict['Emergency'])"
      ],
      "metadata": {
        "colab": {
          "base_uri": "https://localhost:8080/"
        },
        "id": "kd-Y_5rk0UF7",
        "outputId": "c1d9ba2c-ac4b-447a-9ced-7301a3e4a6f4"
      },
      "execution_count": 24,
      "outputs": [
        {
          "output_type": "execute_result",
          "data": {
            "text/plain": [
              "2724"
            ]
          },
          "metadata": {},
          "execution_count": 24
        }
      ]
    },
    {
      "cell_type": "code",
      "source": [
        "len(emergency_non_emergency_images_path_dict['Non_Emergency'])"
      ],
      "metadata": {
        "colab": {
          "base_uri": "https://localhost:8080/"
        },
        "id": "TJcmr1J90gJ6",
        "outputId": "de6edae9-052d-46f1-d7ce-9db5b81dc9d8"
      },
      "execution_count": 25,
      "outputs": [
        {
          "output_type": "execute_result",
          "data": {
            "text/plain": [
              "4566"
            ]
          },
          "metadata": {},
          "execution_count": 25
        }
      ]
    },
    {
      "cell_type": "code",
      "source": [
        "emergency_non_emergency_labels_dict = {\n",
        "    'Emergency' : 1, \n",
        "    'Non_Emergency' : 0\n",
        "}"
      ],
      "metadata": {
        "id": "Licg5ymwp5nr"
      },
      "execution_count": 26,
      "outputs": []
    },
    {
      "cell_type": "code",
      "source": [
        "emergency_non_emergency_labels_dict"
      ],
      "metadata": {
        "colab": {
          "base_uri": "https://localhost:8080/"
        },
        "id": "nyAtmdgXz1uY",
        "outputId": "fddb9c22-3f12-4d80-83a3-33bf34506ebc"
      },
      "execution_count": 27,
      "outputs": [
        {
          "output_type": "execute_result",
          "data": {
            "text/plain": [
              "{'Emergency': 1, 'Non_Emergency': 0}"
            ]
          },
          "metadata": {},
          "execution_count": 27
        }
      ]
    },
    {
      "cell_type": "markdown",
      "source": [
        "### **CREATE TRAINING IMAGE 3D arrays as X and IMAGE LABELS as y**"
      ],
      "metadata": {
        "id": "QyhNibA8qtLf"
      }
    },
    {
      "cell_type": "code",
      "source": [
        "X, y = [], [] \n",
        "\n",
        "import cv2 \n",
        "\n",
        "for image_cls, image_pth in emergency_non_emergency_images_path_dict.items(): \n",
        "  for image_p in image_pth: \n",
        "    img = cv2.imread(image_p)\n",
        "    resized = cv2.resize(img, (160, 160)) \n",
        "    X.append(resized)\n",
        "    y.append(emergency_non_emergency_labels_dict[image_cls])"
      ],
      "metadata": {
        "id": "d-r2rY1Fqdmm"
      },
      "execution_count": 28,
      "outputs": []
    },
    {
      "cell_type": "code",
      "source": [
        "X[0]"
      ],
      "metadata": {
        "colab": {
          "base_uri": "https://localhost:8080/"
        },
        "id": "zDql43MbChBQ",
        "outputId": "50303cd8-8e2a-4f4a-faac-5a03e3a94719"
      },
      "execution_count": 29,
      "outputs": [
        {
          "output_type": "execute_result",
          "data": {
            "text/plain": [
              "array([[[141, 134, 115],\n",
              "        [142, 135, 116],\n",
              "        [143, 136, 117],\n",
              "        ...,\n",
              "        [ 92,  86,  75],\n",
              "        [ 91,  85,  74],\n",
              "        [ 98,  92,  81]],\n",
              "\n",
              "       [[141, 134, 115],\n",
              "        [142, 135, 116],\n",
              "        [143, 136, 117],\n",
              "        ...,\n",
              "        [ 98,  92,  81],\n",
              "        [ 95,  89,  78],\n",
              "        [ 95,  90,  78]],\n",
              "\n",
              "       [[141, 134, 115],\n",
              "        [142, 135, 116],\n",
              "        [143, 136, 117],\n",
              "        ...,\n",
              "        [ 90,  84,  73],\n",
              "        [ 85,  79,  68],\n",
              "        [ 94,  88,  77]],\n",
              "\n",
              "       ...,\n",
              "\n",
              "       [[ 40,  42,  42],\n",
              "        [ 35,  37,  37],\n",
              "        [ 36,  38,  38],\n",
              "        ...,\n",
              "        [ 29,  31,  32],\n",
              "        [ 32,  34,  35],\n",
              "        [ 35,  37,  38]],\n",
              "\n",
              "       [[ 36,  38,  38],\n",
              "        [ 34,  36,  36],\n",
              "        [ 34,  36,  36],\n",
              "        ...,\n",
              "        [ 32,  34,  35],\n",
              "        [ 40,  43,  43],\n",
              "        [ 37,  39,  40]],\n",
              "\n",
              "       [[ 32,  34,  34],\n",
              "        [ 31,  33,  33],\n",
              "        [ 30,  32,  32],\n",
              "        ...,\n",
              "        [ 34,  36,  37],\n",
              "        [ 37,  39,  40],\n",
              "        [ 22,  24,  25]]], dtype=uint8)"
            ]
          },
          "metadata": {},
          "execution_count": 29
        }
      ]
    },
    {
      "cell_type": "code",
      "source": [
        "y[:5]"
      ],
      "metadata": {
        "colab": {
          "base_uri": "https://localhost:8080/"
        },
        "id": "_cpy1JNjCgh4",
        "outputId": "a154278f-2a66-477f-b3d0-3c789d1f8b5f"
      },
      "execution_count": 30,
      "outputs": [
        {
          "output_type": "execute_result",
          "data": {
            "text/plain": [
              "[1, 1, 1, 1, 1]"
            ]
          },
          "metadata": {},
          "execution_count": 30
        }
      ]
    },
    {
      "cell_type": "markdown",
      "source": [
        "**PLOT RANDOM IMAGES WITH CLASS TO AUTHETICATE THAT THE VEHICLE MATCH THE CLASS**"
      ],
      "metadata": {
        "id": "VFRrplOWqc_P"
      }
    },
    {
      "cell_type": "code",
      "source": [
        "import random \n",
        "import matplotlib.pyplot as plt \n",
        "\n",
        "# plot random images \n",
        "plt.figure(figsize = (10, 7))\n",
        "for i in range(4): \n",
        "  ax = plt.subplot(2, 2, i+1)\n",
        "  random_int = random.choice(range(len(X))) \n",
        "  plt.imshow(X[random_int])\n",
        "  plt.title(y[random_int])\n",
        "  plt.axis(False)"
      ],
      "metadata": {
        "colab": {
          "base_uri": "https://localhost:8080/",
          "height": 427
        },
        "id": "jF3nHo4gptLe",
        "outputId": "e81ad4f5-0117-4546-cf40-bc395f75c5a1"
      },
      "execution_count": 31,
      "outputs": [
        {
          "output_type": "display_data",
          "data": {
            "text/plain": [
              "<Figure size 720x504 with 4 Axes>"
            ],
            "image/png": "[encoded data removed]"
          },
          "metadata": {
            "needs_background": "light"
          }
        }
      ]
    },
    {
      "cell_type": "markdown",
      "source": [
        "- **The images are correctly paired with the labels**"
      ],
      "metadata": {
        "id": "mNeus23Hb68L"
      }
    },
    {
      "cell_type": "markdown",
      "source": [
        "### **SPLIT THE DATASET INTO 2 HALVES** \n",
        "\n",
        "  > I will be using half of the data for the training, validating and testing of the model. As I attempted to use the full dataset, I kept suffering from session crash due to RAM overloading during the Normalization process. Having exploited various options to get around the session crash to no avail, I had to settle for this solution"
      ],
      "metadata": {
        "id": "fPklsOEHeyub"
      }
    },
    {
      "cell_type": "code",
      "source": [
        "# import train_test_split \n",
        "# train_test and validation data\n",
        "from sklearn.model_selection import train_test_split \n",
        "X_half1, X_half2, y_half1, y_half2 = train_test_split(X, y, \n",
        "                                                    random_state = 20, test_size = .50)"
      ],
      "metadata": {
        "id": "pEssKVs1c_96"
      },
      "execution_count": 32,
      "outputs": []
    },
    {
      "cell_type": "markdown",
      "source": [
        "### **SPLIT THE DATASET RANDOMLY TO TRAINING, VALIDATING AND TESTING DATASET**"
      ],
      "metadata": {
        "id": "xYJv07SqyVEC"
      }
    },
    {
      "cell_type": "code",
      "source": [
        "# import train_test_split \n",
        "# train_test and validation data\n",
        "from sklearn.model_selection import train_test_split \n",
        "X_train_full, X_test, y_train_full, y_test = train_test_split(X_half1, y_half1, \n",
        "                                                    random_state = 20, test_size = .20)"
      ],
      "metadata": {
        "id": "dxlSVN713Or8"
      },
      "execution_count": 33,
      "outputs": []
    },
    {
      "cell_type": "code",
      "source": [
        "# import train_test_split \n",
        "# train and test data\n",
        "from sklearn.model_selection import train_test_split \n",
        "X_train, X_valid, y_train, y_valid = train_test_split(X_train_full, y_train_full, \n",
        "                                                    random_state = 20, test_size = .20)"
      ],
      "metadata": {
        "id": "5fy5e2DCT5q8"
      },
      "execution_count": 34,
      "outputs": []
    },
    {
      "cell_type": "markdown",
      "source": [
        "### **CONVERT THE IMAGE 3D ARRAYS INTO NUMPY ARRAYS**"
      ],
      "metadata": {
        "id": "-qmX5IjGgOxz"
      }
    },
    {
      "cell_type": "code",
      "source": [
        "# import numpy \n",
        "import numpy as np"
      ],
      "metadata": {
        "id": "07QhmMBVghK_"
      },
      "execution_count": 35,
      "outputs": []
    },
    {
      "cell_type": "code",
      "source": [
        "X_train = np.array(X_train) \n",
        "y_train = np.array(y_train)"
      ],
      "metadata": {
        "id": "TCosLMmaQRRU"
      },
      "execution_count": 36,
      "outputs": []
    },
    {
      "cell_type": "code",
      "source": [
        "X_test = np.array(X_test)\n",
        "y_test = np.array(y_test)"
      ],
      "metadata": {
        "id": "fMdFzEKCQRHr"
      },
      "execution_count": 37,
      "outputs": []
    },
    {
      "cell_type": "code",
      "source": [
        "X_valid = np.array(X_valid)\n",
        "y_valid = np.array(y_valid)"
      ],
      "metadata": {
        "id": "ezbPp4sVREGM"
      },
      "execution_count": 38,
      "outputs": []
    },
    {
      "cell_type": "markdown",
      "source": [
        "### **NORMALIZE(RESCALE) ALL THE IMAGES TO BETWEEN 0 AND 1**"
      ],
      "metadata": {
        "id": "vecdLl3W3eLp"
      }
    },
    {
      "cell_type": "code",
      "source": [
        "X_train_scaled = X_train / 255.0"
      ],
      "metadata": {
        "id": "NPlgdgrWRD4T"
      },
      "execution_count": 39,
      "outputs": []
    },
    {
      "cell_type": "code",
      "source": [
        "X_test_scaled = X_test / 255.0"
      ],
      "metadata": {
        "id": "evfMMFChRDlK"
      },
      "execution_count": 40,
      "outputs": []
    },
    {
      "cell_type": "code",
      "source": [
        "X_valid_scaled = X_valid / 255.0"
      ],
      "metadata": {
        "id": "Wp8AZiw2RDTb"
      },
      "execution_count": 41,
      "outputs": []
    },
    {
      "cell_type": "code",
      "source": [
        "X_train_scaled[0].dtype"
      ],
      "metadata": {
        "colab": {
          "base_uri": "https://localhost:8080/"
        },
        "id": "IUBpX-JyRC0b",
        "outputId": "2efe5ccd-0235-4626-f2df-97c59888bc40"
      },
      "execution_count": 42,
      "outputs": [
        {
          "output_type": "execute_result",
          "data": {
            "text/plain": [
              "dtype('float64')"
            ]
          },
          "metadata": {},
          "execution_count": 42
        }
      ]
    },
    {
      "cell_type": "code",
      "source": [
        "X_train_scaled[0]"
      ],
      "metadata": {
        "colab": {
          "base_uri": "https://localhost:8080/"
        },
        "id": "yt1xiksneuMg",
        "outputId": "9c0aef18-0ab5-4bb7-f342-e93121306a00"
      },
      "execution_count": 43,
      "outputs": [
        {
          "output_type": "execute_result",
          "data": {
            "text/plain": [
              "array([[[0.25098039, 0.14901961, 0.09803922],\n",
              "        [0.34901961, 0.22745098, 0.16862745],\n",
              "        [0.65490196, 0.50588235, 0.45882353],\n",
              "        ...,\n",
              "        [0.2       , 0.18823529, 0.15686275],\n",
              "        [0.14901961, 0.14509804, 0.12941176],\n",
              "        [0.15294118, 0.15686275, 0.14901961]],\n",
              "\n",
              "       [[0.28627451, 0.18431373, 0.13333333],\n",
              "        [0.73333333, 0.61568627, 0.54117647],\n",
              "        [0.68235294, 0.5372549 , 0.47058824],\n",
              "        ...,\n",
              "        [0.15294118, 0.14509804, 0.1372549 ],\n",
              "        [0.11764706, 0.11372549, 0.1254902 ],\n",
              "        [0.12156863, 0.1254902 , 0.15294118]],\n",
              "\n",
              "       [[0.90196078, 0.85098039, 0.78039216],\n",
              "        [0.51372549, 0.39607843, 0.30196078],\n",
              "        [0.81176471, 0.66666667, 0.58039216],\n",
              "        ...,\n",
              "        [0.22352941, 0.21960784, 0.23529412],\n",
              "        [0.13333333, 0.1254902 , 0.17254902],\n",
              "        [0.15294118, 0.14509804, 0.21960784]],\n",
              "\n",
              "       ...,\n",
              "\n",
              "       [[0.04705882, 0.05098039, 0.04313725],\n",
              "        [0.04705882, 0.05098039, 0.04313725],\n",
              "        [0.04313725, 0.04705882, 0.03921569],\n",
              "        ...,\n",
              "        [0.57254902, 0.56470588, 0.56078431],\n",
              "        [0.66666667, 0.67058824, 0.6627451 ],\n",
              "        [0.71372549, 0.71764706, 0.70980392]],\n",
              "\n",
              "       [[0.04705882, 0.05098039, 0.04313725],\n",
              "        [0.04313725, 0.04705882, 0.03921569],\n",
              "        [0.03921569, 0.04313725, 0.03921569],\n",
              "        ...,\n",
              "        [0.67843137, 0.67843137, 0.68235294],\n",
              "        [0.64313725, 0.64313725, 0.64313725],\n",
              "        [0.63529412, 0.63921569, 0.63921569]],\n",
              "\n",
              "       [[0.04705882, 0.05490196, 0.04313725],\n",
              "        [0.04313725, 0.04705882, 0.03921569],\n",
              "        [0.03529412, 0.03921569, 0.03137255],\n",
              "        ...,\n",
              "        [0.65098039, 0.64705882, 0.65490196],\n",
              "        [0.63529412, 0.63529412, 0.64705882],\n",
              "        [0.6627451 , 0.66666667, 0.67843137]]])"
            ]
          },
          "metadata": {},
          "execution_count": 43
        }
      ]
    },
    {
      "cell_type": "code",
      "source": [
        "pd.Series(y_train).value_counts()"
      ],
      "metadata": {
        "colab": {
          "base_uri": "https://localhost:8080/"
        },
        "id": "-hLGCCPrg51Z",
        "outputId": "0cf35f5e-1e3a-4efc-dbe1-85d90ef837ea"
      },
      "execution_count": 44,
      "outputs": [
        {
          "output_type": "execute_result",
          "data": {
            "text/plain": [
              "0    1476\n",
              "1     856\n",
              "dtype: int64"
            ]
          },
          "metadata": {},
          "execution_count": 44
        }
      ]
    },
    {
      "cell_type": "code",
      "source": [
        "pd.Series(y_valid).value_counts()"
      ],
      "metadata": {
        "colab": {
          "base_uri": "https://localhost:8080/"
        },
        "id": "L5kyd7CI3OiX",
        "outputId": "d9cae107-8896-48ad-ad1e-679b655c517a"
      },
      "execution_count": 45,
      "outputs": [
        {
          "output_type": "execute_result",
          "data": {
            "text/plain": [
              "0    360\n",
              "1    224\n",
              "dtype: int64"
            ]
          },
          "metadata": {},
          "execution_count": 45
        }
      ]
    },
    {
      "cell_type": "code",
      "source": [
        "pd.Series(y_test).value_counts()"
      ],
      "metadata": {
        "id": "UmuoppRk3OXT",
        "colab": {
          "base_uri": "https://localhost:8080/"
        },
        "outputId": "2542abf3-9899-4ddc-9cbd-50ab243be502"
      },
      "execution_count": 46,
      "outputs": [
        {
          "output_type": "execute_result",
          "data": {
            "text/plain": [
              "0    434\n",
              "1    295\n",
              "dtype: int64"
            ]
          },
          "metadata": {},
          "execution_count": 46
        }
      ]
    },
    {
      "cell_type": "markdown",
      "source": [
        "### **BUILD A CNN MODEL**"
      ],
      "metadata": {
        "id": "cE15vaMb3OLZ"
      }
    },
    {
      "cell_type": "code",
      "source": [
        "# import necessary libraries \n",
        "import tensorflow as tf \n",
        "from tensorflow.keras.layers import Dense, Flatten, Conv2D, MaxPool2D, Dropout "
      ],
      "metadata": {
        "id": "Iyw5Sy267NxI"
      },
      "execution_count": 76,
      "outputs": []
    },
    {
      "cell_type": "code",
      "source": [
        "from tensorflow.keras import Sequential \n",
        "from tensorflow.keras.optimizers import Adam"
      ],
      "metadata": {
        "id": "fJNW97Eb7Nru"
      },
      "execution_count": 48,
      "outputs": []
    },
    {
      "cell_type": "code",
      "source": [
        "# create a model \n",
        "cnn_1 = Sequential([\n",
        "    Conv2D(filters = 15, \n",
        "           kernel_size = 3, # can also be (3, 3) \n",
        "           padding = 'same', \n",
        "           activation = 'relu', \n",
        "           input_shape = (160, 160, 3)), \n",
        "    Conv2D(16, 3, padding = 'same', activation = 'relu'), \n",
        "    Conv2D(16, 3, padding = 'same', activation = 'relu'), \n",
        "    Flatten(), \n",
        "    Dense(2, activation = 'sigmoid')\n",
        "])"
      ],
      "metadata": {
        "id": "sdbErdGi7Ng0"
      },
      "execution_count": 49,
      "outputs": []
    },
    {
      "cell_type": "code",
      "source": [
        "# compile the model\n",
        "cnn_1.compile(loss = tf.keras.losses.SparseCategoricalCrossentropy(), \n",
        "              optimizer = tf.keras.optimizers.Adam(), \n",
        "              metrics = ['accuracy'])"
      ],
      "metadata": {
        "id": "r1ZBbYiS7NYs"
      },
      "execution_count": 50,
      "outputs": []
    },
    {
      "cell_type": "code",
      "source": [
        "history_1 = cnn_1.fit(x = X_train_scaled, \n",
        "                      y = y_train,  \n",
        "                      epochs = 20, validation_data = (X_valid_scaled, y_valid)) "
      ],
      "metadata": {
        "colab": {
          "base_uri": "https://localhost:8080/"
        },
        "id": "pyo127_a7NOb",
        "outputId": "d0d64c86-8d45-4e42-828e-ed50f17336e5"
      },
      "execution_count": 51,
      "outputs": [
        {
          "output_type": "stream",
          "name": "stdout",
          "text": [
            "Epoch 1/20\n",
            "73/73 [==============================] - 11s 48ms/step - loss: 0.8315 - accuracy: 0.6359 - val_loss: 0.5955 - val_accuracy: 0.6884\n",
            "Epoch 2/20\n",
            "73/73 [==============================] - 3s 35ms/step - loss: 0.5472 - accuracy: 0.7367 - val_loss: 0.5740 - val_accuracy: 0.7055\n",
            "Epoch 3/20\n",
            "73/73 [==============================] - 3s 35ms/step - loss: 0.3541 - accuracy: 0.8662 - val_loss: 0.6057 - val_accuracy: 0.6901\n",
            "Epoch 4/20\n",
            "73/73 [==============================] - 3s 38ms/step - loss: 0.1377 - accuracy: 0.9623 - val_loss: 0.8061 - val_accuracy: 0.6729\n",
            "Epoch 5/20\n",
            "73/73 [==============================] - 3s 35ms/step - loss: 0.0458 - accuracy: 0.9940 - val_loss: 1.0663 - val_accuracy: 0.6884\n",
            "Epoch 6/20\n",
            "73/73 [==============================] - 3s 35ms/step - loss: 0.0245 - accuracy: 0.9961 - val_loss: 0.9636 - val_accuracy: 0.6455\n",
            "Epoch 7/20\n",
            "73/73 [==============================] - 3s 35ms/step - loss: 0.0309 - accuracy: 0.9970 - val_loss: 1.1819 - val_accuracy: 0.6712\n",
            "Epoch 8/20\n",
            "73/73 [==============================] - 3s 35ms/step - loss: 0.0235 - accuracy: 0.9987 - val_loss: 0.9459 - val_accuracy: 0.6832\n",
            "Epoch 9/20\n",
            "73/73 [==============================] - 3s 35ms/step - loss: 0.0259 - accuracy: 0.9991 - val_loss: 1.1067 - val_accuracy: 0.6541\n",
            "Epoch 10/20\n",
            "73/73 [==============================] - 3s 34ms/step - loss: 0.0313 - accuracy: 0.9979 - val_loss: 1.3311 - val_accuracy: 0.6438\n",
            "Epoch 11/20\n",
            "73/73 [==============================] - 3s 35ms/step - loss: 0.0236 - accuracy: 0.9987 - val_loss: 1.0388 - val_accuracy: 0.6798\n",
            "Epoch 12/20\n",
            "73/73 [==============================] - 3s 35ms/step - loss: 0.0257 - accuracy: 0.9987 - val_loss: 0.9074 - val_accuracy: 0.6849\n",
            "Epoch 13/20\n",
            "73/73 [==============================] - 3s 35ms/step - loss: 0.0122 - accuracy: 0.9991 - val_loss: 1.0073 - val_accuracy: 0.6524\n",
            "Epoch 14/20\n",
            "73/73 [==============================] - 3s 35ms/step - loss: 0.0222 - accuracy: 0.9991 - val_loss: 1.0422 - val_accuracy: 0.6575\n",
            "Epoch 15/20\n",
            "73/73 [==============================] - 3s 35ms/step - loss: 0.0218 - accuracy: 0.9983 - val_loss: 0.9946 - val_accuracy: 0.6781\n",
            "Epoch 16/20\n",
            "73/73 [==============================] - 3s 35ms/step - loss: 0.0096 - accuracy: 0.9987 - val_loss: 1.1132 - val_accuracy: 0.6490\n",
            "Epoch 17/20\n",
            "73/73 [==============================] - 3s 35ms/step - loss: 0.0216 - accuracy: 0.9983 - val_loss: 1.2233 - val_accuracy: 0.6729\n",
            "Epoch 18/20\n",
            "73/73 [==============================] - 3s 35ms/step - loss: 0.0082 - accuracy: 0.9991 - val_loss: 1.1868 - val_accuracy: 0.6832\n",
            "Epoch 19/20\n",
            "73/73 [==============================] - 3s 35ms/step - loss: 0.0178 - accuracy: 0.9987 - val_loss: 0.9951 - val_accuracy: 0.6764\n",
            "Epoch 20/20\n",
            "73/73 [==============================] - 3s 35ms/step - loss: 0.0097 - accuracy: 0.9991 - val_loss: 1.5283 - val_accuracy: 0.6455\n"
          ]
        }
      ]
    },
    {
      "cell_type": "code",
      "source": [
        "cnn_1.evaluate(X_test_scaled, y_test)"
      ],
      "metadata": {
        "colab": {
          "base_uri": "https://localhost:8080/"
        },
        "id": "WwswJ740Uc_C",
        "outputId": "853b164c-245a-42e1-bac7-673c3c152024"
      },
      "execution_count": 52,
      "outputs": [
        {
          "output_type": "stream",
          "name": "stdout",
          "text": [
            "23/23 [==============================] - 1s 24ms/step - loss: 1.5270 - accuracy: 0.6639\n"
          ]
        },
        {
          "output_type": "execute_result",
          "data": {
            "text/plain": [
              "[1.5269511938095093, 0.6639232039451599]"
            ]
          },
          "metadata": {},
          "execution_count": 52
        }
      ]
    },
    {
      "cell_type": "markdown",
      "source": [
        "- Looks like the model overfitted"
      ],
      "metadata": {
        "id": "XBKVx6ilu5KM"
      }
    },
    {
      "cell_type": "code",
      "source": [
        "pd.DataFrame(history_1.history).plot(figsize = (8, 7))"
      ],
      "metadata": {
        "colab": {
          "base_uri": "https://localhost:8080/",
          "height": 448
        },
        "id": "AF0GthTf7NE7",
        "outputId": "a550a1c6-266e-4f12-c291-d25d21ed58ea"
      },
      "execution_count": 53,
      "outputs": [
        {
          "output_type": "execute_result",
          "data": {
            "text/plain": [
              "<matplotlib.axes._subplots.AxesSubplot at 0x7f3420334c40>"
            ]
          },
          "metadata": {},
          "execution_count": 53
        },
        {
          "output_type": "display_data",
          "data": {
            "text/plain": [
              "<Figure size 576x504 with 1 Axes>"
            ],
            "image/png": "[encoded data removed]"
          },
          "metadata": {
            "needs_background": "light"
          }
        }
      ]
    },
    {
      "cell_type": "markdown",
      "source": [
        "- **When a model's validation loss starts to increase, it's likely that it's overfitting the training dataset. This means, it's learning the patterns in the training dataset too well and thus its ability to generalize to unseen data will be diminished**"
      ],
      "metadata": {
        "id": "ASC0Z_2qYyfk"
      }
    },
    {
      "cell_type": "markdown",
      "source": [
        "### **CREATE A FUNCTION THAT PLOTS LOSS AND ACCURACY CURVE FOR TRAINING AND VALIDATION DATA SEPARATELY**"
      ],
      "metadata": {
        "id": "_03XieoIYyEg"
      }
    },
    {
      "cell_type": "code",
      "source": [
        "# plot the validation and training data separately \n",
        "def plot_loss_curves(history): \n",
        "  '''\n",
        "  Returns separate loss and accuracy curves for training and validation metrics\n",
        "  '''\n",
        "  loss = history.history['loss']\n",
        "  val_loss = history.history['val_loss'] \n",
        "\n",
        "  accuracy = history.history['accuracy']\n",
        "  val_accuracy = history.history['val_accuracy'] \n",
        "\n",
        "  epochs = range(len(history.history['loss'])) \n",
        "\n",
        "  # plot loss \n",
        "  plt.plot(epochs, loss, label = 'training_loss')\n",
        "  plt.plot(epochs, val_loss, label = 'Val_loss')\n",
        "  plt.xlabel('Epochs')\n",
        "  plt.title('Loss curve')\n",
        "  plt.legend()\n",
        "\n",
        "  # plot accuarcy \n",
        "  plt.figure()\n",
        "  plt.plot(epochs, accuracy, label = 'training_accuracy')\n",
        "  plt.plot(epochs, val_accuracy, label = 'val_accuracy')\n",
        "  plt.xlabel('Epochs')\n",
        "  plt.title('Accuracy curve')\n",
        "  plt.legend();"
      ],
      "metadata": {
        "id": "zxhqDNy9Yx06"
      },
      "execution_count": 54,
      "outputs": []
    },
    {
      "cell_type": "code",
      "source": [
        "plot_loss_curves(history_1)"
      ],
      "metadata": {
        "colab": {
          "base_uri": "https://localhost:8080/",
          "height": 573
        },
        "id": "q6xl6dOCvjtW",
        "outputId": "d8eb1f7b-428e-40df-f99e-ed6358c26253"
      },
      "execution_count": 55,
      "outputs": [
        {
          "output_type": "display_data",
          "data": {
            "text/plain": [
              "<Figure size 432x288 with 1 Axes>"
            ],
            "image/png": "[encoded data removed]"
          },
          "metadata": {
            "needs_background": "light"
          }
        },
        {
          "output_type": "display_data",
          "data": {
            "text/plain": [
              "<Figure size 432x288 with 1 Axes>"
            ],
            "image/png": "[encoded data removed]"
          },
          "metadata": {
            "needs_background": "light"
          }
        }
      ]
    },
    {
      "cell_type": "markdown",
      "source": [
        "### **CREATE A CNN MODEL WITH MAXPOOLING LAYER**"
      ],
      "metadata": {
        "id": "-jQWJ_ac7P9C"
      }
    },
    {
      "cell_type": "code",
      "source": [
        "# create a model with MaxPool \n",
        "cnn_2 = Sequential([\n",
        "    Conv2D(filters = 16, \n",
        "           kernel_size = 3, # can also be (3, 3) \n",
        "           padding = 'same', \n",
        "           activation = 'relu', \n",
        "           input_shape = (160, 160, 3)), \n",
        "    MaxPool2D(pool_size = (2, 2)),  \n",
        "    Conv2D(16, 3, padding = 'same', activation = 'relu'), \n",
        "    MaxPool2D(pool_size = 2),\n",
        "    Conv2D(16, 3, padding = 'same', activation = 'relu'), \n",
        "    MaxPool2D(),\n",
        "    Flatten(), \n",
        "    Dense(2, activation = 'sigmoid')\n",
        "])"
      ],
      "metadata": {
        "id": "G4Kz0Km3T5mT"
      },
      "execution_count": 56,
      "outputs": []
    },
    {
      "cell_type": "code",
      "source": [
        "# compile the model\n",
        "cnn_2.compile(loss = tf.keras.losses.SparseCategoricalCrossentropy(), \n",
        "              optimizer = 'adam', \n",
        "              metrics = ['accuracy'])"
      ],
      "metadata": {
        "id": "pI0m3CiNUsmA"
      },
      "execution_count": 57,
      "outputs": []
    },
    {
      "cell_type": "code",
      "source": [
        "history_2 = cnn_2.fit(x = X_train_scaled, \n",
        "                      y = y_train,  \n",
        "                      epochs = 15, validation_data = (X_valid_scaled, y_valid)) "
      ],
      "metadata": {
        "colab": {
          "base_uri": "https://localhost:8080/"
        },
        "id": "wM0F4Hu9fdQz",
        "outputId": "f74a320b-426e-4b8a-a758-c42b7995c1f8"
      },
      "execution_count": 58,
      "outputs": [
        {
          "output_type": "stream",
          "name": "stdout",
          "text": [
            "Epoch 1/15\n",
            "73/73 [==============================] - 3s 26ms/step - loss: 0.6163 - accuracy: 0.6690 - val_loss: 0.6031 - val_accuracy: 0.6901\n",
            "Epoch 2/15\n",
            "73/73 [==============================] - 1s 17ms/step - loss: 0.5778 - accuracy: 0.7080 - val_loss: 0.5934 - val_accuracy: 0.6747\n",
            "Epoch 3/15\n",
            "73/73 [==============================] - 1s 16ms/step - loss: 0.5366 - accuracy: 0.7333 - val_loss: 0.5723 - val_accuracy: 0.7106\n",
            "Epoch 4/15\n",
            "73/73 [==============================] - 1s 16ms/step - loss: 0.5017 - accuracy: 0.7560 - val_loss: 0.5955 - val_accuracy: 0.6969\n",
            "Epoch 5/15\n",
            "73/73 [==============================] - 1s 16ms/step - loss: 0.4825 - accuracy: 0.7646 - val_loss: 0.5630 - val_accuracy: 0.7158\n",
            "Epoch 6/15\n",
            "73/73 [==============================] - 1s 16ms/step - loss: 0.4477 - accuracy: 0.7950 - val_loss: 0.5672 - val_accuracy: 0.7312\n",
            "Epoch 7/15\n",
            "73/73 [==============================] - 1s 19ms/step - loss: 0.4176 - accuracy: 0.8066 - val_loss: 0.5610 - val_accuracy: 0.7175\n",
            "Epoch 8/15\n",
            "73/73 [==============================] - 2s 21ms/step - loss: 0.3648 - accuracy: 0.8401 - val_loss: 0.6004 - val_accuracy: 0.7209\n",
            "Epoch 9/15\n",
            "73/73 [==============================] - 2s 29ms/step - loss: 0.3264 - accuracy: 0.8572 - val_loss: 0.6365 - val_accuracy: 0.7072\n",
            "Epoch 10/15\n",
            "73/73 [==============================] - 2s 23ms/step - loss: 0.3001 - accuracy: 0.8632 - val_loss: 0.6849 - val_accuracy: 0.7277\n",
            "Epoch 11/15\n",
            "73/73 [==============================] - 2s 22ms/step - loss: 0.2628 - accuracy: 0.8877 - val_loss: 0.6898 - val_accuracy: 0.6986\n",
            "Epoch 12/15\n",
            "73/73 [==============================] - 2s 21ms/step - loss: 0.2196 - accuracy: 0.9095 - val_loss: 0.7818 - val_accuracy: 0.6935\n",
            "Epoch 13/15\n",
            "73/73 [==============================] - 2s 24ms/step - loss: 0.1885 - accuracy: 0.9250 - val_loss: 0.7946 - val_accuracy: 0.6884\n",
            "Epoch 14/15\n",
            "73/73 [==============================] - 2s 22ms/step - loss: 0.1560 - accuracy: 0.9408 - val_loss: 0.9295 - val_accuracy: 0.6832\n",
            "Epoch 15/15\n",
            "73/73 [==============================] - 2s 23ms/step - loss: 0.1190 - accuracy: 0.9558 - val_loss: 1.0269 - val_accuracy: 0.6849\n"
          ]
        }
      ]
    },
    {
      "cell_type": "code",
      "source": [
        "cnn_2.evaluate(X_test_scaled, y_test)"
      ],
      "metadata": {
        "id": "i7xuyKMyS01h",
        "colab": {
          "base_uri": "https://localhost:8080/"
        },
        "outputId": "adf53501-4e4b-4bcb-e767-a3da58ce85ba"
      },
      "execution_count": 59,
      "outputs": [
        {
          "output_type": "stream",
          "name": "stdout",
          "text": [
            "23/23 [==============================] - 0s 14ms/step - loss: 0.9119 - accuracy: 0.7119\n"
          ]
        },
        {
          "output_type": "execute_result",
          "data": {
            "text/plain": [
              "[0.9118778109550476, 0.7119341492652893]"
            ]
          },
          "metadata": {},
          "execution_count": 59
        }
      ]
    },
    {
      "cell_type": "markdown",
      "source": [
        "- **The model improved and generalized better on the test data after adding the MaxPool Layer**"
      ],
      "metadata": {
        "id": "XXgO1Hbx7_vq"
      }
    },
    {
      "cell_type": "code",
      "source": [
        "# loss and accuracy curve\n",
        "plot_loss_curves(history_2)"
      ],
      "metadata": {
        "colab": {
          "base_uri": "https://localhost:8080/",
          "height": 573
        },
        "id": "UiY7Ii4v-9L_",
        "outputId": "892009a3-0845-4a6b-fa3e-3b35b16dbf71"
      },
      "execution_count": 60,
      "outputs": [
        {
          "output_type": "display_data",
          "data": {
            "text/plain": [
              "<Figure size 432x288 with 1 Axes>"
            ],
            "image/png": "[encoded data removed]"
          },
          "metadata": {
            "needs_background": "light"
          }
        },
        {
          "output_type": "display_data",
          "data": {
            "text/plain": [
              "<Figure size 432x288 with 1 Axes>"
            ],
            "image/png": "[encoded data removed]"
          },
          "metadata": {
            "needs_background": "light"
          }
        }
      ]
    },
    {
      "cell_type": "markdown",
      "source": [
        "### **PERFORM DATA AUGMENTATION**"
      ],
      "metadata": {
        "id": "ZOsvjfMhSBV6"
      }
    },
    {
      "cell_type": "code",
      "source": [
        "from tensorflow.keras import layers\n",
        "data_augmentation = Sequential([\n",
        "    layers.experimental.preprocessing.RandomContrast(0.5), \n",
        "    layers.experimental.preprocessing.RandomFlip(mode = \"horizontal\"), \n",
        "    layers.experimental.preprocessing.RandomZoom(0.2)\n",
        "])"
      ],
      "metadata": {
        "id": "-v1fDRaM_bq0"
      },
      "execution_count": 75,
      "outputs": []
    },
    {
      "cell_type": "markdown",
      "source": [
        "### **CNN MODEL WITH AUGMENTED DATA AND DROPOUT REGULARIZATION**"
      ],
      "metadata": {
        "id": "Qyq2LYsV_beK"
      }
    },
    {
      "cell_type": "code",
      "source": [
        "# create a model \n",
        "tf.random.set_seed(42)\n",
        "cnn_3 = Sequential([ \n",
        "    data_augmentation,\n",
        "    Conv2D(filters = 16, \n",
        "           kernel_size = 3, # can also be (3, 3) \n",
        "           padding = 'same', \n",
        "           activation = 'relu', \n",
        "           input_shape = (160, 160, 3)), \n",
        "    Conv2D(16, 3, padding = 'same', activation = 'relu'), \n",
        "    Conv2D(16, 3, padding = 'same', activation = 'relu'),\n",
        "    Conv2D(16, 3, padding = 'same', activation = 'relu'), \n",
        "    Flatten(),\n",
        "    Dropout(0.5),\n",
        "    Dense(500, activation = 'relu'), \n",
        "    Dropout(0.5),\n",
        "    Dense(2, activation = 'sigmoid')\n",
        "])"
      ],
      "metadata": {
        "id": "gy0YPpvWSBPT"
      },
      "execution_count": 121,
      "outputs": []
    },
    {
      "cell_type": "code",
      "source": [
        "# compile the model\n",
        "cnn_3.compile(loss = tf.keras.losses.SparseCategoricalCrossentropy(), \n",
        "              optimizer = 'adam', \n",
        "              metrics = ['accuracy'])"
      ],
      "metadata": {
        "id": "DrkhIyOxSMsA"
      },
      "execution_count": 122,
      "outputs": []
    },
    {
      "cell_type": "code",
      "source": [
        "# fit the model\n",
        "history_3 = cnn_3.fit(x = X_train_scaled, \n",
        "                      y = y_train,  \n",
        "                      epochs = 20, validation_data = (X_valid_scaled, y_valid)) "
      ],
      "metadata": {
        "colab": {
          "base_uri": "https://localhost:8080/"
        },
        "id": "esbr9dE8STHK",
        "outputId": "8edb4de7-76b8-4582-a110-b2dee07cbc07"
      },
      "execution_count": 123,
      "outputs": [
        {
          "output_type": "stream",
          "name": "stdout",
          "text": [
            "Epoch 1/20\n"
          ]
        },
        {
          "output_type": "stream",
          "name": "stderr",
          "text": [
            "WARNING:tensorflow:Using a while_loop for converting RngReadAndSkip\n",
            "WARNING:tensorflow:Using a while_loop for converting Bitcast\n",
            "WARNING:tensorflow:Using a while_loop for converting Bitcast\n",
            "WARNING:tensorflow:Using a while_loop for converting StatelessRandomUniformFullIntV2\n",
            "WARNING:tensorflow:Using a while_loop for converting StatelessRandomGetKeyCounter\n",
            "WARNING:tensorflow:Using a while_loop for converting StatelessRandomUniformV2\n",
            "WARNING:tensorflow:Using a while_loop for converting AdjustContrastv2\n",
            "WARNING:tensorflow:Using a while_loop for converting RngReadAndSkip\n",
            "WARNING:tensorflow:Using a while_loop for converting Bitcast\n",
            "WARNING:tensorflow:Using a while_loop for converting Bitcast\n",
            "WARNING:tensorflow:Using a while_loop for converting StatelessRandomUniformFullIntV2\n",
            "WARNING:tensorflow:Using a while_loop for converting StatelessRandomGetKeyCounter\n",
            "WARNING:tensorflow:Using a while_loop for converting StatelessRandomUniformV2\n",
            "WARNING:tensorflow:Using a while_loop for converting AdjustContrastv2\n",
            "WARNING:tensorflow:Using a while_loop for converting RngReadAndSkip\n",
            "WARNING:tensorflow:Using a while_loop for converting Bitcast\n",
            "WARNING:tensorflow:Using a while_loop for converting Bitcast\n",
            "WARNING:tensorflow:Using a while_loop for converting StatelessRandomUniformFullIntV2\n",
            "WARNING:tensorflow:Using a while_loop for converting StatelessRandomGetKeyCounter\n",
            "WARNING:tensorflow:Using a while_loop for converting StatelessRandomUniformV2\n",
            "WARNING:tensorflow:Using a while_loop for converting AdjustContrastv2\n"
          ]
        },
        {
          "output_type": "stream",
          "name": "stdout",
          "text": [
            "73/73 [==============================] - 21s 254ms/step - loss: 0.8933 - accuracy: 0.6321 - val_loss: 0.6398 - val_accuracy: 0.6455\n",
            "Epoch 2/20\n",
            "73/73 [==============================] - 16s 219ms/step - loss: 0.6304 - accuracy: 0.6655 - val_loss: 0.5986 - val_accuracy: 0.6849\n",
            "Epoch 3/20\n",
            "73/73 [==============================] - 16s 218ms/step - loss: 0.5984 - accuracy: 0.6865 - val_loss: 0.5854 - val_accuracy: 0.6866\n",
            "Epoch 4/20\n",
            "73/73 [==============================] - 16s 217ms/step - loss: 0.5873 - accuracy: 0.7075 - val_loss: 0.5786 - val_accuracy: 0.6935\n",
            "Epoch 5/20\n",
            "73/73 [==============================] - 16s 217ms/step - loss: 0.5761 - accuracy: 0.7054 - val_loss: 0.5852 - val_accuracy: 0.6884\n",
            "Epoch 6/20\n",
            "73/73 [==============================] - 16s 217ms/step - loss: 0.5663 - accuracy: 0.7157 - val_loss: 0.5567 - val_accuracy: 0.7089\n",
            "Epoch 7/20\n",
            "73/73 [==============================] - 16s 217ms/step - loss: 0.5646 - accuracy: 0.7200 - val_loss: 0.5602 - val_accuracy: 0.7072\n",
            "Epoch 8/20\n",
            "73/73 [==============================] - 16s 218ms/step - loss: 0.5467 - accuracy: 0.7226 - val_loss: 0.5494 - val_accuracy: 0.7106\n",
            "Epoch 9/20\n",
            "73/73 [==============================] - 16s 218ms/step - loss: 0.5200 - accuracy: 0.7466 - val_loss: 0.5428 - val_accuracy: 0.7517\n",
            "Epoch 10/20\n",
            "73/73 [==============================] - 17s 234ms/step - loss: 0.5379 - accuracy: 0.7440 - val_loss: 0.5342 - val_accuracy: 0.7483\n",
            "Epoch 11/20\n",
            "73/73 [==============================] - 17s 232ms/step - loss: 0.5196 - accuracy: 0.7500 - val_loss: 0.5137 - val_accuracy: 0.7671\n",
            "Epoch 12/20\n",
            "73/73 [==============================] - 16s 217ms/step - loss: 0.4938 - accuracy: 0.7702 - val_loss: 0.5228 - val_accuracy: 0.7432\n",
            "Epoch 13/20\n",
            "73/73 [==============================] - 16s 217ms/step - loss: 0.4771 - accuracy: 0.7714 - val_loss: 0.5204 - val_accuracy: 0.7517\n",
            "Epoch 14/20\n",
            "73/73 [==============================] - 16s 217ms/step - loss: 0.4709 - accuracy: 0.7800 - val_loss: 0.5387 - val_accuracy: 0.7123\n",
            "Epoch 15/20\n",
            "73/73 [==============================] - 16s 216ms/step - loss: 0.4578 - accuracy: 0.7873 - val_loss: 0.5434 - val_accuracy: 0.7089\n",
            "Epoch 16/20\n",
            "73/73 [==============================] - 16s 215ms/step - loss: 0.4529 - accuracy: 0.7809 - val_loss: 0.5249 - val_accuracy: 0.7568\n",
            "Epoch 17/20\n",
            "73/73 [==============================] - 16s 217ms/step - loss: 0.4411 - accuracy: 0.7993 - val_loss: 0.5278 - val_accuracy: 0.7568\n",
            "Epoch 18/20\n",
            "73/73 [==============================] - 16s 215ms/step - loss: 0.4436 - accuracy: 0.7980 - val_loss: 0.5119 - val_accuracy: 0.7449\n",
            "Epoch 19/20\n",
            "73/73 [==============================] - 16s 218ms/step - loss: 0.4303 - accuracy: 0.8109 - val_loss: 0.5402 - val_accuracy: 0.7500\n",
            "Epoch 20/20\n",
            "73/73 [==============================] - 18s 250ms/step - loss: 0.4333 - accuracy: 0.7997 - val_loss: 0.5375 - val_accuracy: 0.7603\n"
          ]
        }
      ]
    },
    {
      "cell_type": "markdown",
      "source": [
        "### **MODEL SUMMARY**"
      ],
      "metadata": {
        "id": "aenNS3p9Xc5T"
      }
    },
    {
      "cell_type": "code",
      "source": [
        "cnn_3.summary()"
      ],
      "metadata": {
        "colab": {
          "base_uri": "https://localhost:8080/"
        },
        "id": "DKTIC-LDXhhT",
        "outputId": "a1ccba23-38a5-44bd-efc8-862d05750542"
      },
      "execution_count": 132,
      "outputs": [
        {
          "output_type": "stream",
          "name": "stdout",
          "text": [
            "Model: \"sequential_13\"\n",
            "_________________________________________________________________\n",
            " Layer (type)                Output Shape              Param #   \n",
            "=================================================================\n",
            " sequential_6 (Sequential)   (None, 160, 160, 3)       0         \n",
            "                                                                 \n",
            " conv2d_32 (Conv2D)          (None, 160, 160, 16)      448       \n",
            "                                                                 \n",
            " conv2d_33 (Conv2D)          (None, 160, 160, 16)      2320      \n",
            "                                                                 \n",
            " conv2d_34 (Conv2D)          (None, 160, 160, 16)      2320      \n",
            "                                                                 \n",
            " conv2d_35 (Conv2D)          (None, 160, 160, 16)      2320      \n",
            "                                                                 \n",
            " flatten_10 (Flatten)        (None, 409600)            0         \n",
            "                                                                 \n",
            " dropout_7 (Dropout)         (None, 409600)            0         \n",
            "                                                                 \n",
            " dense_13 (Dense)            (None, 500)               204800500 \n",
            "                                                                 \n",
            " dropout_8 (Dropout)         (None, 500)               0         \n",
            "                                                                 \n",
            " dense_14 (Dense)            (None, 2)                 1002      \n",
            "                                                                 \n",
            "=================================================================\n",
            "Total params: 204,808,910\n",
            "Trainable params: 204,808,910\n",
            "Non-trainable params: 0\n",
            "_________________________________________________________________\n"
          ]
        }
      ]
    },
    {
      "cell_type": "markdown",
      "source": [
        "### **MODEL EVALUATION**"
      ],
      "metadata": {
        "id": "oMuL4b_zXtVd"
      }
    },
    {
      "cell_type": "code",
      "source": [
        "cnn_3.evaluate(X_test_scaled, y_test)"
      ],
      "metadata": {
        "colab": {
          "base_uri": "https://localhost:8080/"
        },
        "id": "AgZnzo_zSYxi",
        "outputId": "2122562e-5c14-4d57-8b1c-6d146d76c482"
      },
      "execution_count": 124,
      "outputs": [
        {
          "output_type": "stream",
          "name": "stdout",
          "text": [
            "23/23 [==============================] - 1s 24ms/step - loss: 0.4657 - accuracy: 0.7750\n"
          ]
        },
        {
          "output_type": "execute_result",
          "data": {
            "text/plain": [
              "[0.46565037965774536, 0.7750343084335327]"
            ]
          },
          "metadata": {},
          "execution_count": 124
        }
      ]
    },
    {
      "cell_type": "markdown",
      "source": [
        "- **This model generalized better compared to the previous ones**"
      ],
      "metadata": {
        "id": "HOkKsaP8Yql3"
      }
    },
    {
      "cell_type": "code",
      "source": [
        "# loss and accuracy curve\n",
        "plot_loss_curves(history_3)"
      ],
      "metadata": {
        "colab": {
          "base_uri": "https://localhost:8080/",
          "height": 573
        },
        "id": "eDiRDcw_K7Rt",
        "outputId": "bafd54e5-e88d-4cab-afd9-fce286fd45d8"
      },
      "execution_count": 125,
      "outputs": [
        {
          "output_type": "display_data",
          "data": {
            "text/plain": [
              "<Figure size 432x288 with 1 Axes>"
            ],
            "image/png": "[encoded data removed]"
          },
          "metadata": {
            "needs_background": "light"
          }
        },
        {
          "output_type": "display_data",
          "data": {
            "text/plain": [
              "<Figure size 432x288 with 1 Axes>"
            ],
            "image/png": "[encoded data removed]"
          },
          "metadata": {
            "needs_background": "light"
          }
        }
      ]
    },
    {
      "cell_type": "markdown",
      "source": [
        "### **TEST DATA PREDICTION**"
      ],
      "metadata": {
        "id": "yT2gff5OX3hA"
      }
    },
    {
      "cell_type": "code",
      "source": [
        "# prediction probabilities\n",
        "cnn_3_pred_probs = cnn_3.predict(X_test_scaled)"
      ],
      "metadata": {
        "colab": {
          "base_uri": "https://localhost:8080/"
        },
        "id": "_aVqnAQ5S4XI",
        "outputId": "ea9e8c1f-29ac-4229-efba-94d785fd8fa8"
      },
      "execution_count": 126,
      "outputs": [
        {
          "output_type": "stream",
          "name": "stdout",
          "text": [
            "23/23 [==============================] - 1s 21ms/step\n"
          ]
        }
      ]
    },
    {
      "cell_type": "code",
      "source": [
        "# prediction class \n",
        "cnn_3_pred = cnn_3_pred_probs.argmax(axis = 1) \n",
        "cnn_3_pred[:10]"
      ],
      "metadata": {
        "colab": {
          "base_uri": "https://localhost:8080/"
        },
        "id": "ai3SQQ9ITAO8",
        "outputId": "87f498bc-ee08-48c4-8e61-cde0e60bafcf"
      },
      "execution_count": 127,
      "outputs": [
        {
          "output_type": "execute_result",
          "data": {
            "text/plain": [
              "array([0, 0, 0, 0, 0, 0, 0, 0, 0, 0])"
            ]
          },
          "metadata": {},
          "execution_count": 127
        }
      ]
    },
    {
      "cell_type": "markdown",
      "source": [
        "### **CONFUSION MATRIX AND CLASSIFICATION REPORT**"
      ],
      "metadata": {
        "id": "7f9AdQafX9YU"
      }
    },
    {
      "cell_type": "code",
      "source": [
        "# confusion matrix\n",
        "from sklearn.metrics import confusion_matrix, classification_report\n",
        "confusion_matrix(y_true=y_test, \n",
        "                 y_pred=cnn_3_pred)"
      ],
      "metadata": {
        "id": "WenhbQhhW7UN",
        "colab": {
          "base_uri": "https://localhost:8080/"
        },
        "outputId": "efa3aa62-7d5f-430b-d4d6-23055448a3ff"
      },
      "execution_count": 128,
      "outputs": [
        {
          "output_type": "execute_result",
          "data": {
            "text/plain": [
              "array([[394,  40],\n",
              "       [124, 171]])"
            ]
          },
          "metadata": {},
          "execution_count": 128
        }
      ]
    },
    {
      "cell_type": "code",
      "source": [
        "# prettified confusion matrix\n",
        "import seaborn as sns\n",
        "plt.figure(figsize = (8, 6))\n",
        "sns.heatmap(confusion_matrix(y_true=y_test, \n",
        "                 y_pred=cnn_3_pred), annot = True, fmt = 'd', linewidth = 0.4)\n",
        "plt.show()"
      ],
      "metadata": {
        "colab": {
          "base_uri": "https://localhost:8080/",
          "height": 374
        },
        "id": "itJyLgdYSON2",
        "outputId": "09210d50-ccbf-4c73-924b-fee51a718739"
      },
      "execution_count": 129,
      "outputs": [
        {
          "output_type": "display_data",
          "data": {
            "text/plain": [
              "<Figure size 576x432 with 2 Axes>"
            ],
            "image/png": "[encoded data removed]"
          },
          "metadata": {
            "needs_background": "light"
          }
        }
      ]
    },
    {
      "cell_type": "code",
      "source": [
        "# recall, precision, f1-score\n",
        "print(classification_report(y_true=y_test, \n",
        "                 y_pred=cnn_3_pred))"
      ],
      "metadata": {
        "colab": {
          "base_uri": "https://localhost:8080/"
        },
        "id": "l5oN_UIHShiW",
        "outputId": "9dea2597-25e0-4cc7-f05e-dde3623165e4"
      },
      "execution_count": 130,
      "outputs": [
        {
          "output_type": "stream",
          "name": "stdout",
          "text": [
            "              precision    recall  f1-score   support\n",
            "\n",
            "           0       0.76      0.91      0.83       434\n",
            "           1       0.81      0.58      0.68       295\n",
            "\n",
            "    accuracy                           0.78       729\n",
            "   macro avg       0.79      0.74      0.75       729\n",
            "weighted avg       0.78      0.78      0.77       729\n",
            "\n"
          ]
        }
      ]
    },
    {
      "cell_type": "markdown",
      "source": [
        "### **SAVE THE MODEL**"
      ],
      "metadata": {
        "id": "snXgNAq8S44J"
      }
    },
    {
      "cell_type": "code",
      "source": [
        "cnn_3.save('Emervgency_vs_Non_emergency_CNN_clf.h5')"
      ],
      "metadata": {
        "id": "4ncChqWEW-gR"
      },
      "execution_count": 131,
      "outputs": []
    },
    {
      "cell_type": "code",
      "source": [],
      "metadata": {
        "id": "Jl9YAmgyXM0E"
      },
      "execution_count": null,
      "outputs": []
    }
  ]
}
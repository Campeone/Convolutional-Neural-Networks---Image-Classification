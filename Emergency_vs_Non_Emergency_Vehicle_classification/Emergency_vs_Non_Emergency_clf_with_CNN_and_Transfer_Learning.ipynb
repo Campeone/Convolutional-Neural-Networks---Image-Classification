{
  "nbformat": 4,
  "nbformat_minor": 0,
  "metadata": {
    "colab": {
      "provenance": []
    },
    "kernelspec": {
      "name": "python3",
      "display_name": "Python 3"
    },
    "language_info": {
      "name": "python"
    },
    "accelerator": "GPU",
    "gpuClass": "standard"
  },
  "cells": [
    {
      "cell_type": "markdown",
      "source": [
        "### **Emergency vs Non-Emergency vehicles Image Classification with CNN and MobileNetV2 Transfer Learning**"
      ],
      "metadata": {
        "id": "fQRvheU4QmlQ"
      }
    },
    {
      "cell_type": "code",
      "execution_count": 1,
      "metadata": {
        "colab": {
          "base_uri": "https://localhost:8080/"
        },
        "id": "dxiq3aLuQVvX",
        "outputId": "5bf2b199-53a6-4347-c55e-134f2fcd2bea"
      },
      "outputs": [
        {
          "output_type": "stream",
          "name": "stdout",
          "text": [
            "dataset\n"
          ]
        }
      ],
      "source": [
        "# dataset pathway\n",
        "!ls '/content/drive/MyDrive/Emergency vs Non-Emergency vehicles'"
      ]
    },
    {
      "cell_type": "code",
      "source": [
        "!ls '/content/drive/MyDrive/Emergency vs Non-Emergency vehicles/dataset'"
      ],
      "metadata": {
        "colab": {
          "base_uri": "https://localhost:8080/"
        },
        "id": "J1-ZAYc1QjC9",
        "outputId": "5483bfde-37e4-433c-88d3-c99c7c62b087"
      },
      "execution_count": 2,
      "outputs": [
        {
          "output_type": "stream",
          "name": "stdout",
          "text": [
            "images\t\t\t       test_vc2kHdQ.csv  train_SOaYf6m\n",
            "sample_submission_yxjOnvz.csv  train.csv\n"
          ]
        }
      ]
    },
    {
      "cell_type": "code",
      "source": [
        "# load training data output \n",
        "import pandas as pd\n",
        "train_csv = pd.read_csv('/content/drive/MyDrive/Emergency vs Non-Emergency vehicles/dataset/train.csv')\n",
        "train_csv.head()"
      ],
      "metadata": {
        "colab": {
          "base_uri": "https://localhost:8080/",
          "height": 206
        },
        "id": "DRWJclgwRL_0",
        "outputId": "1901e35c-68d3-4af6-fd35-00ab9edaf42f"
      },
      "execution_count": 3,
      "outputs": [
        {
          "output_type": "execute_result",
          "data": {
            "text/plain": [
              "  image_names  emergency_or_not\n",
              "0    1503.jpg                 0\n",
              "1    1420.jpg                 0\n",
              "2    1764.jpg                 0\n",
              "3    1356.jpg                 0\n",
              "4    1117.jpg                 0"
            ],
            "text/html": [
              "\n",
              "  <div id=\"df-417de11a-03ed-4f95-ad8b-53137dda9f32\">\n",
              "    <div class=\"colab-df-container\">\n",
              "      <div>\n",
              "<style scoped>\n",
              "    .dataframe tbody tr th:only-of-type {\n",
              "        vertical-align: middle;\n",
              "    }\n",
              "\n",
              "    .dataframe tbody tr th {\n",
              "        vertical-align: top;\n",
              "    }\n",
              "\n",
              "    .dataframe thead th {\n",
              "        text-align: right;\n",
              "    }\n",
              "</style>\n",
              "<table border=\"1\" class=\"dataframe\">\n",
              "  <thead>\n",
              "    <tr style=\"text-align: right;\">\n",
              "      <th></th>\n",
              "      <th>image_names</th>\n",
              "      <th>emergency_or_not</th>\n",
              "    </tr>\n",
              "  </thead>\n",
              "  <tbody>\n",
              "    <tr>\n",
              "      <th>0</th>\n",
              "      <td>1503.jpg</td>\n",
              "      <td>0</td>\n",
              "    </tr>\n",
              "    <tr>\n",
              "      <th>1</th>\n",
              "      <td>1420.jpg</td>\n",
              "      <td>0</td>\n",
              "    </tr>\n",
              "    <tr>\n",
              "      <th>2</th>\n",
              "      <td>1764.jpg</td>\n",
              "      <td>0</td>\n",
              "    </tr>\n",
              "    <tr>\n",
              "      <th>3</th>\n",
              "      <td>1356.jpg</td>\n",
              "      <td>0</td>\n",
              "    </tr>\n",
              "    <tr>\n",
              "      <th>4</th>\n",
              "      <td>1117.jpg</td>\n",
              "      <td>0</td>\n",
              "    </tr>\n",
              "  </tbody>\n",
              "</table>\n",
              "</div>\n",
              "      <button class=\"colab-df-convert\" onclick=\"convertToInteractive('df-417de11a-03ed-4f95-ad8b-53137dda9f32')\"\n",
              "              title=\"Convert this dataframe to an interactive table.\"\n",
              "              style=\"display:none;\">\n",
              "        \n",
              "  <svg xmlns=\"http://www.w3.org/2000/svg\" height=\"24px\"viewBox=\"0 0 24 24\"\n",
              "       width=\"24px\">\n",
              "    <path d=\"M0 0h24v24H0V0z\" fill=\"none\"/>\n",
              "    <path d=\"M18.56 5.44l.94 2.06.94-2.06 2.06-.94-2.06-.94-.94-2.06-.94 2.06-2.06.94zm-11 1L8.5 8.5l.94-2.06 2.06-.94-2.06-.94L8.5 2.5l-.94 2.06-2.06.94zm10 10l.94 2.06.94-2.06 2.06-.94-2.06-.94-.94-2.06-.94 2.06-2.06.94z\"/><path d=\"M17.41 7.96l-1.37-1.37c-.4-.4-.92-.59-1.43-.59-.52 0-1.04.2-1.43.59L10.3 9.45l-7.72 7.72c-.78.78-.78 2.05 0 2.83L4 21.41c.39.39.9.59 1.41.59.51 0 1.02-.2 1.41-.59l7.78-7.78 2.81-2.81c.8-.78.8-2.07 0-2.86zM5.41 20L4 18.59l7.72-7.72 1.47 1.35L5.41 20z\"/>\n",
              "  </svg>\n",
              "      </button>\n",
              "      \n",
              "  <style>\n",
              "    .colab-df-container {\n",
              "      display:flex;\n",
              "      flex-wrap:wrap;\n",
              "      gap: 12px;\n",
              "    }\n",
              "\n",
              "    .colab-df-convert {\n",
              "      background-color: #E8F0FE;\n",
              "      border: none;\n",
              "      border-radius: 50%;\n",
              "      cursor: pointer;\n",
              "      display: none;\n",
              "      fill: #1967D2;\n",
              "      height: 32px;\n",
              "      padding: 0 0 0 0;\n",
              "      width: 32px;\n",
              "    }\n",
              "\n",
              "    .colab-df-convert:hover {\n",
              "      background-color: #E2EBFA;\n",
              "      box-shadow: 0px 1px 2px rgba(60, 64, 67, 0.3), 0px 1px 3px 1px rgba(60, 64, 67, 0.15);\n",
              "      fill: #174EA6;\n",
              "    }\n",
              "\n",
              "    [theme=dark] .colab-df-convert {\n",
              "      background-color: #3B4455;\n",
              "      fill: #D2E3FC;\n",
              "    }\n",
              "\n",
              "    [theme=dark] .colab-df-convert:hover {\n",
              "      background-color: #434B5C;\n",
              "      box-shadow: 0px 1px 3px 1px rgba(0, 0, 0, 0.15);\n",
              "      filter: drop-shadow(0px 1px 2px rgba(0, 0, 0, 0.3));\n",
              "      fill: #FFFFFF;\n",
              "    }\n",
              "  </style>\n",
              "\n",
              "      <script>\n",
              "        const buttonEl =\n",
              "          document.querySelector('#df-417de11a-03ed-4f95-ad8b-53137dda9f32 button.colab-df-convert');\n",
              "        buttonEl.style.display =\n",
              "          google.colab.kernel.accessAllowed ? 'block' : 'none';\n",
              "\n",
              "        async function convertToInteractive(key) {\n",
              "          const element = document.querySelector('#df-417de11a-03ed-4f95-ad8b-53137dda9f32');\n",
              "          const dataTable =\n",
              "            await google.colab.kernel.invokeFunction('convertToInteractive',\n",
              "                                                     [key], {});\n",
              "          if (!dataTable) return;\n",
              "\n",
              "          const docLinkHtml = 'Like what you see? Visit the ' +\n",
              "            '<a target=\"_blank\" href=https://colab.research.google.com/notebooks/data_table.ipynb>data table notebook</a>'\n",
              "            + ' to learn more about interactive tables.';\n",
              "          element.innerHTML = '';\n",
              "          dataTable['output_type'] = 'display_data';\n",
              "          await google.colab.output.renderOutput(dataTable, element);\n",
              "          const docLink = document.createElement('div');\n",
              "          docLink.innerHTML = docLinkHtml;\n",
              "          element.appendChild(docLink);\n",
              "        }\n",
              "      </script>\n",
              "    </div>\n",
              "  </div>\n",
              "  "
            ]
          },
          "metadata": {},
          "execution_count": 3
        }
      ]
    },
    {
      "cell_type": "code",
      "source": [
        "len(train_csv)"
      ],
      "metadata": {
        "colab": {
          "base_uri": "https://localhost:8080/"
        },
        "id": "9HBhw2cMRYk9",
        "outputId": "19e0f348-42de-4193-ec42-506b10f66287"
      },
      "execution_count": 4,
      "outputs": [
        {
          "output_type": "execute_result",
          "data": {
            "text/plain": [
              "6584"
            ]
          },
          "metadata": {},
          "execution_count": 4
        }
      ]
    },
    {
      "cell_type": "markdown",
      "source": [
        "- **There are 6584 train data images label**"
      ],
      "metadata": {
        "id": "VTYvbRH8RcLr"
      }
    },
    {
      "cell_type": "code",
      "source": [
        "# load test data output \n",
        "test_csv = pd.read_csv('/content/drive/MyDrive/Emergency vs Non-Emergency vehicles/dataset/sample_submission_yxjOnvz.csv')\n",
        "test_csv.head()"
      ],
      "metadata": {
        "colab": {
          "base_uri": "https://localhost:8080/",
          "height": 206
        },
        "id": "6szVfFJHRlcu",
        "outputId": "0f37700e-79a8-45fe-b4b7-2bbbca6808e1"
      },
      "execution_count": 5,
      "outputs": [
        {
          "output_type": "execute_result",
          "data": {
            "text/plain": [
              "  image_names  emergency_or_not\n",
              "0    1960.jpg                 0\n",
              "1     668.jpg                 0\n",
              "2    2082.jpg                 0\n",
              "3     808.jpg                 0\n",
              "4    1907.jpg                 0"
            ],
            "text/html": [
              "\n",
              "  <div id=\"df-d4e71b92-44ef-4e95-9413-f50998467160\">\n",
              "    <div class=\"colab-df-container\">\n",
              "      <div>\n",
              "<style scoped>\n",
              "    .dataframe tbody tr th:only-of-type {\n",
              "        vertical-align: middle;\n",
              "    }\n",
              "\n",
              "    .dataframe tbody tr th {\n",
              "        vertical-align: top;\n",
              "    }\n",
              "\n",
              "    .dataframe thead th {\n",
              "        text-align: right;\n",
              "    }\n",
              "</style>\n",
              "<table border=\"1\" class=\"dataframe\">\n",
              "  <thead>\n",
              "    <tr style=\"text-align: right;\">\n",
              "      <th></th>\n",
              "      <th>image_names</th>\n",
              "      <th>emergency_or_not</th>\n",
              "    </tr>\n",
              "  </thead>\n",
              "  <tbody>\n",
              "    <tr>\n",
              "      <th>0</th>\n",
              "      <td>1960.jpg</td>\n",
              "      <td>0</td>\n",
              "    </tr>\n",
              "    <tr>\n",
              "      <th>1</th>\n",
              "      <td>668.jpg</td>\n",
              "      <td>0</td>\n",
              "    </tr>\n",
              "    <tr>\n",
              "      <th>2</th>\n",
              "      <td>2082.jpg</td>\n",
              "      <td>0</td>\n",
              "    </tr>\n",
              "    <tr>\n",
              "      <th>3</th>\n",
              "      <td>808.jpg</td>\n",
              "      <td>0</td>\n",
              "    </tr>\n",
              "    <tr>\n",
              "      <th>4</th>\n",
              "      <td>1907.jpg</td>\n",
              "      <td>0</td>\n",
              "    </tr>\n",
              "  </tbody>\n",
              "</table>\n",
              "</div>\n",
              "      <button class=\"colab-df-convert\" onclick=\"convertToInteractive('df-d4e71b92-44ef-4e95-9413-f50998467160')\"\n",
              "              title=\"Convert this dataframe to an interactive table.\"\n",
              "              style=\"display:none;\">\n",
              "        \n",
              "  <svg xmlns=\"http://www.w3.org/2000/svg\" height=\"24px\"viewBox=\"0 0 24 24\"\n",
              "       width=\"24px\">\n",
              "    <path d=\"M0 0h24v24H0V0z\" fill=\"none\"/>\n",
              "    <path d=\"M18.56 5.44l.94 2.06.94-2.06 2.06-.94-2.06-.94-.94-2.06-.94 2.06-2.06.94zm-11 1L8.5 8.5l.94-2.06 2.06-.94-2.06-.94L8.5 2.5l-.94 2.06-2.06.94zm10 10l.94 2.06.94-2.06 2.06-.94-2.06-.94-.94-2.06-.94 2.06-2.06.94z\"/><path d=\"M17.41 7.96l-1.37-1.37c-.4-.4-.92-.59-1.43-.59-.52 0-1.04.2-1.43.59L10.3 9.45l-7.72 7.72c-.78.78-.78 2.05 0 2.83L4 21.41c.39.39.9.59 1.41.59.51 0 1.02-.2 1.41-.59l7.78-7.78 2.81-2.81c.8-.78.8-2.07 0-2.86zM5.41 20L4 18.59l7.72-7.72 1.47 1.35L5.41 20z\"/>\n",
              "  </svg>\n",
              "      </button>\n",
              "      \n",
              "  <style>\n",
              "    .colab-df-container {\n",
              "      display:flex;\n",
              "      flex-wrap:wrap;\n",
              "      gap: 12px;\n",
              "    }\n",
              "\n",
              "    .colab-df-convert {\n",
              "      background-color: #E8F0FE;\n",
              "      border: none;\n",
              "      border-radius: 50%;\n",
              "      cursor: pointer;\n",
              "      display: none;\n",
              "      fill: #1967D2;\n",
              "      height: 32px;\n",
              "      padding: 0 0 0 0;\n",
              "      width: 32px;\n",
              "    }\n",
              "\n",
              "    .colab-df-convert:hover {\n",
              "      background-color: #E2EBFA;\n",
              "      box-shadow: 0px 1px 2px rgba(60, 64, 67, 0.3), 0px 1px 3px 1px rgba(60, 64, 67, 0.15);\n",
              "      fill: #174EA6;\n",
              "    }\n",
              "\n",
              "    [theme=dark] .colab-df-convert {\n",
              "      background-color: #3B4455;\n",
              "      fill: #D2E3FC;\n",
              "    }\n",
              "\n",
              "    [theme=dark] .colab-df-convert:hover {\n",
              "      background-color: #434B5C;\n",
              "      box-shadow: 0px 1px 3px 1px rgba(0, 0, 0, 0.15);\n",
              "      filter: drop-shadow(0px 1px 2px rgba(0, 0, 0, 0.3));\n",
              "      fill: #FFFFFF;\n",
              "    }\n",
              "  </style>\n",
              "\n",
              "      <script>\n",
              "        const buttonEl =\n",
              "          document.querySelector('#df-d4e71b92-44ef-4e95-9413-f50998467160 button.colab-df-convert');\n",
              "        buttonEl.style.display =\n",
              "          google.colab.kernel.accessAllowed ? 'block' : 'none';\n",
              "\n",
              "        async function convertToInteractive(key) {\n",
              "          const element = document.querySelector('#df-d4e71b92-44ef-4e95-9413-f50998467160');\n",
              "          const dataTable =\n",
              "            await google.colab.kernel.invokeFunction('convertToInteractive',\n",
              "                                                     [key], {});\n",
              "          if (!dataTable) return;\n",
              "\n",
              "          const docLinkHtml = 'Like what you see? Visit the ' +\n",
              "            '<a target=\"_blank\" href=https://colab.research.google.com/notebooks/data_table.ipynb>data table notebook</a>'\n",
              "            + ' to learn more about interactive tables.';\n",
              "          element.innerHTML = '';\n",
              "          dataTable['output_type'] = 'display_data';\n",
              "          await google.colab.output.renderOutput(dataTable, element);\n",
              "          const docLink = document.createElement('div');\n",
              "          docLink.innerHTML = docLinkHtml;\n",
              "          element.appendChild(docLink);\n",
              "        }\n",
              "      </script>\n",
              "    </div>\n",
              "  </div>\n",
              "  "
            ]
          },
          "metadata": {},
          "execution_count": 5
        }
      ]
    },
    {
      "cell_type": "code",
      "source": [
        "len(test_csv)"
      ],
      "metadata": {
        "colab": {
          "base_uri": "https://localhost:8080/"
        },
        "id": "QJOP6XlGRrUB",
        "outputId": "5dedf58b-7ee6-4cb0-f70b-a70f757d45b4"
      },
      "execution_count": 6,
      "outputs": [
        {
          "output_type": "execute_result",
          "data": {
            "text/plain": [
              "706"
            ]
          },
          "metadata": {},
          "execution_count": 6
        }
      ]
    },
    {
      "cell_type": "code",
      "source": [
        "# Get the names of the images names\n",
        "import os \n",
        "\n",
        "# specify the img directory path\n",
        "out_path = '/content/drive/MyDrive/Emergency vs Non-Emergency vehicles/dataset/images'\n",
        "\n",
        "# list files in img directory\n",
        "out_files = os.listdir(out_path)\n",
        "images_data_names = []\n",
        "for file in out_files:\n",
        "    # make sure file is an image\n",
        "    if file.endswith('.jpg'):\n",
        "        images_data_names.append(file)\n"
      ],
      "metadata": {
        "id": "6qnbwYbQRv-k"
      },
      "execution_count": 7,
      "outputs": []
    },
    {
      "cell_type": "code",
      "source": [
        "# top 10 records \n",
        "images_data_names[:5]"
      ],
      "metadata": {
        "colab": {
          "base_uri": "https://localhost:8080/"
        },
        "id": "ZjiM-63ISJ0C",
        "outputId": "5308b88b-6322-4a2d-c592-6843ad80d220"
      },
      "execution_count": 8,
      "outputs": [
        {
          "output_type": "execute_result",
          "data": {
            "text/plain": [
              "['791.jpg', '7911.jpg', '7912.jpg', '7913.jpg', '7915.jpg']"
            ]
          },
          "metadata": {},
          "execution_count": 8
        }
      ]
    },
    {
      "cell_type": "code",
      "source": [
        "# total number of images\n",
        "len(images_data_names)"
      ],
      "metadata": {
        "colab": {
          "base_uri": "https://localhost:8080/"
        },
        "id": "WUohI1iOSPNH",
        "outputId": "fdc01365-c61f-4491-ffb9-47c7513ac3d1"
      },
      "execution_count": 9,
      "outputs": [
        {
          "output_type": "execute_result",
          "data": {
            "text/plain": [
              "7290"
            ]
          },
          "metadata": {},
          "execution_count": 9
        }
      ]
    },
    {
      "cell_type": "markdown",
      "source": [
        "- **There are 7290 images which account for both the training and test data whose labels have already been separated**"
      ],
      "metadata": {
        "id": "TPPN2LdQSbIo"
      }
    },
    {
      "cell_type": "markdown",
      "source": [
        "**SEPARATE THE TRAINING DATA FROM THE FULL IMAGE DATA BY THEIR OUPUT**"
      ],
      "metadata": {
        "id": "gdBilpKESgRC"
      }
    },
    {
      "cell_type": "code",
      "source": [
        "train_csv.head(3)"
      ],
      "metadata": {
        "colab": {
          "base_uri": "https://localhost:8080/",
          "height": 143
        },
        "id": "TiktW_pxSnzn",
        "outputId": "d009413f-1ac7-42f2-e2ad-5b3e43bc59f7"
      },
      "execution_count": 10,
      "outputs": [
        {
          "output_type": "execute_result",
          "data": {
            "text/plain": [
              "  image_names  emergency_or_not\n",
              "0    1503.jpg                 0\n",
              "1    1420.jpg                 0\n",
              "2    1764.jpg                 0"
            ],
            "text/html": [
              "\n",
              "  <div id=\"df-c023c302-3435-4e17-b072-ef17ff143b83\">\n",
              "    <div class=\"colab-df-container\">\n",
              "      <div>\n",
              "<style scoped>\n",
              "    .dataframe tbody tr th:only-of-type {\n",
              "        vertical-align: middle;\n",
              "    }\n",
              "\n",
              "    .dataframe tbody tr th {\n",
              "        vertical-align: top;\n",
              "    }\n",
              "\n",
              "    .dataframe thead th {\n",
              "        text-align: right;\n",
              "    }\n",
              "</style>\n",
              "<table border=\"1\" class=\"dataframe\">\n",
              "  <thead>\n",
              "    <tr style=\"text-align: right;\">\n",
              "      <th></th>\n",
              "      <th>image_names</th>\n",
              "      <th>emergency_or_not</th>\n",
              "    </tr>\n",
              "  </thead>\n",
              "  <tbody>\n",
              "    <tr>\n",
              "      <th>0</th>\n",
              "      <td>1503.jpg</td>\n",
              "      <td>0</td>\n",
              "    </tr>\n",
              "    <tr>\n",
              "      <th>1</th>\n",
              "      <td>1420.jpg</td>\n",
              "      <td>0</td>\n",
              "    </tr>\n",
              "    <tr>\n",
              "      <th>2</th>\n",
              "      <td>1764.jpg</td>\n",
              "      <td>0</td>\n",
              "    </tr>\n",
              "  </tbody>\n",
              "</table>\n",
              "</div>\n",
              "      <button class=\"colab-df-convert\" onclick=\"convertToInteractive('df-c023c302-3435-4e17-b072-ef17ff143b83')\"\n",
              "              title=\"Convert this dataframe to an interactive table.\"\n",
              "              style=\"display:none;\">\n",
              "        \n",
              "  <svg xmlns=\"http://www.w3.org/2000/svg\" height=\"24px\"viewBox=\"0 0 24 24\"\n",
              "       width=\"24px\">\n",
              "    <path d=\"M0 0h24v24H0V0z\" fill=\"none\"/>\n",
              "    <path d=\"M18.56 5.44l.94 2.06.94-2.06 2.06-.94-2.06-.94-.94-2.06-.94 2.06-2.06.94zm-11 1L8.5 8.5l.94-2.06 2.06-.94-2.06-.94L8.5 2.5l-.94 2.06-2.06.94zm10 10l.94 2.06.94-2.06 2.06-.94-2.06-.94-.94-2.06-.94 2.06-2.06.94z\"/><path d=\"M17.41 7.96l-1.37-1.37c-.4-.4-.92-.59-1.43-.59-.52 0-1.04.2-1.43.59L10.3 9.45l-7.72 7.72c-.78.78-.78 2.05 0 2.83L4 21.41c.39.39.9.59 1.41.59.51 0 1.02-.2 1.41-.59l7.78-7.78 2.81-2.81c.8-.78.8-2.07 0-2.86zM5.41 20L4 18.59l7.72-7.72 1.47 1.35L5.41 20z\"/>\n",
              "  </svg>\n",
              "      </button>\n",
              "      \n",
              "  <style>\n",
              "    .colab-df-container {\n",
              "      display:flex;\n",
              "      flex-wrap:wrap;\n",
              "      gap: 12px;\n",
              "    }\n",
              "\n",
              "    .colab-df-convert {\n",
              "      background-color: #E8F0FE;\n",
              "      border: none;\n",
              "      border-radius: 50%;\n",
              "      cursor: pointer;\n",
              "      display: none;\n",
              "      fill: #1967D2;\n",
              "      height: 32px;\n",
              "      padding: 0 0 0 0;\n",
              "      width: 32px;\n",
              "    }\n",
              "\n",
              "    .colab-df-convert:hover {\n",
              "      background-color: #E2EBFA;\n",
              "      box-shadow: 0px 1px 2px rgba(60, 64, 67, 0.3), 0px 1px 3px 1px rgba(60, 64, 67, 0.15);\n",
              "      fill: #174EA6;\n",
              "    }\n",
              "\n",
              "    [theme=dark] .colab-df-convert {\n",
              "      background-color: #3B4455;\n",
              "      fill: #D2E3FC;\n",
              "    }\n",
              "\n",
              "    [theme=dark] .colab-df-convert:hover {\n",
              "      background-color: #434B5C;\n",
              "      box-shadow: 0px 1px 3px 1px rgba(0, 0, 0, 0.15);\n",
              "      filter: drop-shadow(0px 1px 2px rgba(0, 0, 0, 0.3));\n",
              "      fill: #FFFFFF;\n",
              "    }\n",
              "  </style>\n",
              "\n",
              "      <script>\n",
              "        const buttonEl =\n",
              "          document.querySelector('#df-c023c302-3435-4e17-b072-ef17ff143b83 button.colab-df-convert');\n",
              "        buttonEl.style.display =\n",
              "          google.colab.kernel.accessAllowed ? 'block' : 'none';\n",
              "\n",
              "        async function convertToInteractive(key) {\n",
              "          const element = document.querySelector('#df-c023c302-3435-4e17-b072-ef17ff143b83');\n",
              "          const dataTable =\n",
              "            await google.colab.kernel.invokeFunction('convertToInteractive',\n",
              "                                                     [key], {});\n",
              "          if (!dataTable) return;\n",
              "\n",
              "          const docLinkHtml = 'Like what you see? Visit the ' +\n",
              "            '<a target=\"_blank\" href=https://colab.research.google.com/notebooks/data_table.ipynb>data table notebook</a>'\n",
              "            + ' to learn more about interactive tables.';\n",
              "          element.innerHTML = '';\n",
              "          dataTable['output_type'] = 'display_data';\n",
              "          await google.colab.output.renderOutput(dataTable, element);\n",
              "          const docLink = document.createElement('div');\n",
              "          docLink.innerHTML = docLinkHtml;\n",
              "          element.appendChild(docLink);\n",
              "        }\n",
              "      </script>\n",
              "    </div>\n",
              "  </div>\n",
              "  "
            ]
          },
          "metadata": {},
          "execution_count": 10
        }
      ]
    },
    {
      "cell_type": "markdown",
      "source": [
        "## **train_emergency_dataframe**"
      ],
      "metadata": {
        "id": "N-hexoNnaoEz"
      }
    },
    {
      "cell_type": "code",
      "source": [
        "train_emergency_csv = train_csv[train_csv['emergency_or_not'] == 1]\n",
        "train_emergency_csv.sort_values('image_names', inplace = True)\n",
        "train_emergency_csv.head(3)"
      ],
      "metadata": {
        "colab": {
          "base_uri": "https://localhost:8080/",
          "height": 250
        },
        "id": "tbnVi3_IS022",
        "outputId": "d85e9416-197a-4ee2-cd28-f6138f07021c"
      },
      "execution_count": 11,
      "outputs": [
        {
          "output_type": "stream",
          "name": "stderr",
          "text": [
            "/usr/local/lib/python3.8/dist-packages/pandas/util/_decorators.py:311: SettingWithCopyWarning: \n",
            "A value is trying to be set on a copy of a slice from a DataFrame\n",
            "\n",
            "See the caveats in the documentation: https://pandas.pydata.org/pandas-docs/stable/user_guide/indexing.html#returning-a-view-versus-a-copy\n",
            "  return func(*args, **kwargs)\n"
          ]
        },
        {
          "output_type": "execute_result",
          "data": {
            "text/plain": [
              "     image_names  emergency_or_not\n",
              "880        0.jpg                 1\n",
              "1489       1.jpg                 1\n",
              "545       10.jpg                 1"
            ],
            "text/html": [
              "\n",
              "  <div id=\"df-041ff337-b58d-4c9f-993e-75bd788b21b6\">\n",
              "    <div class=\"colab-df-container\">\n",
              "      <div>\n",
              "<style scoped>\n",
              "    .dataframe tbody tr th:only-of-type {\n",
              "        vertical-align: middle;\n",
              "    }\n",
              "\n",
              "    .dataframe tbody tr th {\n",
              "        vertical-align: top;\n",
              "    }\n",
              "\n",
              "    .dataframe thead th {\n",
              "        text-align: right;\n",
              "    }\n",
              "</style>\n",
              "<table border=\"1\" class=\"dataframe\">\n",
              "  <thead>\n",
              "    <tr style=\"text-align: right;\">\n",
              "      <th></th>\n",
              "      <th>image_names</th>\n",
              "      <th>emergency_or_not</th>\n",
              "    </tr>\n",
              "  </thead>\n",
              "  <tbody>\n",
              "    <tr>\n",
              "      <th>880</th>\n",
              "      <td>0.jpg</td>\n",
              "      <td>1</td>\n",
              "    </tr>\n",
              "    <tr>\n",
              "      <th>1489</th>\n",
              "      <td>1.jpg</td>\n",
              "      <td>1</td>\n",
              "    </tr>\n",
              "    <tr>\n",
              "      <th>545</th>\n",
              "      <td>10.jpg</td>\n",
              "      <td>1</td>\n",
              "    </tr>\n",
              "  </tbody>\n",
              "</table>\n",
              "</div>\n",
              "      <button class=\"colab-df-convert\" onclick=\"convertToInteractive('df-041ff337-b58d-4c9f-993e-75bd788b21b6')\"\n",
              "              title=\"Convert this dataframe to an interactive table.\"\n",
              "              style=\"display:none;\">\n",
              "        \n",
              "  <svg xmlns=\"http://www.w3.org/2000/svg\" height=\"24px\"viewBox=\"0 0 24 24\"\n",
              "       width=\"24px\">\n",
              "    <path d=\"M0 0h24v24H0V0z\" fill=\"none\"/>\n",
              "    <path d=\"M18.56 5.44l.94 2.06.94-2.06 2.06-.94-2.06-.94-.94-2.06-.94 2.06-2.06.94zm-11 1L8.5 8.5l.94-2.06 2.06-.94-2.06-.94L8.5 2.5l-.94 2.06-2.06.94zm10 10l.94 2.06.94-2.06 2.06-.94-2.06-.94-.94-2.06-.94 2.06-2.06.94z\"/><path d=\"M17.41 7.96l-1.37-1.37c-.4-.4-.92-.59-1.43-.59-.52 0-1.04.2-1.43.59L10.3 9.45l-7.72 7.72c-.78.78-.78 2.05 0 2.83L4 21.41c.39.39.9.59 1.41.59.51 0 1.02-.2 1.41-.59l7.78-7.78 2.81-2.81c.8-.78.8-2.07 0-2.86zM5.41 20L4 18.59l7.72-7.72 1.47 1.35L5.41 20z\"/>\n",
              "  </svg>\n",
              "      </button>\n",
              "      \n",
              "  <style>\n",
              "    .colab-df-container {\n",
              "      display:flex;\n",
              "      flex-wrap:wrap;\n",
              "      gap: 12px;\n",
              "    }\n",
              "\n",
              "    .colab-df-convert {\n",
              "      background-color: #E8F0FE;\n",
              "      border: none;\n",
              "      border-radius: 50%;\n",
              "      cursor: pointer;\n",
              "      display: none;\n",
              "      fill: #1967D2;\n",
              "      height: 32px;\n",
              "      padding: 0 0 0 0;\n",
              "      width: 32px;\n",
              "    }\n",
              "\n",
              "    .colab-df-convert:hover {\n",
              "      background-color: #E2EBFA;\n",
              "      box-shadow: 0px 1px 2px rgba(60, 64, 67, 0.3), 0px 1px 3px 1px rgba(60, 64, 67, 0.15);\n",
              "      fill: #174EA6;\n",
              "    }\n",
              "\n",
              "    [theme=dark] .colab-df-convert {\n",
              "      background-color: #3B4455;\n",
              "      fill: #D2E3FC;\n",
              "    }\n",
              "\n",
              "    [theme=dark] .colab-df-convert:hover {\n",
              "      background-color: #434B5C;\n",
              "      box-shadow: 0px 1px 3px 1px rgba(0, 0, 0, 0.15);\n",
              "      filter: drop-shadow(0px 1px 2px rgba(0, 0, 0, 0.3));\n",
              "      fill: #FFFFFF;\n",
              "    }\n",
              "  </style>\n",
              "\n",
              "      <script>\n",
              "        const buttonEl =\n",
              "          document.querySelector('#df-041ff337-b58d-4c9f-993e-75bd788b21b6 button.colab-df-convert');\n",
              "        buttonEl.style.display =\n",
              "          google.colab.kernel.accessAllowed ? 'block' : 'none';\n",
              "\n",
              "        async function convertToInteractive(key) {\n",
              "          const element = document.querySelector('#df-041ff337-b58d-4c9f-993e-75bd788b21b6');\n",
              "          const dataTable =\n",
              "            await google.colab.kernel.invokeFunction('convertToInteractive',\n",
              "                                                     [key], {});\n",
              "          if (!dataTable) return;\n",
              "\n",
              "          const docLinkHtml = 'Like what you see? Visit the ' +\n",
              "            '<a target=\"_blank\" href=https://colab.research.google.com/notebooks/data_table.ipynb>data table notebook</a>'\n",
              "            + ' to learn more about interactive tables.';\n",
              "          element.innerHTML = '';\n",
              "          dataTable['output_type'] = 'display_data';\n",
              "          await google.colab.output.renderOutput(dataTable, element);\n",
              "          const docLink = document.createElement('div');\n",
              "          docLink.innerHTML = docLinkHtml;\n",
              "          element.appendChild(docLink);\n",
              "        }\n",
              "      </script>\n",
              "    </div>\n",
              "  </div>\n",
              "  "
            ]
          },
          "metadata": {},
          "execution_count": 11
        }
      ]
    },
    {
      "cell_type": "markdown",
      "source": [
        "### **train_emergency_images_path**"
      ],
      "metadata": {
        "id": "lVqHDkHJawS-"
      }
    },
    {
      "cell_type": "code",
      "source": [
        "# full images path\n",
        "target_folder = '/content/drive/MyDrive/Emergency vs Non-Emergency vehicles/dataset/images/' "
      ],
      "metadata": {
        "id": "uw_p9m6NaATN"
      },
      "execution_count": 12,
      "outputs": []
    },
    {
      "cell_type": "code",
      "source": [
        "# train_emergency_images_path\n",
        "train_emergency_image_names = train_emergency_csv['image_names']\n",
        "train_emergency_images_path = [target_folder + t for t in train_emergency_image_names]\n",
        "train_emergency_images_path[:3]"
      ],
      "metadata": {
        "colab": {
          "base_uri": "https://localhost:8080/"
        },
        "id": "wxlGm2FAYYUU",
        "outputId": "c20fe302-f771-4fa7-8857-20a38abf2b27"
      },
      "execution_count": 13,
      "outputs": [
        {
          "output_type": "execute_result",
          "data": {
            "text/plain": [
              "['/content/drive/MyDrive/Emergency vs Non-Emergency vehicles/dataset/images/0.jpg',\n",
              " '/content/drive/MyDrive/Emergency vs Non-Emergency vehicles/dataset/images/1.jpg',\n",
              " '/content/drive/MyDrive/Emergency vs Non-Emergency vehicles/dataset/images/10.jpg']"
            ]
          },
          "metadata": {},
          "execution_count": 13
        }
      ]
    },
    {
      "cell_type": "code",
      "source": [
        "# train_non_emergency_labels\n",
        "train_emergency_labels = train_emergency_csv['emergency_or_not']\n",
        "train_emergency_labels.head(3)"
      ],
      "metadata": {
        "colab": {
          "base_uri": "https://localhost:8080/"
        },
        "id": "vg7u-Zq2l-b0",
        "outputId": "c75dad27-cce3-437d-cd50-f241f3e08ed4"
      },
      "execution_count": 14,
      "outputs": [
        {
          "output_type": "execute_result",
          "data": {
            "text/plain": [
              "880     1\n",
              "1489    1\n",
              "545     1\n",
              "Name: emergency_or_not, dtype: int64"
            ]
          },
          "metadata": {},
          "execution_count": 14
        }
      ]
    },
    {
      "cell_type": "code",
      "source": [
        "\n",
        "# train_non_emergency_dataframe\n",
        "train_non_emergency_csv = train_csv[train_csv['emergency_or_not'] == 0]\n",
        "train_non_emergency_csv.sort_values('image_names', inplace = True)\n",
        "train_non_emergency_csv.head(3)"
      ],
      "metadata": {
        "colab": {
          "base_uri": "https://localhost:8080/",
          "height": 250
        },
        "id": "vZh-CBUfTcZu",
        "outputId": "17f1eeba-62c2-4cf4-a79a-c5b3971a3d8a"
      },
      "execution_count": 15,
      "outputs": [
        {
          "output_type": "stream",
          "name": "stderr",
          "text": [
            "/usr/local/lib/python3.8/dist-packages/pandas/util/_decorators.py:311: SettingWithCopyWarning: \n",
            "A value is trying to be set on a copy of a slice from a DataFrame\n",
            "\n",
            "See the caveats in the documentation: https://pandas.pydata.org/pandas-docs/stable/user_guide/indexing.html#returning-a-view-versus-a-copy\n",
            "  return func(*args, **kwargs)\n"
          ]
        },
        {
          "output_type": "execute_result",
          "data": {
            "text/plain": [
              "     image_names  emergency_or_not\n",
              "1325    1002.jpg                 0\n",
              "1318    1003.jpg                 0\n",
              "200     1005.jpg                 0"
            ],
            "text/html": [
              "\n",
              "  <div id=\"df-01acf01e-4f57-425a-bdc1-96c19e0f6bc9\">\n",
              "    <div class=\"colab-df-container\">\n",
              "      <div>\n",
              "<style scoped>\n",
              "    .dataframe tbody tr th:only-of-type {\n",
              "        vertical-align: middle;\n",
              "    }\n",
              "\n",
              "    .dataframe tbody tr th {\n",
              "        vertical-align: top;\n",
              "    }\n",
              "\n",
              "    .dataframe thead th {\n",
              "        text-align: right;\n",
              "    }\n",
              "</style>\n",
              "<table border=\"1\" class=\"dataframe\">\n",
              "  <thead>\n",
              "    <tr style=\"text-align: right;\">\n",
              "      <th></th>\n",
              "      <th>image_names</th>\n",
              "      <th>emergency_or_not</th>\n",
              "    </tr>\n",
              "  </thead>\n",
              "  <tbody>\n",
              "    <tr>\n",
              "      <th>1325</th>\n",
              "      <td>1002.jpg</td>\n",
              "      <td>0</td>\n",
              "    </tr>\n",
              "    <tr>\n",
              "      <th>1318</th>\n",
              "      <td>1003.jpg</td>\n",
              "      <td>0</td>\n",
              "    </tr>\n",
              "    <tr>\n",
              "      <th>200</th>\n",
              "      <td>1005.jpg</td>\n",
              "      <td>0</td>\n",
              "    </tr>\n",
              "  </tbody>\n",
              "</table>\n",
              "</div>\n",
              "      <button class=\"colab-df-convert\" onclick=\"convertToInteractive('df-01acf01e-4f57-425a-bdc1-96c19e0f6bc9')\"\n",
              "              title=\"Convert this dataframe to an interactive table.\"\n",
              "              style=\"display:none;\">\n",
              "        \n",
              "  <svg xmlns=\"http://www.w3.org/2000/svg\" height=\"24px\"viewBox=\"0 0 24 24\"\n",
              "       width=\"24px\">\n",
              "    <path d=\"M0 0h24v24H0V0z\" fill=\"none\"/>\n",
              "    <path d=\"M18.56 5.44l.94 2.06.94-2.06 2.06-.94-2.06-.94-.94-2.06-.94 2.06-2.06.94zm-11 1L8.5 8.5l.94-2.06 2.06-.94-2.06-.94L8.5 2.5l-.94 2.06-2.06.94zm10 10l.94 2.06.94-2.06 2.06-.94-2.06-.94-.94-2.06-.94 2.06-2.06.94z\"/><path d=\"M17.41 7.96l-1.37-1.37c-.4-.4-.92-.59-1.43-.59-.52 0-1.04.2-1.43.59L10.3 9.45l-7.72 7.72c-.78.78-.78 2.05 0 2.83L4 21.41c.39.39.9.59 1.41.59.51 0 1.02-.2 1.41-.59l7.78-7.78 2.81-2.81c.8-.78.8-2.07 0-2.86zM5.41 20L4 18.59l7.72-7.72 1.47 1.35L5.41 20z\"/>\n",
              "  </svg>\n",
              "      </button>\n",
              "      \n",
              "  <style>\n",
              "    .colab-df-container {\n",
              "      display:flex;\n",
              "      flex-wrap:wrap;\n",
              "      gap: 12px;\n",
              "    }\n",
              "\n",
              "    .colab-df-convert {\n",
              "      background-color: #E8F0FE;\n",
              "      border: none;\n",
              "      border-radius: 50%;\n",
              "      cursor: pointer;\n",
              "      display: none;\n",
              "      fill: #1967D2;\n",
              "      height: 32px;\n",
              "      padding: 0 0 0 0;\n",
              "      width: 32px;\n",
              "    }\n",
              "\n",
              "    .colab-df-convert:hover {\n",
              "      background-color: #E2EBFA;\n",
              "      box-shadow: 0px 1px 2px rgba(60, 64, 67, 0.3), 0px 1px 3px 1px rgba(60, 64, 67, 0.15);\n",
              "      fill: #174EA6;\n",
              "    }\n",
              "\n",
              "    [theme=dark] .colab-df-convert {\n",
              "      background-color: #3B4455;\n",
              "      fill: #D2E3FC;\n",
              "    }\n",
              "\n",
              "    [theme=dark] .colab-df-convert:hover {\n",
              "      background-color: #434B5C;\n",
              "      box-shadow: 0px 1px 3px 1px rgba(0, 0, 0, 0.15);\n",
              "      filter: drop-shadow(0px 1px 2px rgba(0, 0, 0, 0.3));\n",
              "      fill: #FFFFFF;\n",
              "    }\n",
              "  </style>\n",
              "\n",
              "      <script>\n",
              "        const buttonEl =\n",
              "          document.querySelector('#df-01acf01e-4f57-425a-bdc1-96c19e0f6bc9 button.colab-df-convert');\n",
              "        buttonEl.style.display =\n",
              "          google.colab.kernel.accessAllowed ? 'block' : 'none';\n",
              "\n",
              "        async function convertToInteractive(key) {\n",
              "          const element = document.querySelector('#df-01acf01e-4f57-425a-bdc1-96c19e0f6bc9');\n",
              "          const dataTable =\n",
              "            await google.colab.kernel.invokeFunction('convertToInteractive',\n",
              "                                                     [key], {});\n",
              "          if (!dataTable) return;\n",
              "\n",
              "          const docLinkHtml = 'Like what you see? Visit the ' +\n",
              "            '<a target=\"_blank\" href=https://colab.research.google.com/notebooks/data_table.ipynb>data table notebook</a>'\n",
              "            + ' to learn more about interactive tables.';\n",
              "          element.innerHTML = '';\n",
              "          dataTable['output_type'] = 'display_data';\n",
              "          await google.colab.output.renderOutput(dataTable, element);\n",
              "          const docLink = document.createElement('div');\n",
              "          docLink.innerHTML = docLinkHtml;\n",
              "          element.appendChild(docLink);\n",
              "        }\n",
              "      </script>\n",
              "    </div>\n",
              "  </div>\n",
              "  "
            ]
          },
          "metadata": {},
          "execution_count": 15
        }
      ]
    },
    {
      "cell_type": "code",
      "source": [
        "# train_non_emergency_image_names\n",
        "train_non_emergency_image_names = train_non_emergency_csv['image_names']\n",
        "train_non_emergency_images_path = [target_folder + t for t in train_non_emergency_image_names]\n",
        "train_non_emergency_images_path[:3]"
      ],
      "metadata": {
        "colab": {
          "base_uri": "https://localhost:8080/"
        },
        "id": "7befn7NMUzMo",
        "outputId": "469c96f9-65ab-4419-bc19-4e5c6b960456"
      },
      "execution_count": 16,
      "outputs": [
        {
          "output_type": "execute_result",
          "data": {
            "text/plain": [
              "['/content/drive/MyDrive/Emergency vs Non-Emergency vehicles/dataset/images/1002.jpg',\n",
              " '/content/drive/MyDrive/Emergency vs Non-Emergency vehicles/dataset/images/1003.jpg',\n",
              " '/content/drive/MyDrive/Emergency vs Non-Emergency vehicles/dataset/images/1005.jpg']"
            ]
          },
          "metadata": {},
          "execution_count": 16
        }
      ]
    },
    {
      "cell_type": "code",
      "source": [
        "# train_non_emergency_labels\n",
        "train_non_emergency_labels = train_non_emergency_csv['emergency_or_not']\n",
        "train_non_emergency_labels.head()"
      ],
      "metadata": {
        "colab": {
          "base_uri": "https://localhost:8080/"
        },
        "id": "bCLs4u51lPib",
        "outputId": "f6253ff9-8b9a-49a1-f9c9-472453965add"
      },
      "execution_count": 17,
      "outputs": [
        {
          "output_type": "execute_result",
          "data": {
            "text/plain": [
              "1325    0\n",
              "1318    0\n",
              "200     0\n",
              "590     0\n",
              "524     0\n",
              "Name: emergency_or_not, dtype: int64"
            ]
          },
          "metadata": {},
          "execution_count": 17
        }
      ]
    },
    {
      "cell_type": "markdown",
      "source": [
        "**SEPARATE THE TESTING DATA FROM THE FULL IMAGE DATA BY THEIR OUPUT**"
      ],
      "metadata": {
        "id": "fKz0HeW2b8QB"
      }
    },
    {
      "cell_type": "code",
      "source": [
        "test_csv['emergency_or_not'].value_counts()"
      ],
      "metadata": {
        "colab": {
          "base_uri": "https://localhost:8080/"
        },
        "id": "UbU7Xde-b8Gl",
        "outputId": "f09bea05-ea0d-4ab4-fb78-2158b8047b88"
      },
      "execution_count": 18,
      "outputs": [
        {
          "output_type": "execute_result",
          "data": {
            "text/plain": [
              "0    706\n",
              "Name: emergency_or_not, dtype: int64"
            ]
          },
          "metadata": {},
          "execution_count": 18
        }
      ]
    },
    {
      "cell_type": "markdown",
      "source": [
        "**Apparently, all the test data are of all non_emergency class**"
      ],
      "metadata": {
        "id": "AqCxeNzufE5v"
      }
    },
    {
      "cell_type": "code",
      "source": [
        "# test dataframe\n",
        "test_csv.sort_values('image_names', inplace = True)\n",
        "test_csv.head(3)"
      ],
      "metadata": {
        "colab": {
          "base_uri": "https://localhost:8080/",
          "height": 143
        },
        "id": "ypik5ff6b790",
        "outputId": "0e9be4ad-dab1-47e3-900c-7764dd89b9b6"
      },
      "execution_count": 19,
      "outputs": [
        {
          "output_type": "execute_result",
          "data": {
            "text/plain": [
              "    image_names  emergency_or_not\n",
              "96      100.jpg                 0\n",
              "684    1000.jpg                 0\n",
              "587    1001.jpg                 0"
            ],
            "text/html": [
              "\n",
              "  <div id=\"df-c19e5e2a-39f7-470f-967c-2bee6e01f2b6\">\n",
              "    <div class=\"colab-df-container\">\n",
              "      <div>\n",
              "<style scoped>\n",
              "    .dataframe tbody tr th:only-of-type {\n",
              "        vertical-align: middle;\n",
              "    }\n",
              "\n",
              "    .dataframe tbody tr th {\n",
              "        vertical-align: top;\n",
              "    }\n",
              "\n",
              "    .dataframe thead th {\n",
              "        text-align: right;\n",
              "    }\n",
              "</style>\n",
              "<table border=\"1\" class=\"dataframe\">\n",
              "  <thead>\n",
              "    <tr style=\"text-align: right;\">\n",
              "      <th></th>\n",
              "      <th>image_names</th>\n",
              "      <th>emergency_or_not</th>\n",
              "    </tr>\n",
              "  </thead>\n",
              "  <tbody>\n",
              "    <tr>\n",
              "      <th>96</th>\n",
              "      <td>100.jpg</td>\n",
              "      <td>0</td>\n",
              "    </tr>\n",
              "    <tr>\n",
              "      <th>684</th>\n",
              "      <td>1000.jpg</td>\n",
              "      <td>0</td>\n",
              "    </tr>\n",
              "    <tr>\n",
              "      <th>587</th>\n",
              "      <td>1001.jpg</td>\n",
              "      <td>0</td>\n",
              "    </tr>\n",
              "  </tbody>\n",
              "</table>\n",
              "</div>\n",
              "      <button class=\"colab-df-convert\" onclick=\"convertToInteractive('df-c19e5e2a-39f7-470f-967c-2bee6e01f2b6')\"\n",
              "              title=\"Convert this dataframe to an interactive table.\"\n",
              "              style=\"display:none;\">\n",
              "        \n",
              "  <svg xmlns=\"http://www.w3.org/2000/svg\" height=\"24px\"viewBox=\"0 0 24 24\"\n",
              "       width=\"24px\">\n",
              "    <path d=\"M0 0h24v24H0V0z\" fill=\"none\"/>\n",
              "    <path d=\"M18.56 5.44l.94 2.06.94-2.06 2.06-.94-2.06-.94-.94-2.06-.94 2.06-2.06.94zm-11 1L8.5 8.5l.94-2.06 2.06-.94-2.06-.94L8.5 2.5l-.94 2.06-2.06.94zm10 10l.94 2.06.94-2.06 2.06-.94-2.06-.94-.94-2.06-.94 2.06-2.06.94z\"/><path d=\"M17.41 7.96l-1.37-1.37c-.4-.4-.92-.59-1.43-.59-.52 0-1.04.2-1.43.59L10.3 9.45l-7.72 7.72c-.78.78-.78 2.05 0 2.83L4 21.41c.39.39.9.59 1.41.59.51 0 1.02-.2 1.41-.59l7.78-7.78 2.81-2.81c.8-.78.8-2.07 0-2.86zM5.41 20L4 18.59l7.72-7.72 1.47 1.35L5.41 20z\"/>\n",
              "  </svg>\n",
              "      </button>\n",
              "      \n",
              "  <style>\n",
              "    .colab-df-container {\n",
              "      display:flex;\n",
              "      flex-wrap:wrap;\n",
              "      gap: 12px;\n",
              "    }\n",
              "\n",
              "    .colab-df-convert {\n",
              "      background-color: #E8F0FE;\n",
              "      border: none;\n",
              "      border-radius: 50%;\n",
              "      cursor: pointer;\n",
              "      display: none;\n",
              "      fill: #1967D2;\n",
              "      height: 32px;\n",
              "      padding: 0 0 0 0;\n",
              "      width: 32px;\n",
              "    }\n",
              "\n",
              "    .colab-df-convert:hover {\n",
              "      background-color: #E2EBFA;\n",
              "      box-shadow: 0px 1px 2px rgba(60, 64, 67, 0.3), 0px 1px 3px 1px rgba(60, 64, 67, 0.15);\n",
              "      fill: #174EA6;\n",
              "    }\n",
              "\n",
              "    [theme=dark] .colab-df-convert {\n",
              "      background-color: #3B4455;\n",
              "      fill: #D2E3FC;\n",
              "    }\n",
              "\n",
              "    [theme=dark] .colab-df-convert:hover {\n",
              "      background-color: #434B5C;\n",
              "      box-shadow: 0px 1px 3px 1px rgba(0, 0, 0, 0.15);\n",
              "      filter: drop-shadow(0px 1px 2px rgba(0, 0, 0, 0.3));\n",
              "      fill: #FFFFFF;\n",
              "    }\n",
              "  </style>\n",
              "\n",
              "      <script>\n",
              "        const buttonEl =\n",
              "          document.querySelector('#df-c19e5e2a-39f7-470f-967c-2bee6e01f2b6 button.colab-df-convert');\n",
              "        buttonEl.style.display =\n",
              "          google.colab.kernel.accessAllowed ? 'block' : 'none';\n",
              "\n",
              "        async function convertToInteractive(key) {\n",
              "          const element = document.querySelector('#df-c19e5e2a-39f7-470f-967c-2bee6e01f2b6');\n",
              "          const dataTable =\n",
              "            await google.colab.kernel.invokeFunction('convertToInteractive',\n",
              "                                                     [key], {});\n",
              "          if (!dataTable) return;\n",
              "\n",
              "          const docLinkHtml = 'Like what you see? Visit the ' +\n",
              "            '<a target=\"_blank\" href=https://colab.research.google.com/notebooks/data_table.ipynb>data table notebook</a>'\n",
              "            + ' to learn more about interactive tables.';\n",
              "          element.innerHTML = '';\n",
              "          dataTable['output_type'] = 'display_data';\n",
              "          await google.colab.output.renderOutput(dataTable, element);\n",
              "          const docLink = document.createElement('div');\n",
              "          docLink.innerHTML = docLinkHtml;\n",
              "          element.appendChild(docLink);\n",
              "        }\n",
              "      </script>\n",
              "    </div>\n",
              "  </div>\n",
              "  "
            ]
          },
          "metadata": {},
          "execution_count": 19
        }
      ]
    },
    {
      "cell_type": "code",
      "source": [
        "# test_images_path\n",
        "test_image_names = test_csv['image_names']\n",
        "test_images_path = [target_folder + t for t in test_image_names]\n",
        "test_images_path[:3]"
      ],
      "metadata": {
        "colab": {
          "base_uri": "https://localhost:8080/"
        },
        "id": "aJ6VZwfDb7zn",
        "outputId": "ab1e84e4-4a4a-4259-bc63-d1d3a028fbe3"
      },
      "execution_count": 20,
      "outputs": [
        {
          "output_type": "execute_result",
          "data": {
            "text/plain": [
              "['/content/drive/MyDrive/Emergency vs Non-Emergency vehicles/dataset/images/100.jpg',\n",
              " '/content/drive/MyDrive/Emergency vs Non-Emergency vehicles/dataset/images/1000.jpg',\n",
              " '/content/drive/MyDrive/Emergency vs Non-Emergency vehicles/dataset/images/1001.jpg']"
            ]
          },
          "metadata": {},
          "execution_count": 20
        }
      ]
    },
    {
      "cell_type": "code",
      "source": [
        "# test_labels\n",
        "test_labels = test_csv['emergency_or_not']\n",
        "test_labels.head(3)"
      ],
      "metadata": {
        "colab": {
          "base_uri": "https://localhost:8080/"
        },
        "id": "0dezL_69b7pA",
        "outputId": "d573e37a-5aad-4d72-bdc8-42b3fc012ebd"
      },
      "execution_count": 21,
      "outputs": [
        {
          "output_type": "execute_result",
          "data": {
            "text/plain": [
              "96     0\n",
              "684    0\n",
              "587    0\n",
              "Name: emergency_or_not, dtype: int64"
            ]
          },
          "metadata": {},
          "execution_count": 21
        }
      ]
    },
    {
      "cell_type": "markdown",
      "source": [
        "### **Emergency and Non Emergency Dict**"
      ],
      "metadata": {
        "id": "rJ0bmu5IpcPv"
      }
    },
    {
      "cell_type": "code",
      "source": [
        "emergency_non_emergency_images_path_dict = {\n",
        "    'Emergency' : list(train_emergency_images_path), \n",
        "    'Non_Emergency' : list(train_non_emergency_images_path) + list(test_images_path)\n",
        "}"
      ],
      "metadata": {
        "id": "aLRUhd0pb7Fi"
      },
      "execution_count": 22,
      "outputs": []
    },
    {
      "cell_type": "markdown",
      "source": [
        "- **I joined train_non_emergency_images_path and test_images_path as they both belong to the Non Emergency class**"
      ],
      "metadata": {
        "id": "DNDjC6Tf1pS-"
      }
    },
    {
      "cell_type": "code",
      "source": [
        "print(len(train_emergency_images_path))\n",
        "print(len(train_non_emergency_images_path))\n",
        "print(len(test_images_path))"
      ],
      "metadata": {
        "colab": {
          "base_uri": "https://localhost:8080/"
        },
        "id": "KeYnZ7ZUz5Ko",
        "outputId": "ee4609ac-c309-4baf-c396-7af4ca133080"
      },
      "execution_count": 23,
      "outputs": [
        {
          "output_type": "stream",
          "name": "stdout",
          "text": [
            "2724\n",
            "3860\n",
            "706\n"
          ]
        }
      ]
    },
    {
      "cell_type": "code",
      "source": [
        "len(emergency_non_emergency_images_path_dict['Emergency'])"
      ],
      "metadata": {
        "colab": {
          "base_uri": "https://localhost:8080/"
        },
        "id": "kd-Y_5rk0UF7",
        "outputId": "2bba01b0-b687-4650-a396-cd5c0f898f70"
      },
      "execution_count": 24,
      "outputs": [
        {
          "output_type": "execute_result",
          "data": {
            "text/plain": [
              "2724"
            ]
          },
          "metadata": {},
          "execution_count": 24
        }
      ]
    },
    {
      "cell_type": "code",
      "source": [
        "len(emergency_non_emergency_images_path_dict['Non_Emergency'])"
      ],
      "metadata": {
        "colab": {
          "base_uri": "https://localhost:8080/"
        },
        "id": "TJcmr1J90gJ6",
        "outputId": "05c4121c-d1b7-4fe5-9dbf-672665eb50dd"
      },
      "execution_count": 25,
      "outputs": [
        {
          "output_type": "execute_result",
          "data": {
            "text/plain": [
              "4566"
            ]
          },
          "metadata": {},
          "execution_count": 25
        }
      ]
    },
    {
      "cell_type": "code",
      "source": [
        "emergency_non_emergency_labels_dict = {\n",
        "    'Emergency' : 1, \n",
        "    'Non_Emergency' : 0\n",
        "}"
      ],
      "metadata": {
        "id": "Licg5ymwp5nr"
      },
      "execution_count": 26,
      "outputs": []
    },
    {
      "cell_type": "code",
      "source": [
        "emergency_non_emergency_labels_dict"
      ],
      "metadata": {
        "colab": {
          "base_uri": "https://localhost:8080/"
        },
        "id": "nyAtmdgXz1uY",
        "outputId": "1ecd88c9-907d-472a-bc40-c749a4fc2299"
      },
      "execution_count": 27,
      "outputs": [
        {
          "output_type": "execute_result",
          "data": {
            "text/plain": [
              "{'Emergency': 1, 'Non_Emergency': 0}"
            ]
          },
          "metadata": {},
          "execution_count": 27
        }
      ]
    },
    {
      "cell_type": "markdown",
      "source": [
        "### **CREATE TRAINING IMAGE 3D arrays as X and IMAGE LABELS as y**"
      ],
      "metadata": {
        "id": "QyhNibA8qtLf"
      }
    },
    {
      "cell_type": "code",
      "source": [
        "X, y = [], [] \n",
        "\n",
        "import cv2 \n",
        "\n",
        "for image_cls, image_pth in emergency_non_emergency_images_path_dict.items(): \n",
        "  for image_p in image_pth: \n",
        "    img = cv2.imread(image_p)\n",
        "    resized = cv2.resize(img, (160, 160)) \n",
        "    X.append(resized)\n",
        "    y.append(emergency_non_emergency_labels_dict[image_cls])"
      ],
      "metadata": {
        "id": "d-r2rY1Fqdmm"
      },
      "execution_count": 28,
      "outputs": []
    },
    {
      "cell_type": "code",
      "source": [
        "X[0]"
      ],
      "metadata": {
        "colab": {
          "base_uri": "https://localhost:8080/"
        },
        "id": "zDql43MbChBQ",
        "outputId": "d0ede491-d42d-45c8-e966-dfd2f4b8b716"
      },
      "execution_count": 29,
      "outputs": [
        {
          "output_type": "execute_result",
          "data": {
            "text/plain": [
              "array([[[141, 134, 115],\n",
              "        [142, 135, 116],\n",
              "        [143, 136, 117],\n",
              "        ...,\n",
              "        [ 92,  86,  75],\n",
              "        [ 91,  85,  74],\n",
              "        [ 98,  92,  81]],\n",
              "\n",
              "       [[141, 134, 115],\n",
              "        [142, 135, 116],\n",
              "        [143, 136, 117],\n",
              "        ...,\n",
              "        [ 98,  92,  81],\n",
              "        [ 95,  89,  78],\n",
              "        [ 95,  90,  78]],\n",
              "\n",
              "       [[141, 134, 115],\n",
              "        [142, 135, 116],\n",
              "        [143, 136, 117],\n",
              "        ...,\n",
              "        [ 90,  84,  73],\n",
              "        [ 85,  79,  68],\n",
              "        [ 94,  88,  77]],\n",
              "\n",
              "       ...,\n",
              "\n",
              "       [[ 40,  42,  42],\n",
              "        [ 35,  37,  37],\n",
              "        [ 36,  38,  38],\n",
              "        ...,\n",
              "        [ 29,  31,  32],\n",
              "        [ 32,  34,  35],\n",
              "        [ 35,  37,  38]],\n",
              "\n",
              "       [[ 36,  38,  38],\n",
              "        [ 34,  36,  36],\n",
              "        [ 34,  36,  36],\n",
              "        ...,\n",
              "        [ 32,  34,  35],\n",
              "        [ 40,  43,  43],\n",
              "        [ 37,  39,  40]],\n",
              "\n",
              "       [[ 32,  34,  34],\n",
              "        [ 31,  33,  33],\n",
              "        [ 30,  32,  32],\n",
              "        ...,\n",
              "        [ 34,  36,  37],\n",
              "        [ 37,  39,  40],\n",
              "        [ 22,  24,  25]]], dtype=uint8)"
            ]
          },
          "metadata": {},
          "execution_count": 29
        }
      ]
    },
    {
      "cell_type": "code",
      "source": [
        "y[:5]"
      ],
      "metadata": {
        "colab": {
          "base_uri": "https://localhost:8080/"
        },
        "id": "_cpy1JNjCgh4",
        "outputId": "50cb477c-e7c5-449d-b7f9-ed48b6389674"
      },
      "execution_count": 30,
      "outputs": [
        {
          "output_type": "execute_result",
          "data": {
            "text/plain": [
              "[1, 1, 1, 1, 1]"
            ]
          },
          "metadata": {},
          "execution_count": 30
        }
      ]
    },
    {
      "cell_type": "markdown",
      "source": [
        "**PLOT RANDOM IMAGES WITH CLASS TO AUTHETICATE THAT THE VEHICLE MATCH THE CLASS**"
      ],
      "metadata": {
        "id": "VFRrplOWqc_P"
      }
    },
    {
      "cell_type": "code",
      "source": [
        "import random \n",
        "import matplotlib.pyplot as plt \n",
        "\n",
        "# plot random images \n",
        "plt.figure(figsize = (10, 7))\n",
        "for i in range(4): \n",
        "  ax = plt.subplot(2, 2, i+1)\n",
        "  random_int = random.choice(range(len(X))) \n",
        "  plt.imshow(X[random_int])\n",
        "  plt.title(y[random_int])\n",
        "  plt.axis(False)"
      ],
      "metadata": {
        "colab": {
          "base_uri": "https://localhost:8080/",
          "height": 427
        },
        "id": "jF3nHo4gptLe",
        "outputId": "a67879b7-607d-412f-8dbd-593ce4217ad9"
      },
      "execution_count": 31,
      "outputs": [
        {
          "output_type": "display_data",
          "data": {
            "text/plain": [
              "<Figure size 720x504 with 4 Axes>"
            ],
            "image/png": "[encoded data removed]"
          },
          "metadata": {
            "needs_background": "light"
          }
        }
      ]
    },
    {
      "cell_type": "markdown",
      "source": [
        "- **The images are correctly paired with the labels**"
      ],
      "metadata": {
        "id": "mNeus23Hb68L"
      }
    },
    {
      "cell_type": "markdown",
      "source": [
        "### **SPLIT THE DATASET INTO 2 HALVES** \n",
        "\n",
        "  > I will be using half of the data for the training, validating and testing of the model. As I attempted to use the full dataset, I kept suffering from session crash due to RAM overloading during the Normalization process. Having exploited various options to get around the session crash to no avail, I had to settle for this solution"
      ],
      "metadata": {
        "id": "fPklsOEHeyub"
      }
    },
    {
      "cell_type": "code",
      "source": [
        "# import train_test_split \n",
        "# train_test and validation data\n",
        "from sklearn.model_selection import train_test_split \n",
        "X_half1, X_half2, y_half1, y_half2 = train_test_split(X, y, \n",
        "                                                    random_state = 20, test_size = .50)"
      ],
      "metadata": {
        "id": "pEssKVs1c_96"
      },
      "execution_count": 32,
      "outputs": []
    },
    {
      "cell_type": "markdown",
      "source": [
        "### **SPLIT THE DATASET RANDOMLY TO TRAINING, VALIDATING AND TESTING DATASET**"
      ],
      "metadata": {
        "id": "xYJv07SqyVEC"
      }
    },
    {
      "cell_type": "code",
      "source": [
        "# import train_test_split \n",
        "# train_test and validation data\n",
        "from sklearn.model_selection import train_test_split \n",
        "X_train_full, X_test, y_train_full, y_test = train_test_split(X_half1, y_half1, \n",
        "                                                    random_state = 20, test_size = .20)"
      ],
      "metadata": {
        "id": "dxlSVN713Or8"
      },
      "execution_count": 33,
      "outputs": []
    },
    {
      "cell_type": "code",
      "source": [
        "# import train_test_split \n",
        "# train and test data\n",
        "from sklearn.model_selection import train_test_split \n",
        "X_train, X_valid, y_train, y_valid = train_test_split(X_train_full, y_train_full, \n",
        "                                                    random_state = 20, test_size = .20)"
      ],
      "metadata": {
        "id": "5fy5e2DCT5q8"
      },
      "execution_count": 34,
      "outputs": []
    },
    {
      "cell_type": "markdown",
      "source": [
        "### **CONVERT THE IMAGE 3D ARRAYS INTO NUMPY ARRAYS**"
      ],
      "metadata": {
        "id": "-qmX5IjGgOxz"
      }
    },
    {
      "cell_type": "code",
      "source": [
        "# import numpy \n",
        "import numpy as np"
      ],
      "metadata": {
        "id": "07QhmMBVghK_"
      },
      "execution_count": 35,
      "outputs": []
    },
    {
      "cell_type": "code",
      "source": [
        "X_train = np.array(X_train) \n",
        "y_train = np.array(y_train)"
      ],
      "metadata": {
        "id": "TCosLMmaQRRU"
      },
      "execution_count": 36,
      "outputs": []
    },
    {
      "cell_type": "code",
      "source": [
        "X_test = np.array(X_test)\n",
        "y_test = np.array(y_test)"
      ],
      "metadata": {
        "id": "fMdFzEKCQRHr"
      },
      "execution_count": 37,
      "outputs": []
    },
    {
      "cell_type": "code",
      "source": [
        "X_valid = np.array(X_valid)\n",
        "y_valid = np.array(y_valid)"
      ],
      "metadata": {
        "id": "ezbPp4sVREGM"
      },
      "execution_count": 38,
      "outputs": []
    },
    {
      "cell_type": "markdown",
      "source": [
        "### **NORMALIZE(RESCALE) ALL THE IMAGES TO BETWEEN 0 AND 1**"
      ],
      "metadata": {
        "id": "vecdLl3W3eLp"
      }
    },
    {
      "cell_type": "code",
      "source": [
        "X_train_scaled = X_train / 255.0"
      ],
      "metadata": {
        "id": "NPlgdgrWRD4T"
      },
      "execution_count": 39,
      "outputs": []
    },
    {
      "cell_type": "code",
      "source": [
        "X_test_scaled = X_test / 255.0"
      ],
      "metadata": {
        "id": "evfMMFChRDlK"
      },
      "execution_count": 40,
      "outputs": []
    },
    {
      "cell_type": "code",
      "source": [
        "X_valid_scaled = X_valid / 255.0"
      ],
      "metadata": {
        "id": "Wp8AZiw2RDTb"
      },
      "execution_count": 41,
      "outputs": []
    },
    {
      "cell_type": "code",
      "source": [
        "X_train_scaled[0].dtype"
      ],
      "metadata": {
        "colab": {
          "base_uri": "https://localhost:8080/"
        },
        "id": "IUBpX-JyRC0b",
        "outputId": "48e728e8-7154-409e-ab23-3d595387802f"
      },
      "execution_count": 42,
      "outputs": [
        {
          "output_type": "execute_result",
          "data": {
            "text/plain": [
              "dtype('float64')"
            ]
          },
          "metadata": {},
          "execution_count": 42
        }
      ]
    },
    {
      "cell_type": "code",
      "source": [
        "pd.Series(y_train).value_counts()"
      ],
      "metadata": {
        "colab": {
          "base_uri": "https://localhost:8080/"
        },
        "id": "-hLGCCPrg51Z",
        "outputId": "0debbcfa-5546-4214-e224-37c9eda6d0f5"
      },
      "execution_count": 43,
      "outputs": [
        {
          "output_type": "execute_result",
          "data": {
            "text/plain": [
              "0    1476\n",
              "1     856\n",
              "dtype: int64"
            ]
          },
          "metadata": {},
          "execution_count": 43
        }
      ]
    },
    {
      "cell_type": "code",
      "source": [
        "pd.Series(y_valid).value_counts()"
      ],
      "metadata": {
        "colab": {
          "base_uri": "https://localhost:8080/"
        },
        "id": "L5kyd7CI3OiX",
        "outputId": "08de4489-0b62-4e47-e50b-7d7dbe48667a"
      },
      "execution_count": 44,
      "outputs": [
        {
          "output_type": "execute_result",
          "data": {
            "text/plain": [
              "0    360\n",
              "1    224\n",
              "dtype: int64"
            ]
          },
          "metadata": {},
          "execution_count": 44
        }
      ]
    },
    {
      "cell_type": "code",
      "source": [
        "pd.Series(y_test).value_counts()"
      ],
      "metadata": {
        "id": "UmuoppRk3OXT",
        "colab": {
          "base_uri": "https://localhost:8080/"
        },
        "outputId": "4d7d49c3-1569-41d4-c53f-0fb70b0ed1dc"
      },
      "execution_count": 45,
      "outputs": [
        {
          "output_type": "execute_result",
          "data": {
            "text/plain": [
              "0    434\n",
              "1    295\n",
              "dtype: int64"
            ]
          },
          "metadata": {},
          "execution_count": 45
        }
      ]
    },
    {
      "cell_type": "markdown",
      "source": [
        "### **BUILD A CNN MODEL WITH MAXPOOLING LAYER**"
      ],
      "metadata": {
        "id": "-jQWJ_ac7P9C"
      }
    },
    {
      "cell_type": "code",
      "source": [
        "# import necessary libraries \n",
        "import tensorflow as tf \n",
        "from tensorflow.keras.layers import Dense, Flatten, Conv2D, MaxPool2D, Dropout "
      ],
      "metadata": {
        "id": "Iyw5Sy267NxI"
      },
      "execution_count": 46,
      "outputs": []
    },
    {
      "cell_type": "code",
      "source": [
        "from tensorflow.keras import Sequential \n",
        "from tensorflow.keras.optimizers import Adam"
      ],
      "metadata": {
        "id": "fJNW97Eb7Nru"
      },
      "execution_count": 47,
      "outputs": []
    },
    {
      "cell_type": "code",
      "source": [
        "# create a model with MaxPool \n",
        "tf.random.set_seed(25)\n",
        "cnn_1 = Sequential([\n",
        "    Conv2D(filters = 16, \n",
        "           kernel_size = 3, # can also be (3, 3) \n",
        "           padding = 'same', \n",
        "           activation = 'relu', \n",
        "           input_shape = (160, 160, 3)), \n",
        "    MaxPool2D(pool_size = (2, 2)),  \n",
        "    Conv2D(16, 3, padding = 'same', activation = 'relu'), \n",
        "    MaxPool2D(pool_size = 2),\n",
        "    Conv2D(16, 3, padding = 'same', activation = 'relu'), \n",
        "    MaxPool2D(),\n",
        "    Flatten(), \n",
        "    Dense(2, activation = 'sigmoid')\n",
        "])"
      ],
      "metadata": {
        "id": "G4Kz0Km3T5mT"
      },
      "execution_count": 48,
      "outputs": []
    },
    {
      "cell_type": "code",
      "source": [
        "# compile the model\n",
        "cnn_1.compile(loss = tf.keras.losses.SparseCategoricalCrossentropy(), \n",
        "              optimizer = 'adam', \n",
        "              metrics = ['accuracy'])"
      ],
      "metadata": {
        "id": "pI0m3CiNUsmA"
      },
      "execution_count": 49,
      "outputs": []
    },
    {
      "cell_type": "markdown",
      "source": [
        "### **CREATE CALLBACKS**"
      ],
      "metadata": {
        "id": "YW-ldpBU-U7F"
      }
    },
    {
      "cell_type": "code",
      "source": [
        "# create callback TensorBoard function \n",
        "import datetime \n",
        "def create_tensorboard_callback(dir_name, experiment_name): \n",
        "  log_dir = dir_name + '/' + experiment_name + '/' + datetime.datetime.now().strftime('%Y%m%d-%H%M%S')\n",
        "  tensorboard_callback = tf.keras.callbacks.TensorBoard(\n",
        "      log_dir\n",
        "  )\n",
        "  print(f'Saving TensorBoard log files to: {log_dir}')\n",
        "  return tensorboard_callback"
      ],
      "metadata": {
        "id": "8o9s5Gzx-cMI"
      },
      "execution_count": 50,
      "outputs": []
    },
    {
      "cell_type": "code",
      "source": [
        "history_1 = cnn_1.fit(x = X_train_scaled, \n",
        "                      y = y_train,  \n",
        "                      epochs = 15, validation_data = (X_valid_scaled, y_valid), \n",
        "                      callbacks = [create_tensorboard_callback('tensorflow_hub', 'cnn_1')]) "
      ],
      "metadata": {
        "colab": {
          "base_uri": "https://localhost:8080/"
        },
        "id": "wM0F4Hu9fdQz",
        "outputId": "604ab6a4-9ff2-4e5e-fa88-830dc325fa0e"
      },
      "execution_count": 51,
      "outputs": [
        {
          "output_type": "stream",
          "name": "stdout",
          "text": [
            "Saving TensorBoard log files to: tensorflow_hub/cnn_1/20230117-051543\n",
            "Epoch 1/15\n",
            "73/73 [==============================] - 11s 28ms/step - loss: 0.6434 - accuracy: 0.6454 - val_loss: 0.6312 - val_accuracy: 0.6798\n",
            "Epoch 2/15\n",
            "73/73 [==============================] - 1s 17ms/step - loss: 0.5759 - accuracy: 0.7050 - val_loss: 0.6099 - val_accuracy: 0.6627\n",
            "Epoch 3/15\n",
            "73/73 [==============================] - 1s 19ms/step - loss: 0.5331 - accuracy: 0.7363 - val_loss: 0.5706 - val_accuracy: 0.6952\n",
            "Epoch 4/15\n",
            "73/73 [==============================] - 1s 17ms/step - loss: 0.4888 - accuracy: 0.7573 - val_loss: 0.5607 - val_accuracy: 0.7295\n",
            "Epoch 5/15\n",
            "73/73 [==============================] - 1s 17ms/step - loss: 0.4792 - accuracy: 0.7646 - val_loss: 0.6277 - val_accuracy: 0.6575\n",
            "Epoch 6/15\n",
            "73/73 [==============================] - 1s 17ms/step - loss: 0.4450 - accuracy: 0.7942 - val_loss: 0.6427 - val_accuracy: 0.6935\n",
            "Epoch 7/15\n",
            "73/73 [==============================] - 1s 17ms/step - loss: 0.4032 - accuracy: 0.8169 - val_loss: 0.5822 - val_accuracy: 0.7072\n",
            "Epoch 8/15\n",
            "73/73 [==============================] - 1s 19ms/step - loss: 0.3656 - accuracy: 0.8452 - val_loss: 0.6152 - val_accuracy: 0.6969\n",
            "Epoch 9/15\n",
            "73/73 [==============================] - 1s 19ms/step - loss: 0.3700 - accuracy: 0.8396 - val_loss: 0.6735 - val_accuracy: 0.7226\n",
            "Epoch 10/15\n",
            "73/73 [==============================] - 1s 17ms/step - loss: 0.3133 - accuracy: 0.8606 - val_loss: 0.6349 - val_accuracy: 0.6815\n",
            "Epoch 11/15\n",
            "73/73 [==============================] - 1s 17ms/step - loss: 0.2592 - accuracy: 0.8988 - val_loss: 0.6679 - val_accuracy: 0.6969\n",
            "Epoch 12/15\n",
            "73/73 [==============================] - 1s 17ms/step - loss: 0.2249 - accuracy: 0.9147 - val_loss: 0.7261 - val_accuracy: 0.7072\n",
            "Epoch 13/15\n",
            "73/73 [==============================] - 1s 17ms/step - loss: 0.1934 - accuracy: 0.9314 - val_loss: 0.7510 - val_accuracy: 0.6901\n",
            "Epoch 14/15\n",
            "73/73 [==============================] - 1s 19ms/step - loss: 0.1529 - accuracy: 0.9468 - val_loss: 0.8141 - val_accuracy: 0.7055\n",
            "Epoch 15/15\n",
            "73/73 [==============================] - 1s 17ms/step - loss: 0.1291 - accuracy: 0.9567 - val_loss: 0.8963 - val_accuracy: 0.7192\n"
          ]
        }
      ]
    },
    {
      "cell_type": "markdown",
      "source": [
        "- **When a model's validation loss starts to increase, it's likely that it's overfitting the training dataset. This means, it's learning the patterns in the training dataset too well and thus its ability to generalize to unseen data will be diminished**"
      ],
      "metadata": {
        "id": "ASC0Z_2qYyfk"
      }
    },
    {
      "cell_type": "code",
      "source": [
        "cnn_1.evaluate(X_test_scaled, y_test)"
      ],
      "metadata": {
        "id": "i7xuyKMyS01h",
        "colab": {
          "base_uri": "https://localhost:8080/"
        },
        "outputId": "e8a4ab23-e258-431e-9eea-744e32a4d63e"
      },
      "execution_count": 52,
      "outputs": [
        {
          "output_type": "stream",
          "name": "stdout",
          "text": [
            "23/23 [==============================] - 0s 16ms/step - loss: 0.8947 - accuracy: 0.7257\n"
          ]
        },
        {
          "output_type": "execute_result",
          "data": {
            "text/plain": [
              "[0.8946864604949951, 0.7256515622138977]"
            ]
          },
          "metadata": {},
          "execution_count": 52
        }
      ]
    },
    {
      "cell_type": "markdown",
      "source": [
        "- **The model improved and generalized better on the test data after adding the MaxPool Layer**"
      ],
      "metadata": {
        "id": "XXgO1Hbx7_vq"
      }
    },
    {
      "cell_type": "markdown",
      "source": [
        "### **CREATE A FUNCTION THAT PLOTS LOSS AND ACCURACY CURVE FOR TRAINING AND VALIDATION DATA SEPARATELY**"
      ],
      "metadata": {
        "id": "_03XieoIYyEg"
      }
    },
    {
      "cell_type": "code",
      "source": [
        "# plot the validation and training data separately \n",
        "def plot_loss_curves(history): \n",
        "  '''\n",
        "  Returns separate loss and accuracy curves for training and validation metrics\n",
        "  '''\n",
        "  loss = history.history['loss']\n",
        "  val_loss = history.history['val_loss'] \n",
        "\n",
        "  accuracy = history.history['accuracy']\n",
        "  val_accuracy = history.history['val_accuracy'] \n",
        "\n",
        "  epochs = range(len(history.history['loss'])) \n",
        "\n",
        "  # plot loss \n",
        "  plt.plot(epochs, loss, label = 'training_loss')\n",
        "  plt.plot(epochs, val_loss, label = 'Val_loss')\n",
        "  plt.xlabel('Epochs')\n",
        "  plt.title('Loss curve')\n",
        "  plt.legend()\n",
        "\n",
        "  # plot accuarcy \n",
        "  plt.figure()\n",
        "  plt.plot(epochs, accuracy, label = 'training_accuracy')\n",
        "  plt.plot(epochs, val_accuracy, label = 'val_accuracy')\n",
        "  plt.xlabel('Epochs')\n",
        "  plt.title('Accuracy curve')\n",
        "  plt.legend();"
      ],
      "metadata": {
        "id": "zxhqDNy9Yx06"
      },
      "execution_count": 53,
      "outputs": []
    },
    {
      "cell_type": "code",
      "source": [
        "# loss and accuracy curve\n",
        "plot_loss_curves(history_1)"
      ],
      "metadata": {
        "colab": {
          "base_uri": "https://localhost:8080/",
          "height": 573
        },
        "id": "UiY7Ii4v-9L_",
        "outputId": "10313e8e-2cf7-47e3-c9b0-05506e3cb7b8"
      },
      "execution_count": 54,
      "outputs": [
        {
          "output_type": "display_data",
          "data": {
            "text/plain": [
              "<Figure size 432x288 with 1 Axes>"
            ],
            "image/png": "[encoded data removed]"
          },
          "metadata": {
            "needs_background": "light"
          }
        },
        {
          "output_type": "display_data",
          "data": {
            "text/plain": [
              "<Figure size 432x288 with 1 Axes>"
            ],
            "image/png": "[encoded data removed]"
          },
          "metadata": {
            "needs_background": "light"
          }
        }
      ]
    },
    {
      "cell_type": "markdown",
      "source": [
        "### **PERFORM DATA AUGMENTATION**"
      ],
      "metadata": {
        "id": "ZOsvjfMhSBV6"
      }
    },
    {
      "cell_type": "code",
      "source": [
        "from tensorflow.keras import layers\n",
        "data_augmentation = Sequential([\n",
        "    layers.experimental.preprocessing.RandomContrast(0.5), \n",
        "    layers.experimental.preprocessing.RandomFlip(mode = \"horizontal\"), \n",
        "    layers.experimental.preprocessing.RandomZoom(0.2)\n",
        "])"
      ],
      "metadata": {
        "id": "-v1fDRaM_bq0"
      },
      "execution_count": 55,
      "outputs": []
    },
    {
      "cell_type": "markdown",
      "source": [
        "### **CNN MODEL WITH AUGMENTED DATA AND DROPOUT REGULARIZATION**"
      ],
      "metadata": {
        "id": "Qyq2LYsV_beK"
      }
    },
    {
      "cell_type": "code",
      "source": [
        "# create a model \n",
        "tf.random.set_seed(42)\n",
        "cnn_2 = Sequential([ \n",
        "    data_augmentation,\n",
        "    Conv2D(filters = 16, \n",
        "           kernel_size = 3, # can also be (3, 3) \n",
        "           padding = 'same', \n",
        "           activation = 'relu', \n",
        "           input_shape = (160, 160, 3)), \n",
        "    Conv2D(16, 3, padding = 'same', activation = 'relu'), \n",
        "    Conv2D(16, 3, padding = 'same', activation = 'relu'),\n",
        "    Conv2D(16, 3, padding = 'same', activation = 'relu'), \n",
        "    Flatten(),\n",
        "    Dropout(0.5),\n",
        "    Dense(500, activation = 'relu'), \n",
        "    Dropout(0.5),\n",
        "    Dense(2, activation = 'sigmoid')\n",
        "])"
      ],
      "metadata": {
        "id": "gy0YPpvWSBPT"
      },
      "execution_count": 56,
      "outputs": []
    },
    {
      "cell_type": "code",
      "source": [
        "# compile the model\n",
        "cnn_2.compile(loss = tf.keras.losses.SparseCategoricalCrossentropy(), \n",
        "              optimizer = 'adam', \n",
        "              metrics = ['accuracy'])"
      ],
      "metadata": {
        "id": "DrkhIyOxSMsA"
      },
      "execution_count": 57,
      "outputs": []
    },
    {
      "cell_type": "code",
      "source": [
        "# fit the model\n",
        "history_2 = cnn_2.fit(x = X_train_scaled, \n",
        "                      y = y_train,  \n",
        "                      epochs = 20, validation_data = (X_valid_scaled, y_valid), \n",
        "                      callbacks = [create_tensorboard_callback('tensorflow_hub', 'cnn_2')]) "
      ],
      "metadata": {
        "colab": {
          "base_uri": "https://localhost:8080/"
        },
        "id": "esbr9dE8STHK",
        "outputId": "508c23cf-b7df-4a4b-895c-195587e2d74e"
      },
      "execution_count": 59,
      "outputs": [
        {
          "output_type": "stream",
          "name": "stdout",
          "text": [
            "Saving TensorBoard log files to: tensorflow_hub/cnn_2/20230117-052128\n",
            "Epoch 1/20\n",
            "73/73 [==============================] - 24s 326ms/step - loss: 0.4415 - accuracy: 0.7967 - val_loss: 0.5317 - val_accuracy: 0.7637\n",
            "Epoch 2/20\n",
            "73/73 [==============================] - 15s 210ms/step - loss: 0.4248 - accuracy: 0.8113 - val_loss: 0.5438 - val_accuracy: 0.7568\n",
            "Epoch 3/20\n",
            "73/73 [==============================] - 15s 211ms/step - loss: 0.4225 - accuracy: 0.8135 - val_loss: 0.5603 - val_accuracy: 0.7740\n",
            "Epoch 4/20\n",
            "73/73 [==============================] - 15s 207ms/step - loss: 0.4209 - accuracy: 0.8139 - val_loss: 0.5589 - val_accuracy: 0.7654\n",
            "Epoch 5/20\n",
            "73/73 [==============================] - 15s 210ms/step - loss: 0.4029 - accuracy: 0.8225 - val_loss: 0.5466 - val_accuracy: 0.7620\n",
            "Epoch 6/20\n",
            "73/73 [==============================] - 15s 209ms/step - loss: 0.3917 - accuracy: 0.8319 - val_loss: 0.5596 - val_accuracy: 0.7671\n",
            "Epoch 7/20\n",
            "73/73 [==============================] - 15s 211ms/step - loss: 0.3958 - accuracy: 0.8195 - val_loss: 0.5128 - val_accuracy: 0.7723\n",
            "Epoch 8/20\n",
            "73/73 [==============================] - 16s 217ms/step - loss: 0.3776 - accuracy: 0.8358 - val_loss: 0.5846 - val_accuracy: 0.7603\n",
            "Epoch 9/20\n",
            "73/73 [==============================] - 15s 205ms/step - loss: 0.3896 - accuracy: 0.8306 - val_loss: 0.5248 - val_accuracy: 0.7740\n",
            "Epoch 10/20\n",
            "73/73 [==============================] - 15s 207ms/step - loss: 0.3572 - accuracy: 0.8542 - val_loss: 0.5365 - val_accuracy: 0.7688\n",
            "Epoch 11/20\n",
            "73/73 [==============================] - 15s 210ms/step - loss: 0.3709 - accuracy: 0.8366 - val_loss: 0.5402 - val_accuracy: 0.7688\n",
            "Epoch 12/20\n",
            "73/73 [==============================] - 17s 227ms/step - loss: 0.3276 - accuracy: 0.8632 - val_loss: 0.5654 - val_accuracy: 0.7842\n",
            "Epoch 13/20\n",
            "73/73 [==============================] - 15s 206ms/step - loss: 0.3389 - accuracy: 0.8482 - val_loss: 0.5721 - val_accuracy: 0.7568\n",
            "Epoch 14/20\n",
            "73/73 [==============================] - 15s 211ms/step - loss: 0.3424 - accuracy: 0.8636 - val_loss: 0.5424 - val_accuracy: 0.7534\n",
            "Epoch 15/20\n",
            "73/73 [==============================] - 15s 206ms/step - loss: 0.3154 - accuracy: 0.8731 - val_loss: 0.5834 - val_accuracy: 0.7723\n",
            "Epoch 16/20\n",
            "73/73 [==============================] - 15s 210ms/step - loss: 0.3139 - accuracy: 0.8761 - val_loss: 0.6256 - val_accuracy: 0.7620\n",
            "Epoch 17/20\n",
            "73/73 [==============================] - 15s 209ms/step - loss: 0.3009 - accuracy: 0.8718 - val_loss: 0.6487 - val_accuracy: 0.7654\n",
            "Epoch 18/20\n",
            "73/73 [==============================] - 15s 209ms/step - loss: 0.2852 - accuracy: 0.8782 - val_loss: 0.6315 - val_accuracy: 0.7791\n",
            "Epoch 19/20\n",
            "73/73 [==============================] - 15s 207ms/step - loss: 0.3036 - accuracy: 0.8799 - val_loss: 0.5666 - val_accuracy: 0.7740\n",
            "Epoch 20/20\n",
            "73/73 [==============================] - 15s 207ms/step - loss: 0.2774 - accuracy: 0.8864 - val_loss: 0.6956 - val_accuracy: 0.7705\n"
          ]
        }
      ]
    },
    {
      "cell_type": "markdown",
      "source": [
        "### **MODEL SUMMARY**"
      ],
      "metadata": {
        "id": "aenNS3p9Xc5T"
      }
    },
    {
      "cell_type": "code",
      "source": [
        "cnn_2.summary()"
      ],
      "metadata": {
        "colab": {
          "base_uri": "https://localhost:8080/"
        },
        "id": "DKTIC-LDXhhT",
        "outputId": "ceae99a3-eefb-4f0f-b1e5-30ffbe026942"
      },
      "execution_count": 60,
      "outputs": [
        {
          "output_type": "stream",
          "name": "stdout",
          "text": [
            "Model: \"sequential_2\"\n",
            "_________________________________________________________________\n",
            " Layer (type)                Output Shape              Param #   \n",
            "=================================================================\n",
            " sequential_1 (Sequential)   (None, 160, 160, 3)       0         \n",
            "                                                                 \n",
            " conv2d_3 (Conv2D)           (None, 160, 160, 16)      448       \n",
            "                                                                 \n",
            " conv2d_4 (Conv2D)           (None, 160, 160, 16)      2320      \n",
            "                                                                 \n",
            " conv2d_5 (Conv2D)           (None, 160, 160, 16)      2320      \n",
            "                                                                 \n",
            " conv2d_6 (Conv2D)           (None, 160, 160, 16)      2320      \n",
            "                                                                 \n",
            " flatten_1 (Flatten)         (None, 409600)            0         \n",
            "                                                                 \n",
            " dropout (Dropout)           (None, 409600)            0         \n",
            "                                                                 \n",
            " dense_1 (Dense)             (None, 500)               204800500 \n",
            "                                                                 \n",
            " dropout_1 (Dropout)         (None, 500)               0         \n",
            "                                                                 \n",
            " dense_2 (Dense)             (None, 2)                 1002      \n",
            "                                                                 \n",
            "=================================================================\n",
            "Total params: 204,808,910\n",
            "Trainable params: 204,808,910\n",
            "Non-trainable params: 0\n",
            "_________________________________________________________________\n"
          ]
        }
      ]
    },
    {
      "cell_type": "markdown",
      "source": [
        "### **MODEL EVALUATION**"
      ],
      "metadata": {
        "id": "oMuL4b_zXtVd"
      }
    },
    {
      "cell_type": "code",
      "source": [
        "cnn_2.evaluate(X_test_scaled, y_test)"
      ],
      "metadata": {
        "colab": {
          "base_uri": "https://localhost:8080/"
        },
        "id": "AgZnzo_zSYxi",
        "outputId": "435cf0b9-9f6d-4009-f9c9-f2961d7ee06f"
      },
      "execution_count": 61,
      "outputs": [
        {
          "output_type": "stream",
          "name": "stdout",
          "text": [
            "23/23 [==============================] - 1s 27ms/step - loss: 0.5906 - accuracy: 0.7888\n"
          ]
        },
        {
          "output_type": "execute_result",
          "data": {
            "text/plain": [
              "[0.5905647277832031, 0.7887517213821411]"
            ]
          },
          "metadata": {},
          "execution_count": 61
        }
      ]
    },
    {
      "cell_type": "markdown",
      "source": [
        "- **This model generalized better compared to the previous ones**"
      ],
      "metadata": {
        "id": "HOkKsaP8Yql3"
      }
    },
    {
      "cell_type": "code",
      "source": [
        "# loss and accuracy curve\n",
        "plot_loss_curves(history_2)"
      ],
      "metadata": {
        "colab": {
          "base_uri": "https://localhost:8080/",
          "height": 573
        },
        "id": "eDiRDcw_K7Rt",
        "outputId": "7d573f51-6b30-488d-904d-4e6e79965065"
      },
      "execution_count": 62,
      "outputs": [
        {
          "output_type": "display_data",
          "data": {
            "text/plain": [
              "<Figure size 432x288 with 1 Axes>"
            ],
            "image/png": "[encoded data removed]"
          },
          "metadata": {
            "needs_background": "light"
          }
        },
        {
          "output_type": "display_data",
          "data": {
            "text/plain": [
              "<Figure size 432x288 with 1 Axes>"
            ],
            "image/png": "[encoded data removed]"
          },
          "metadata": {
            "needs_background": "light"
          }
        }
      ]
    },
    {
      "cell_type": "markdown",
      "source": [
        "### **TEST DATA PREDICTION**"
      ],
      "metadata": {
        "id": "yT2gff5OX3hA"
      }
    },
    {
      "cell_type": "code",
      "source": [
        "# prediction probabilities\n",
        "cnn_2_pred_probs = cnn_2.predict(X_test_scaled)"
      ],
      "metadata": {
        "colab": {
          "base_uri": "https://localhost:8080/"
        },
        "id": "_aVqnAQ5S4XI",
        "outputId": "8c685e2b-73d8-44bf-a2d0-8424dd1a8517"
      },
      "execution_count": 63,
      "outputs": [
        {
          "output_type": "stream",
          "name": "stdout",
          "text": [
            "23/23 [==============================] - 1s 21ms/step\n"
          ]
        }
      ]
    },
    {
      "cell_type": "code",
      "source": [
        "# prediction class \n",
        "cnn_2_pred = cnn_2_pred_probs.argmax(axis = 1) \n",
        "cnn_2_pred[:10]"
      ],
      "metadata": {
        "colab": {
          "base_uri": "https://localhost:8080/"
        },
        "id": "ai3SQQ9ITAO8",
        "outputId": "c28987ac-871a-4b43-ea48-f06f5758de2f"
      },
      "execution_count": 64,
      "outputs": [
        {
          "output_type": "execute_result",
          "data": {
            "text/plain": [
              "array([0, 0, 0, 1, 0, 1, 1, 0, 0, 0])"
            ]
          },
          "metadata": {},
          "execution_count": 64
        }
      ]
    },
    {
      "cell_type": "markdown",
      "source": [
        "### **CONFUSION MATRIX AND CLASSIFICATION REPORT**"
      ],
      "metadata": {
        "id": "7f9AdQafX9YU"
      }
    },
    {
      "cell_type": "code",
      "source": [
        "# confusion matrix\n",
        "from sklearn.metrics import confusion_matrix, classification_report\n",
        "confusion_matrix(y_true=y_test, \n",
        "                 y_pred=cnn_2_pred)"
      ],
      "metadata": {
        "id": "WenhbQhhW7UN",
        "colab": {
          "base_uri": "https://localhost:8080/"
        },
        "outputId": "7d3429a6-d5b7-4b90-ac51-f299d233fd0d"
      },
      "execution_count": 65,
      "outputs": [
        {
          "output_type": "execute_result",
          "data": {
            "text/plain": [
              "array([[382,  52],\n",
              "       [102, 193]])"
            ]
          },
          "metadata": {},
          "execution_count": 65
        }
      ]
    },
    {
      "cell_type": "code",
      "source": [
        "# prettified confusion matrix\n",
        "import seaborn as sns\n",
        "plt.figure(figsize = (8, 6))\n",
        "sns.heatmap(confusion_matrix(y_true=y_test, \n",
        "                 y_pred=cnn_2_pred), annot = True, fmt = 'd', linewidth = 0.4)\n",
        "plt.show()"
      ],
      "metadata": {
        "colab": {
          "base_uri": "https://localhost:8080/",
          "height": 374
        },
        "id": "itJyLgdYSON2",
        "outputId": "cab45c18-c23f-42b5-d6d6-d6798c27a02c"
      },
      "execution_count": 66,
      "outputs": [
        {
          "output_type": "display_data",
          "data": {
            "text/plain": [
              "<Figure size 576x432 with 2 Axes>"
            ],
            "image/png": "[encoded data removed]"
          },
          "metadata": {
            "needs_background": "light"
          }
        }
      ]
    },
    {
      "cell_type": "code",
      "source": [
        "# recall, precision, f1-score\n",
        "print(classification_report(y_true=y_test, \n",
        "                 y_pred=cnn_2_pred))"
      ],
      "metadata": {
        "colab": {
          "base_uri": "https://localhost:8080/"
        },
        "id": "l5oN_UIHShiW",
        "outputId": "393ef4c3-d00f-406d-f016-9975fe0b5a4f"
      },
      "execution_count": 67,
      "outputs": [
        {
          "output_type": "stream",
          "name": "stdout",
          "text": [
            "              precision    recall  f1-score   support\n",
            "\n",
            "           0       0.79      0.88      0.83       434\n",
            "           1       0.79      0.65      0.71       295\n",
            "\n",
            "    accuracy                           0.79       729\n",
            "   macro avg       0.79      0.77      0.77       729\n",
            "weighted avg       0.79      0.79      0.78       729\n",
            "\n"
          ]
        }
      ]
    },
    {
      "cell_type": "markdown",
      "source": [
        "### **SAVE THE MODEL**"
      ],
      "metadata": {
        "id": "snXgNAq8S44J"
      }
    },
    {
      "cell_type": "code",
      "source": [
        "cnn_2.save('Emervgency_vs_Non_emergency_CNN_clf.h5')"
      ],
      "metadata": {
        "id": "4ncChqWEW-gR"
      },
      "execution_count": null,
      "outputs": []
    },
    {
      "cell_type": "markdown",
      "source": [
        "### **TRANSFER LEARNING** \n",
        "\n",
        "#### **Model Architecture to use** \n",
        "> - **imagenet/mobilenet_v2_100_160/feature_vector**"
      ],
      "metadata": {
        "id": "Jl9YAmgyXM0E"
      }
    },
    {
      "cell_type": "code",
      "source": [
        "mobilenetv2_url = 'https://tfhub.dev/google/imagenet/mobilenet_v2_100_160/feature_vector/5'"
      ],
      "metadata": {
        "id": "iOMQBBtcBLcK"
      },
      "execution_count": 68,
      "outputs": []
    },
    {
      "cell_type": "code",
      "source": [
        "import tensorflow_hub as hub"
      ],
      "metadata": {
        "id": "BznG2YyvEsiq"
      },
      "execution_count": 69,
      "outputs": []
    },
    {
      "cell_type": "code",
      "source": [
        "# create the transfer learning model\n",
        "mobilenet_model = tf.keras.Sequential([\n",
        "    hub.KerasLayer(mobilenetv2_url, trainable = False, \n",
        "                   name = 'Feature_Extractor_Layer', input_shape = (160, 160, 3)), \n",
        "    layers.Dense(2, activation = 'sigmoid', name = 'output_layer')\n",
        "])"
      ],
      "metadata": {
        "id": "D4msfgBWBvbP"
      },
      "execution_count": 70,
      "outputs": []
    },
    {
      "cell_type": "code",
      "source": [
        "# compile the model\n",
        "mobilenet_model.compile(loss = tf.keras.losses.SparseCategoricalCrossentropy(), \n",
        "                        optimizer = tf.keras.optimizers.Adam(), \n",
        "                        metrics = ['accuracy'])"
      ],
      "metadata": {
        "id": "y215PJ7nDvgG"
      },
      "execution_count": 71,
      "outputs": []
    },
    {
      "cell_type": "code",
      "source": [
        "# fit the model\n",
        "mobilenet_model_history = mobilenet_model.fit(x = X_train_scaled, \n",
        "                      y = y_train,  \n",
        "                      epochs = 7, validation_data = (X_valid_scaled, y_valid), \n",
        "                      callbacks = [create_tensorboard_callback('tensorflow_hub', 'mobilenet_model')]) "
      ],
      "metadata": {
        "colab": {
          "base_uri": "https://localhost:8080/"
        },
        "id": "V6GiuHDREQ8U",
        "outputId": "a930c021-c6b6-4c2a-ffdb-8b600f36a66a"
      },
      "execution_count": 72,
      "outputs": [
        {
          "output_type": "stream",
          "name": "stdout",
          "text": [
            "Saving TensorBoard log files to: tensorflow_hub/mobilenet_model/20230117-052834\n",
            "Epoch 1/7\n",
            "73/73 [==============================] - 13s 63ms/step - loss: 0.4325 - accuracy: 0.8045 - val_loss: 0.3414 - val_accuracy: 0.8613\n",
            "Epoch 2/7\n",
            "73/73 [==============================] - 2s 34ms/step - loss: 0.2943 - accuracy: 0.8748 - val_loss: 0.3158 - val_accuracy: 0.8664\n",
            "Epoch 3/7\n",
            "73/73 [==============================] - 2s 30ms/step - loss: 0.2594 - accuracy: 0.8945 - val_loss: 0.3058 - val_accuracy: 0.8664\n",
            "Epoch 4/7\n",
            "73/73 [==============================] - 2s 30ms/step - loss: 0.2360 - accuracy: 0.9022 - val_loss: 0.3042 - val_accuracy: 0.8699\n",
            "Epoch 5/7\n",
            "73/73 [==============================] - 2s 33ms/step - loss: 0.2175 - accuracy: 0.9082 - val_loss: 0.2995 - val_accuracy: 0.8733\n",
            "Epoch 6/7\n",
            "73/73 [==============================] - 2s 31ms/step - loss: 0.2030 - accuracy: 0.9155 - val_loss: 0.3024 - val_accuracy: 0.8767\n",
            "Epoch 7/7\n",
            "73/73 [==============================] - 3s 39ms/step - loss: 0.1891 - accuracy: 0.9254 - val_loss: 0.2971 - val_accuracy: 0.8750\n"
          ]
        }
      ]
    },
    {
      "cell_type": "code",
      "source": [
        "mobilenet_model.evaluate(X_test_scaled, y_test)"
      ],
      "metadata": {
        "colab": {
          "base_uri": "https://localhost:8080/"
        },
        "id": "zGDuRDhqFUNR",
        "outputId": "a99e3dd1-0b3e-4bb7-ff92-59948736d2eb"
      },
      "execution_count": 73,
      "outputs": [
        {
          "output_type": "stream",
          "name": "stdout",
          "text": [
            "23/23 [==============================] - 1s 39ms/step - loss: 0.2841 - accuracy: 0.8779\n"
          ]
        },
        {
          "output_type": "execute_result",
          "data": {
            "text/plain": [
              "[0.28405022621154785, 0.8779149651527405]"
            ]
          },
          "metadata": {},
          "execution_count": 73
        }
      ]
    },
    {
      "cell_type": "markdown",
      "source": [
        "### **TRANSFER LEARNING LOSS AND ACCURACY CURVE**"
      ],
      "metadata": {
        "id": "Fw5ExMZWFsGx"
      }
    },
    {
      "cell_type": "code",
      "source": [
        "plot_loss_curves(mobilenet_model_history)"
      ],
      "metadata": {
        "colab": {
          "base_uri": "https://localhost:8080/",
          "height": 573
        },
        "id": "I0mRU6-bF3o6",
        "outputId": "8b23fa0d-5936-4a6f-84b0-3d0a4c33afdd"
      },
      "execution_count": 80,
      "outputs": [
        {
          "output_type": "display_data",
          "data": {
            "text/plain": [
              "<Figure size 432x288 with 1 Axes>"
            ],
            "image/png": "[encoded data removed]"
          },
          "metadata": {
            "needs_background": "light"
          }
        },
        {
          "output_type": "display_data",
          "data": {
            "text/plain": [
              "<Figure size 432x288 with 1 Axes>"
            ],
            "image/png": "[encoded data removed]"
          },
          "metadata": {
            "needs_background": "light"
          }
        }
      ]
    },
    {
      "cell_type": "markdown",
      "source": [
        "### **TRANSFER LEARNING TEST DATA PREDICTION**"
      ],
      "metadata": {
        "id": "_wfrXRlDGd0R"
      }
    },
    {
      "cell_type": "code",
      "source": [
        "# prediction probabilities\n",
        "mobilenet_pred_probs = mobilenet_model.predict(X_test_scaled) \n",
        "mobilenet_pred_probs[0]"
      ],
      "metadata": {
        "colab": {
          "base_uri": "https://localhost:8080/"
        },
        "id": "vz1t6nYvGCUw",
        "outputId": "f7858cbd-7831-496e-fccb-0f641d9261b5"
      },
      "execution_count": 74,
      "outputs": [
        {
          "output_type": "stream",
          "name": "stdout",
          "text": [
            "23/23 [==============================] - 1s 24ms/step\n"
          ]
        },
        {
          "output_type": "execute_result",
          "data": {
            "text/plain": [
              "array([0.85542464, 0.12282786], dtype=float32)"
            ]
          },
          "metadata": {},
          "execution_count": 74
        }
      ]
    },
    {
      "cell_type": "code",
      "source": [
        "# prediction class \n",
        "mobilenet_pred = mobilenet_pred_probs.argmax(axis = 1) \n",
        "mobilenet_pred[:10]"
      ],
      "metadata": {
        "colab": {
          "base_uri": "https://localhost:8080/"
        },
        "id": "YxxzOb2xGdEe",
        "outputId": "cd14514c-82fa-47b6-c87b-8b15e3c3be3f"
      },
      "execution_count": 75,
      "outputs": [
        {
          "output_type": "execute_result",
          "data": {
            "text/plain": [
              "array([0, 1, 0, 0, 1, 1, 1, 0, 0, 0])"
            ]
          },
          "metadata": {},
          "execution_count": 75
        }
      ]
    },
    {
      "cell_type": "markdown",
      "source": [
        "### **TRANSFER LEARNING CONFUSION MATRIX AND CLASSIFICATION REPORT**"
      ],
      "metadata": {
        "id": "nZWYbxWTHD4I"
      }
    },
    {
      "cell_type": "code",
      "source": [
        "# confusion matrix\n",
        "from sklearn.metrics import confusion_matrix, classification_report\n",
        "confusion_matrix(y_true=y_test, \n",
        "                 y_pred=mobilenet_pred)"
      ],
      "metadata": {
        "colab": {
          "base_uri": "https://localhost:8080/"
        },
        "id": "DDpi92wYG5ja",
        "outputId": "f95f13f9-dc2d-46c1-e27d-e608ac0c5924"
      },
      "execution_count": 76,
      "outputs": [
        {
          "output_type": "execute_result",
          "data": {
            "text/plain": [
              "array([[389,  45],\n",
              "       [ 44, 251]])"
            ]
          },
          "metadata": {},
          "execution_count": 76
        }
      ]
    },
    {
      "cell_type": "code",
      "source": [
        "# prettified confusion matrix\n",
        "import seaborn as sns\n",
        "plt.figure(figsize = (8, 6))\n",
        "sns.heatmap(confusion_matrix(y_true=y_test, \n",
        "                 y_pred=mobilenet_pred), annot = True, fmt = 'd', linewidth = 0.4)\n",
        "plt.show()"
      ],
      "metadata": {
        "colab": {
          "base_uri": "https://localhost:8080/",
          "height": 374
        },
        "id": "-wa-jukbHUVo",
        "outputId": "001bf457-489b-4661-d6b4-bbe1d15e25d2"
      },
      "execution_count": 77,
      "outputs": [
        {
          "output_type": "display_data",
          "data": {
            "text/plain": [
              "<Figure size 576x432 with 2 Axes>"
            ],
            "image/png": "[encoded data removed]"
          },
          "metadata": {
            "needs_background": "light"
          }
        }
      ]
    },
    {
      "cell_type": "code",
      "source": [
        "# recall, precision, f1-score\n",
        "print(classification_report(y_true=y_test, \n",
        "                 y_pred=mobilenet_pred))"
      ],
      "metadata": {
        "colab": {
          "base_uri": "https://localhost:8080/"
        },
        "id": "Q_TMpmYFHRVF",
        "outputId": "e739863b-e899-49c2-ca0c-0d4c83abf16f"
      },
      "execution_count": 78,
      "outputs": [
        {
          "output_type": "stream",
          "name": "stdout",
          "text": [
            "              precision    recall  f1-score   support\n",
            "\n",
            "           0       0.90      0.90      0.90       434\n",
            "           1       0.85      0.85      0.85       295\n",
            "\n",
            "    accuracy                           0.88       729\n",
            "   macro avg       0.87      0.87      0.87       729\n",
            "weighted avg       0.88      0.88      0.88       729\n",
            "\n"
          ]
        }
      ]
    },
    {
      "cell_type": "markdown",
      "source": [
        "### **SAVE THE MODEL**"
      ],
      "metadata": {
        "id": "YH1oLBasHXGm"
      }
    },
    {
      "cell_type": "code",
      "source": [
        "mobilenet_model.save('mobilenetV2_TL_model.h5')"
      ],
      "metadata": {
        "id": "bAPmRybgHzku"
      },
      "execution_count": 87,
      "outputs": []
    },
    {
      "cell_type": "markdown",
      "source": [
        "### **UPLOADING MODELS TO TENSORBOARD**"
      ],
      "metadata": {
        "id": "ecG9XW3lIgGm"
      }
    },
    {
      "cell_type": "code",
      "source": [
        "# Upload TensorBoard dev records\n",
        "!tensorboard dev upload --logdir ./tensorflow_hub/ \\\n",
        "  --name \"CNN_maxpool vs CNN_aug vs MobileNetV2\" \\\n",
        "  --description \"Comparing two different TF Hub feature extraction models architectures using 10% of training images\" \\\n",
        "  --one_shot"
      ],
      "metadata": {
        "colab": {
          "base_uri": "https://localhost:8080/"
        },
        "id": "gXIgWstmIBwY",
        "outputId": "4cc40b68-916b-42f7-b97c-473f93b14df9"
      },
      "execution_count": 79,
      "outputs": [
        {
          "output_type": "stream",
          "name": "stdout",
          "text": [
            "\n",
            "***** TensorBoard Uploader *****\n",
            "\n",
            "This will upload your TensorBoard logs to https://tensorboard.dev/ from\n",
            "the following directory:\n",
            "\n",
            "./tensorflow_hub/\n",
            "\n",
            "This TensorBoard will be visible to everyone. Do not upload sensitive\n",
            "data.\n",
            "\n",
            "Your use of this service is subject to Google's Terms of Service\n",
            "<https://policies.google.com/terms> and Privacy Policy\n",
            "<https://policies.google.com/privacy>, and TensorBoard.dev's Terms of Service\n",
            "<https://tensorboard.dev/policy/terms/>.\n",
            "\n",
            "This notice will not be shown again while you are logged into the uploader.\n",
            "To log out, run `tensorboard dev auth revoke`.\n",
            "\n",
            "Continue? (yes/NO) yes\n",
            "\n",
            "Please visit this URL to authorize this application: https://accounts.google.com/o/oauth2/auth?response_type=code&client_id=373649185512-8v619h5kft38l4456nm2dj4ubeqsrvh6.apps.googleusercontent.com&redirect_uri=urn%3Aietf%3Awg%3Aoauth%3A2.0%3Aoob&scope=openid+https%3A%2F%2Fwww.googleapis.com%2Fauth%2Fuserinfo.email&state=O35G03aIfNSKtmV7icfPp06O3mKMxW&prompt=consent&access_type=offline\n",
            "Enter the authorization code: 4/1AWgavdfvPodr8I1gqF68El6HN7FJj2Pg7ZU9xocJOWZtF4TX4Rzq1Gopw08\n",
            "\n",
            "\n",
            "New experiment created. View your TensorBoard at: https://tensorboard.dev/experiment/HZeiOQM5RgWlyUXPXOkYQA/\n",
            "\n",
            "\u001b[1m[2023-01-17T05:31:30]\u001b[0m Started scanning logdir.\n",
            "\u001b[1m[2023-01-17T05:31:42]\u001b[0m Total uploaded: 600 scalars, 0 tensors, 7 binary objects (4.1 MB)\n",
            "\u001b[1m[2023-01-17T05:31:42]\u001b[0m Done scanning logdir.\n",
            "\n",
            "\n",
            "Done. View your TensorBoard at https://tensorboard.dev/experiment/HZeiOQM5RgWlyUXPXOkYQA/\n"
          ]
        }
      ]
    },
    {
      "cell_type": "code",
      "source": [],
      "metadata": {
        "id": "XxO5hv67NQ3N"
      },
      "execution_count": null,
      "outputs": []
    }
  ]
}